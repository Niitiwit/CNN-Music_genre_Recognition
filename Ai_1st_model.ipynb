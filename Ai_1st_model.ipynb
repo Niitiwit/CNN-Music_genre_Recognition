{
 "cells": [
  {
   "cell_type": "code",
   "execution_count": null,
   "metadata": {
    "colab": {
     "base_uri": "https://localhost:8080/"
    },
    "id": "fN4-48Flzvbk",
    "outputId": "b5c814b1-6b99-4c7f-f7a1-58d1c229e512"
   },
   "outputs": [
    {
     "name": "stdout",
     "output_type": "stream",
     "text": [
      "Requirement already satisfied: TensorFlow==2.5 in /usr/local/lib/python3.7/dist-packages (2.5.0)\n",
      "Requirement already satisfied: absl-py~=0.10 in /usr/local/lib/python3.7/dist-packages (from TensorFlow==2.5) (0.15.0)\n",
      "Requirement already satisfied: astunparse~=1.6.3 in /usr/local/lib/python3.7/dist-packages (from TensorFlow==2.5) (1.6.3)\n",
      "Requirement already satisfied: tensorflow-estimator<2.6.0,>=2.5.0rc0 in /usr/local/lib/python3.7/dist-packages (from TensorFlow==2.5) (2.5.0)\n",
      "Requirement already satisfied: h5py~=3.1.0 in /usr/local/lib/python3.7/dist-packages (from TensorFlow==2.5) (3.1.0)\n",
      "Requirement already satisfied: keras-nightly~=2.5.0.dev in /usr/local/lib/python3.7/dist-packages (from TensorFlow==2.5) (2.5.0.dev2021032900)\n",
      "Requirement already satisfied: keras-preprocessing~=1.1.2 in /usr/local/lib/python3.7/dist-packages (from TensorFlow==2.5) (1.1.2)\n",
      "Requirement already satisfied: six~=1.15.0 in /usr/local/lib/python3.7/dist-packages (from TensorFlow==2.5) (1.15.0)\n",
      "Requirement already satisfied: tensorboard~=2.5 in /usr/local/lib/python3.7/dist-packages (from TensorFlow==2.5) (2.8.0)\n",
      "Requirement already satisfied: grpcio~=1.34.0 in /usr/local/lib/python3.7/dist-packages (from TensorFlow==2.5) (1.34.1)\n",
      "Requirement already satisfied: opt-einsum~=3.3.0 in /usr/local/lib/python3.7/dist-packages (from TensorFlow==2.5) (3.3.0)\n",
      "Requirement already satisfied: flatbuffers~=1.12.0 in /usr/local/lib/python3.7/dist-packages (from TensorFlow==2.5) (1.12)\n",
      "Requirement already satisfied: wheel~=0.35 in /usr/local/lib/python3.7/dist-packages (from TensorFlow==2.5) (0.37.1)\n",
      "Requirement already satisfied: gast==0.4.0 in /usr/local/lib/python3.7/dist-packages (from TensorFlow==2.5) (0.4.0)\n",
      "Requirement already satisfied: wrapt~=1.12.1 in /usr/local/lib/python3.7/dist-packages (from TensorFlow==2.5) (1.12.1)\n",
      "Requirement already satisfied: termcolor~=1.1.0 in /usr/local/lib/python3.7/dist-packages (from TensorFlow==2.5) (1.1.0)\n",
      "Requirement already satisfied: protobuf>=3.9.2 in /usr/local/lib/python3.7/dist-packages (from TensorFlow==2.5) (3.17.3)\n",
      "Requirement already satisfied: typing-extensions~=3.7.4 in /usr/local/lib/python3.7/dist-packages (from TensorFlow==2.5) (3.7.4.3)\n",
      "Requirement already satisfied: google-pasta~=0.2 in /usr/local/lib/python3.7/dist-packages (from TensorFlow==2.5) (0.2.0)\n",
      "Requirement already satisfied: numpy~=1.19.2 in /usr/local/lib/python3.7/dist-packages (from TensorFlow==2.5) (1.19.5)\n",
      "Requirement already satisfied: cached-property in /usr/local/lib/python3.7/dist-packages (from h5py~=3.1.0->TensorFlow==2.5) (1.5.2)\n",
      "Requirement already satisfied: setuptools>=41.0.0 in /usr/local/lib/python3.7/dist-packages (from tensorboard~=2.5->TensorFlow==2.5) (57.4.0)\n",
      "Requirement already satisfied: requests<3,>=2.21.0 in /usr/local/lib/python3.7/dist-packages (from tensorboard~=2.5->TensorFlow==2.5) (2.23.0)\n",
      "Requirement already satisfied: markdown>=2.6.8 in /usr/local/lib/python3.7/dist-packages (from tensorboard~=2.5->TensorFlow==2.5) (3.3.6)\n",
      "Requirement already satisfied: google-auth<3,>=1.6.3 in /usr/local/lib/python3.7/dist-packages (from tensorboard~=2.5->TensorFlow==2.5) (1.35.0)\n",
      "Requirement already satisfied: werkzeug>=0.11.15 in /usr/local/lib/python3.7/dist-packages (from tensorboard~=2.5->TensorFlow==2.5) (1.0.1)\n",
      "Requirement already satisfied: tensorboard-plugin-wit>=1.6.0 in /usr/local/lib/python3.7/dist-packages (from tensorboard~=2.5->TensorFlow==2.5) (1.8.1)\n",
      "Requirement already satisfied: google-auth-oauthlib<0.5,>=0.4.1 in /usr/local/lib/python3.7/dist-packages (from tensorboard~=2.5->TensorFlow==2.5) (0.4.6)\n",
      "Requirement already satisfied: tensorboard-data-server<0.7.0,>=0.6.0 in /usr/local/lib/python3.7/dist-packages (from tensorboard~=2.5->TensorFlow==2.5) (0.6.1)\n",
      "Requirement already satisfied: pyasn1-modules>=0.2.1 in /usr/local/lib/python3.7/dist-packages (from google-auth<3,>=1.6.3->tensorboard~=2.5->TensorFlow==2.5) (0.2.8)\n",
      "Requirement already satisfied: cachetools<5.0,>=2.0.0 in /usr/local/lib/python3.7/dist-packages (from google-auth<3,>=1.6.3->tensorboard~=2.5->TensorFlow==2.5) (4.2.4)\n",
      "Requirement already satisfied: rsa<5,>=3.1.4 in /usr/local/lib/python3.7/dist-packages (from google-auth<3,>=1.6.3->tensorboard~=2.5->TensorFlow==2.5) (4.8)\n",
      "Requirement already satisfied: requests-oauthlib>=0.7.0 in /usr/local/lib/python3.7/dist-packages (from google-auth-oauthlib<0.5,>=0.4.1->tensorboard~=2.5->TensorFlow==2.5) (1.3.1)\n",
      "Requirement already satisfied: importlib-metadata>=4.4 in /usr/local/lib/python3.7/dist-packages (from markdown>=2.6.8->tensorboard~=2.5->TensorFlow==2.5) (4.11.3)\n",
      "Requirement already satisfied: zipp>=0.5 in /usr/local/lib/python3.7/dist-packages (from importlib-metadata>=4.4->markdown>=2.6.8->tensorboard~=2.5->TensorFlow==2.5) (3.8.0)\n",
      "Requirement already satisfied: pyasn1<0.5.0,>=0.4.6 in /usr/local/lib/python3.7/dist-packages (from pyasn1-modules>=0.2.1->google-auth<3,>=1.6.3->tensorboard~=2.5->TensorFlow==2.5) (0.4.8)\n",
      "Requirement already satisfied: urllib3!=1.25.0,!=1.25.1,<1.26,>=1.21.1 in /usr/local/lib/python3.7/dist-packages (from requests<3,>=2.21.0->tensorboard~=2.5->TensorFlow==2.5) (1.24.3)\n",
      "Requirement already satisfied: certifi>=2017.4.17 in /usr/local/lib/python3.7/dist-packages (from requests<3,>=2.21.0->tensorboard~=2.5->TensorFlow==2.5) (2021.10.8)\n",
      "Requirement already satisfied: chardet<4,>=3.0.2 in /usr/local/lib/python3.7/dist-packages (from requests<3,>=2.21.0->tensorboard~=2.5->TensorFlow==2.5) (3.0.4)\n",
      "Requirement already satisfied: idna<3,>=2.5 in /usr/local/lib/python3.7/dist-packages (from requests<3,>=2.21.0->tensorboard~=2.5->TensorFlow==2.5) (2.10)\n",
      "Requirement already satisfied: oauthlib>=3.0.0 in /usr/local/lib/python3.7/dist-packages (from requests-oauthlib>=0.7.0->google-auth-oauthlib<0.5,>=0.4.1->tensorboard~=2.5->TensorFlow==2.5) (3.2.0)\n"
     ]
    }
   ],
   "source": [
    "!pip install TensorFlow==2.5"
   ]
  },
  {
   "cell_type": "code",
   "execution_count": null,
   "metadata": {
    "colab": {
     "base_uri": "https://localhost:8080/"
    },
    "id": "pYHpwy4ix2fj",
    "outputId": "5b069681-7bce-4a09-fcee-55fde0e8726d"
   },
   "outputs": [
    {
     "name": "stdout",
     "output_type": "stream",
     "text": [
      "Drive already mounted at /content/drive; to attempt to forcibly remount, call drive.mount(\"/content/drive\", force_remount=True).\n"
     ]
    }
   ],
   "source": [
    "from google.colab import drive\n",
    "drive.mount('/content/drive')"
   ]
  },
  {
   "cell_type": "code",
   "execution_count": null,
   "metadata": {
    "id": "1Ncm3BXIxUE3"
   },
   "outputs": [],
   "source": [
    "import os\n",
    "Root = \"/content/drive/MyDrive/dataset/Data\"\n",
    "os.chdir(Root)"
   ]
  },
  {
   "cell_type": "markdown",
   "metadata": {
    "id": "jwBBqDXqUCru"
   },
   "source": [
    "[Dataset](https://www.kaggle.com/andradaolteanu/gtzan-dataset-music-genre-classification)"
   ]
  },
  {
   "cell_type": "code",
   "execution_count": null,
   "metadata": {
    "id": "Rb3qpe0ZxRDN"
   },
   "outputs": [],
   "source": [
    "import pandas as pd\n",
    "import numpy as np\n",
    "import os\n",
    "import IPython.display as ipd\n",
    "import librosa\n",
    "import librosa.display\n",
    "import matplotlib.pyplot as plt\n",
    "%matplotlib inline"
   ]
  },
  {
   "cell_type": "code",
   "execution_count": null,
   "metadata": {
    "colab": {
     "base_uri": "https://localhost:8080/",
     "height": 299
    },
    "id": "-HdNI7kbxRDR",
    "outputId": "4896e7db-3b43-4994-d991-1d820e23be1e"
   },
   "outputs": [
    {
     "data": {
      "text/html": [
       "\n",
       "  <div id=\"df-74fa23c2-ad9e-40eb-b663-cf8f09cc3842\">\n",
       "    <div class=\"colab-df-container\">\n",
       "      <div>\n",
       "<style scoped>\n",
       "    .dataframe tbody tr th:only-of-type {\n",
       "        vertical-align: middle;\n",
       "    }\n",
       "\n",
       "    .dataframe tbody tr th {\n",
       "        vertical-align: top;\n",
       "    }\n",
       "\n",
       "    .dataframe thead th {\n",
       "        text-align: right;\n",
       "    }\n",
       "</style>\n",
       "<table border=\"1\" class=\"dataframe\">\n",
       "  <thead>\n",
       "    <tr style=\"text-align: right;\">\n",
       "      <th></th>\n",
       "      <th>filename</th>\n",
       "      <th>length</th>\n",
       "      <th>chroma_stft_mean</th>\n",
       "      <th>chroma_stft_var</th>\n",
       "      <th>rms_mean</th>\n",
       "      <th>rms_var</th>\n",
       "      <th>spectral_centroid_mean</th>\n",
       "      <th>spectral_centroid_var</th>\n",
       "      <th>spectral_bandwidth_mean</th>\n",
       "      <th>spectral_bandwidth_var</th>\n",
       "      <th>...</th>\n",
       "      <th>mfcc16_var</th>\n",
       "      <th>mfcc17_mean</th>\n",
       "      <th>mfcc17_var</th>\n",
       "      <th>mfcc18_mean</th>\n",
       "      <th>mfcc18_var</th>\n",
       "      <th>mfcc19_mean</th>\n",
       "      <th>mfcc19_var</th>\n",
       "      <th>mfcc20_mean</th>\n",
       "      <th>mfcc20_var</th>\n",
       "      <th>label</th>\n",
       "    </tr>\n",
       "  </thead>\n",
       "  <tbody>\n",
       "    <tr>\n",
       "      <th>0</th>\n",
       "      <td>blues.00000.wav</td>\n",
       "      <td>661794</td>\n",
       "      <td>0.350088</td>\n",
       "      <td>0.088757</td>\n",
       "      <td>0.130228</td>\n",
       "      <td>0.002827</td>\n",
       "      <td>1784.165850</td>\n",
       "      <td>129774.064525</td>\n",
       "      <td>2002.449060</td>\n",
       "      <td>85882.761315</td>\n",
       "      <td>...</td>\n",
       "      <td>52.420910</td>\n",
       "      <td>-1.690215</td>\n",
       "      <td>36.524071</td>\n",
       "      <td>-0.408979</td>\n",
       "      <td>41.597103</td>\n",
       "      <td>-2.303523</td>\n",
       "      <td>55.062923</td>\n",
       "      <td>1.221291</td>\n",
       "      <td>46.936035</td>\n",
       "      <td>blues</td>\n",
       "    </tr>\n",
       "    <tr>\n",
       "      <th>1</th>\n",
       "      <td>blues.00001.wav</td>\n",
       "      <td>661794</td>\n",
       "      <td>0.340914</td>\n",
       "      <td>0.094980</td>\n",
       "      <td>0.095948</td>\n",
       "      <td>0.002373</td>\n",
       "      <td>1530.176679</td>\n",
       "      <td>375850.073649</td>\n",
       "      <td>2039.036516</td>\n",
       "      <td>213843.755497</td>\n",
       "      <td>...</td>\n",
       "      <td>55.356403</td>\n",
       "      <td>-0.731125</td>\n",
       "      <td>60.314529</td>\n",
       "      <td>0.295073</td>\n",
       "      <td>48.120598</td>\n",
       "      <td>-0.283518</td>\n",
       "      <td>51.106190</td>\n",
       "      <td>0.531217</td>\n",
       "      <td>45.786282</td>\n",
       "      <td>blues</td>\n",
       "    </tr>\n",
       "    <tr>\n",
       "      <th>2</th>\n",
       "      <td>blues.00002.wav</td>\n",
       "      <td>661794</td>\n",
       "      <td>0.363637</td>\n",
       "      <td>0.085275</td>\n",
       "      <td>0.175570</td>\n",
       "      <td>0.002746</td>\n",
       "      <td>1552.811865</td>\n",
       "      <td>156467.643368</td>\n",
       "      <td>1747.702312</td>\n",
       "      <td>76254.192257</td>\n",
       "      <td>...</td>\n",
       "      <td>40.598766</td>\n",
       "      <td>-7.729093</td>\n",
       "      <td>47.639427</td>\n",
       "      <td>-1.816407</td>\n",
       "      <td>52.382141</td>\n",
       "      <td>-3.439720</td>\n",
       "      <td>46.639660</td>\n",
       "      <td>-2.231258</td>\n",
       "      <td>30.573025</td>\n",
       "      <td>blues</td>\n",
       "    </tr>\n",
       "    <tr>\n",
       "      <th>3</th>\n",
       "      <td>blues.00003.wav</td>\n",
       "      <td>661794</td>\n",
       "      <td>0.404785</td>\n",
       "      <td>0.093999</td>\n",
       "      <td>0.141093</td>\n",
       "      <td>0.006346</td>\n",
       "      <td>1070.106615</td>\n",
       "      <td>184355.942417</td>\n",
       "      <td>1596.412872</td>\n",
       "      <td>166441.494769</td>\n",
       "      <td>...</td>\n",
       "      <td>44.427753</td>\n",
       "      <td>-3.319597</td>\n",
       "      <td>50.206673</td>\n",
       "      <td>0.636965</td>\n",
       "      <td>37.319130</td>\n",
       "      <td>-0.619121</td>\n",
       "      <td>37.259739</td>\n",
       "      <td>-3.407448</td>\n",
       "      <td>31.949339</td>\n",
       "      <td>blues</td>\n",
       "    </tr>\n",
       "    <tr>\n",
       "      <th>4</th>\n",
       "      <td>blues.00004.wav</td>\n",
       "      <td>661794</td>\n",
       "      <td>0.308526</td>\n",
       "      <td>0.087841</td>\n",
       "      <td>0.091529</td>\n",
       "      <td>0.002303</td>\n",
       "      <td>1835.004266</td>\n",
       "      <td>343399.939274</td>\n",
       "      <td>1748.172116</td>\n",
       "      <td>88445.209036</td>\n",
       "      <td>...</td>\n",
       "      <td>86.099236</td>\n",
       "      <td>-5.454034</td>\n",
       "      <td>75.269707</td>\n",
       "      <td>-0.916874</td>\n",
       "      <td>53.613918</td>\n",
       "      <td>-4.404827</td>\n",
       "      <td>62.910812</td>\n",
       "      <td>-11.703234</td>\n",
       "      <td>55.195160</td>\n",
       "      <td>blues</td>\n",
       "    </tr>\n",
       "  </tbody>\n",
       "</table>\n",
       "<p>5 rows × 60 columns</p>\n",
       "</div>\n",
       "      <button class=\"colab-df-convert\" onclick=\"convertToInteractive('df-74fa23c2-ad9e-40eb-b663-cf8f09cc3842')\"\n",
       "              title=\"Convert this dataframe to an interactive table.\"\n",
       "              style=\"display:none;\">\n",
       "        \n",
       "  <svg xmlns=\"http://www.w3.org/2000/svg\" height=\"24px\"viewBox=\"0 0 24 24\"\n",
       "       width=\"24px\">\n",
       "    <path d=\"M0 0h24v24H0V0z\" fill=\"none\"/>\n",
       "    <path d=\"M18.56 5.44l.94 2.06.94-2.06 2.06-.94-2.06-.94-.94-2.06-.94 2.06-2.06.94zm-11 1L8.5 8.5l.94-2.06 2.06-.94-2.06-.94L8.5 2.5l-.94 2.06-2.06.94zm10 10l.94 2.06.94-2.06 2.06-.94-2.06-.94-.94-2.06-.94 2.06-2.06.94z\"/><path d=\"M17.41 7.96l-1.37-1.37c-.4-.4-.92-.59-1.43-.59-.52 0-1.04.2-1.43.59L10.3 9.45l-7.72 7.72c-.78.78-.78 2.05 0 2.83L4 21.41c.39.39.9.59 1.41.59.51 0 1.02-.2 1.41-.59l7.78-7.78 2.81-2.81c.8-.78.8-2.07 0-2.86zM5.41 20L4 18.59l7.72-7.72 1.47 1.35L5.41 20z\"/>\n",
       "  </svg>\n",
       "      </button>\n",
       "      \n",
       "  <style>\n",
       "    .colab-df-container {\n",
       "      display:flex;\n",
       "      flex-wrap:wrap;\n",
       "      gap: 12px;\n",
       "    }\n",
       "\n",
       "    .colab-df-convert {\n",
       "      background-color: #E8F0FE;\n",
       "      border: none;\n",
       "      border-radius: 50%;\n",
       "      cursor: pointer;\n",
       "      display: none;\n",
       "      fill: #1967D2;\n",
       "      height: 32px;\n",
       "      padding: 0 0 0 0;\n",
       "      width: 32px;\n",
       "    }\n",
       "\n",
       "    .colab-df-convert:hover {\n",
       "      background-color: #E2EBFA;\n",
       "      box-shadow: 0px 1px 2px rgba(60, 64, 67, 0.3), 0px 1px 3px 1px rgba(60, 64, 67, 0.15);\n",
       "      fill: #174EA6;\n",
       "    }\n",
       "\n",
       "    [theme=dark] .colab-df-convert {\n",
       "      background-color: #3B4455;\n",
       "      fill: #D2E3FC;\n",
       "    }\n",
       "\n",
       "    [theme=dark] .colab-df-convert:hover {\n",
       "      background-color: #434B5C;\n",
       "      box-shadow: 0px 1px 3px 1px rgba(0, 0, 0, 0.15);\n",
       "      filter: drop-shadow(0px 1px 2px rgba(0, 0, 0, 0.3));\n",
       "      fill: #FFFFFF;\n",
       "    }\n",
       "  </style>\n",
       "\n",
       "      <script>\n",
       "        const buttonEl =\n",
       "          document.querySelector('#df-74fa23c2-ad9e-40eb-b663-cf8f09cc3842 button.colab-df-convert');\n",
       "        buttonEl.style.display =\n",
       "          google.colab.kernel.accessAllowed ? 'block' : 'none';\n",
       "\n",
       "        async function convertToInteractive(key) {\n",
       "          const element = document.querySelector('#df-74fa23c2-ad9e-40eb-b663-cf8f09cc3842');\n",
       "          const dataTable =\n",
       "            await google.colab.kernel.invokeFunction('convertToInteractive',\n",
       "                                                     [key], {});\n",
       "          if (!dataTable) return;\n",
       "\n",
       "          const docLinkHtml = 'Like what you see? Visit the ' +\n",
       "            '<a target=\"_blank\" href=https://colab.research.google.com/notebooks/data_table.ipynb>data table notebook</a>'\n",
       "            + ' to learn more about interactive tables.';\n",
       "          element.innerHTML = '';\n",
       "          dataTable['output_type'] = 'display_data';\n",
       "          await google.colab.output.renderOutput(dataTable, element);\n",
       "          const docLink = document.createElement('div');\n",
       "          docLink.innerHTML = docLinkHtml;\n",
       "          element.appendChild(docLink);\n",
       "        }\n",
       "      </script>\n",
       "    </div>\n",
       "  </div>\n",
       "  "
      ],
      "text/plain": [
       "          filename  length  chroma_stft_mean  chroma_stft_var  rms_mean  \\\n",
       "0  blues.00000.wav  661794          0.350088         0.088757  0.130228   \n",
       "1  blues.00001.wav  661794          0.340914         0.094980  0.095948   \n",
       "2  blues.00002.wav  661794          0.363637         0.085275  0.175570   \n",
       "3  blues.00003.wav  661794          0.404785         0.093999  0.141093   \n",
       "4  blues.00004.wav  661794          0.308526         0.087841  0.091529   \n",
       "\n",
       "    rms_var  spectral_centroid_mean  spectral_centroid_var  \\\n",
       "0  0.002827             1784.165850          129774.064525   \n",
       "1  0.002373             1530.176679          375850.073649   \n",
       "2  0.002746             1552.811865          156467.643368   \n",
       "3  0.006346             1070.106615          184355.942417   \n",
       "4  0.002303             1835.004266          343399.939274   \n",
       "\n",
       "   spectral_bandwidth_mean  spectral_bandwidth_var  ...  mfcc16_var  \\\n",
       "0              2002.449060            85882.761315  ...   52.420910   \n",
       "1              2039.036516           213843.755497  ...   55.356403   \n",
       "2              1747.702312            76254.192257  ...   40.598766   \n",
       "3              1596.412872           166441.494769  ...   44.427753   \n",
       "4              1748.172116            88445.209036  ...   86.099236   \n",
       "\n",
       "   mfcc17_mean  mfcc17_var  mfcc18_mean  mfcc18_var  mfcc19_mean  mfcc19_var  \\\n",
       "0    -1.690215   36.524071    -0.408979   41.597103    -2.303523   55.062923   \n",
       "1    -0.731125   60.314529     0.295073   48.120598    -0.283518   51.106190   \n",
       "2    -7.729093   47.639427    -1.816407   52.382141    -3.439720   46.639660   \n",
       "3    -3.319597   50.206673     0.636965   37.319130    -0.619121   37.259739   \n",
       "4    -5.454034   75.269707    -0.916874   53.613918    -4.404827   62.910812   \n",
       "\n",
       "   mfcc20_mean  mfcc20_var  label  \n",
       "0     1.221291   46.936035  blues  \n",
       "1     0.531217   45.786282  blues  \n",
       "2    -2.231258   30.573025  blues  \n",
       "3    -3.407448   31.949339  blues  \n",
       "4   -11.703234   55.195160  blues  \n",
       "\n",
       "[5 rows x 60 columns]"
      ]
     },
     "execution_count": 5,
     "metadata": {},
     "output_type": "execute_result"
    }
   ],
   "source": [
    "audio_dataset_path='/content/drive/MyDrive/dataset/Data/genres_original'\n",
    "metadata=pd.read_csv('/content/drive/MyDrive/dataset/Data/features_30_sec.csv')\n",
    "metadata.head()"
   ]
  },
  {
   "cell_type": "markdown",
   "metadata": {
    "id": "NAGWSEUJBK8q"
   },
   "source": [
    "**Feature Extractor Function**\n",
    "\n",
    "Mel Frequency Cepstral Coefficients:\n",
    "\n",
    "These are state-of-the-art features used in automatic speech and speech recognition studies. There are a set of steps for generation of these features:\n",
    "\n",
    "Since the audio signals are constantly changing, first we divide these signals into smaller frames. Each frame is around 20-40 ms long\n",
    "Then we try to identify different frequencies present in each frame\n",
    "Now, separate linguistic frequencies from the noise\n",
    "To discard the noise, it then takes discrete cosine transform (DCT) of these frequencies. Using DCT we keep only a specific sequence of frequencies that have a high probability of information."
   ]
  },
  {
   "cell_type": "code",
   "execution_count": null,
   "metadata": {
    "id": "PjPzMgEXxRDT"
   },
   "outputs": [],
   "source": [
    "def features_extractor(file):\n",
    "    audio, sample_rate = librosa.load(file_name, res_type='kaiser_fast') \n",
    "    mfccs_features = librosa.feature.mfcc(y=audio, sr=sample_rate, n_mfcc=40)\n",
    "    mfccs_scaled_features = np.mean(mfccs_features.T,axis=0)\n",
    "    \n",
    "    return mfccs_scaled_features"
   ]
  },
  {
   "cell_type": "code",
   "execution_count": null,
   "metadata": {
    "id": "L-O0cGJmxRDT"
   },
   "outputs": [],
   "source": [
    "#metadata.drop(labels=552, axis=0, inplace=True)"
   ]
  },
  {
   "cell_type": "code",
   "execution_count": null,
   "metadata": {
    "colab": {
     "base_uri": "https://localhost:8080/"
    },
    "id": "cFb6b6RlxRDU",
    "outputId": "95bc0b94-7784-4565-d949-fd9383f48455"
   },
   "outputs": [
    {
     "name": "stderr",
     "output_type": "stream",
     "text": [
      "554it [01:26,  4.45it/s]/usr/local/lib/python3.7/dist-packages/librosa/core/audio.py:165: UserWarning: PySoundFile failed. Trying audioread instead.\n",
      "  warnings.warn(\"PySoundFile failed. Trying audioread instead.\")\n",
      "557it [01:27,  5.28it/s]"
     ]
    },
    {
     "name": "stdout",
     "output_type": "stream",
     "text": [
      "Error: \n"
     ]
    },
    {
     "name": "stderr",
     "output_type": "stream",
     "text": [
      "1000it [02:14,  7.41it/s]\n"
     ]
    }
   ],
   "source": [
    "from tqdm import tqdm\n",
    "### Now we iterate through every audio file and extract features \n",
    "### using Mel-Frequency Cepstral Coefficients\n",
    "\n",
    "extracted_features=[]\n",
    "for index_num,row in tqdm(metadata.iterrows()):\n",
    "    try:\n",
    "        final_class_labels=row[\"label\"]\n",
    "        file_name = os.path.join(os.path.abspath(audio_dataset_path), final_class_labels+'/',str(row[\"filename\"]))    \n",
    "        data=features_extractor(file_name)\n",
    "        extracted_features.append([data,final_class_labels])\n",
    "    except Exception as e:\n",
    "        print(f\"Error: {e}\")\n",
    "        continue"
   ]
  },
  {
   "cell_type": "code",
   "execution_count": null,
   "metadata": {
    "colab": {
     "base_uri": "https://localhost:8080/",
     "height": 206
    },
    "id": "A8r5vv2mxRDV",
    "outputId": "cb101f8d-960d-410b-8903-061d1c1d616c"
   },
   "outputs": [
    {
     "data": {
      "text/html": [
       "\n",
       "  <div id=\"df-1fd94fea-f89f-421d-9139-db76ae212f1e\">\n",
       "    <div class=\"colab-df-container\">\n",
       "      <div>\n",
       "<style scoped>\n",
       "    .dataframe tbody tr th:only-of-type {\n",
       "        vertical-align: middle;\n",
       "    }\n",
       "\n",
       "    .dataframe tbody tr th {\n",
       "        vertical-align: top;\n",
       "    }\n",
       "\n",
       "    .dataframe thead th {\n",
       "        text-align: right;\n",
       "    }\n",
       "</style>\n",
       "<table border=\"1\" class=\"dataframe\">\n",
       "  <thead>\n",
       "    <tr style=\"text-align: right;\">\n",
       "      <th></th>\n",
       "      <th>feature</th>\n",
       "      <th>class</th>\n",
       "    </tr>\n",
       "  </thead>\n",
       "  <tbody>\n",
       "    <tr>\n",
       "      <th>0</th>\n",
       "      <td>[-113.57065, 121.57179, -19.168142, 42.36642, ...</td>\n",
       "      <td>blues</td>\n",
       "    </tr>\n",
       "    <tr>\n",
       "      <th>1</th>\n",
       "      <td>[-207.5017, 123.991264, 8.955127, 35.87765, 2....</td>\n",
       "      <td>blues</td>\n",
       "    </tr>\n",
       "    <tr>\n",
       "      <th>2</th>\n",
       "      <td>[-90.722595, 140.4463, -29.09389, 31.684334, -...</td>\n",
       "      <td>blues</td>\n",
       "    </tr>\n",
       "    <tr>\n",
       "      <th>3</th>\n",
       "      <td>[-199.5442, 150.09091, 5.6626782, 26.85908, 1....</td>\n",
       "      <td>blues</td>\n",
       "    </tr>\n",
       "    <tr>\n",
       "      <th>4</th>\n",
       "      <td>[-160.3377, 126.219635, -35.58781, 22.148071, ...</td>\n",
       "      <td>blues</td>\n",
       "    </tr>\n",
       "  </tbody>\n",
       "</table>\n",
       "</div>\n",
       "      <button class=\"colab-df-convert\" onclick=\"convertToInteractive('df-1fd94fea-f89f-421d-9139-db76ae212f1e')\"\n",
       "              title=\"Convert this dataframe to an interactive table.\"\n",
       "              style=\"display:none;\">\n",
       "        \n",
       "  <svg xmlns=\"http://www.w3.org/2000/svg\" height=\"24px\"viewBox=\"0 0 24 24\"\n",
       "       width=\"24px\">\n",
       "    <path d=\"M0 0h24v24H0V0z\" fill=\"none\"/>\n",
       "    <path d=\"M18.56 5.44l.94 2.06.94-2.06 2.06-.94-2.06-.94-.94-2.06-.94 2.06-2.06.94zm-11 1L8.5 8.5l.94-2.06 2.06-.94-2.06-.94L8.5 2.5l-.94 2.06-2.06.94zm10 10l.94 2.06.94-2.06 2.06-.94-2.06-.94-.94-2.06-.94 2.06-2.06.94z\"/><path d=\"M17.41 7.96l-1.37-1.37c-.4-.4-.92-.59-1.43-.59-.52 0-1.04.2-1.43.59L10.3 9.45l-7.72 7.72c-.78.78-.78 2.05 0 2.83L4 21.41c.39.39.9.59 1.41.59.51 0 1.02-.2 1.41-.59l7.78-7.78 2.81-2.81c.8-.78.8-2.07 0-2.86zM5.41 20L4 18.59l7.72-7.72 1.47 1.35L5.41 20z\"/>\n",
       "  </svg>\n",
       "      </button>\n",
       "      \n",
       "  <style>\n",
       "    .colab-df-container {\n",
       "      display:flex;\n",
       "      flex-wrap:wrap;\n",
       "      gap: 12px;\n",
       "    }\n",
       "\n",
       "    .colab-df-convert {\n",
       "      background-color: #E8F0FE;\n",
       "      border: none;\n",
       "      border-radius: 50%;\n",
       "      cursor: pointer;\n",
       "      display: none;\n",
       "      fill: #1967D2;\n",
       "      height: 32px;\n",
       "      padding: 0 0 0 0;\n",
       "      width: 32px;\n",
       "    }\n",
       "\n",
       "    .colab-df-convert:hover {\n",
       "      background-color: #E2EBFA;\n",
       "      box-shadow: 0px 1px 2px rgba(60, 64, 67, 0.3), 0px 1px 3px 1px rgba(60, 64, 67, 0.15);\n",
       "      fill: #174EA6;\n",
       "    }\n",
       "\n",
       "    [theme=dark] .colab-df-convert {\n",
       "      background-color: #3B4455;\n",
       "      fill: #D2E3FC;\n",
       "    }\n",
       "\n",
       "    [theme=dark] .colab-df-convert:hover {\n",
       "      background-color: #434B5C;\n",
       "      box-shadow: 0px 1px 3px 1px rgba(0, 0, 0, 0.15);\n",
       "      filter: drop-shadow(0px 1px 2px rgba(0, 0, 0, 0.3));\n",
       "      fill: #FFFFFF;\n",
       "    }\n",
       "  </style>\n",
       "\n",
       "      <script>\n",
       "        const buttonEl =\n",
       "          document.querySelector('#df-1fd94fea-f89f-421d-9139-db76ae212f1e button.colab-df-convert');\n",
       "        buttonEl.style.display =\n",
       "          google.colab.kernel.accessAllowed ? 'block' : 'none';\n",
       "\n",
       "        async function convertToInteractive(key) {\n",
       "          const element = document.querySelector('#df-1fd94fea-f89f-421d-9139-db76ae212f1e');\n",
       "          const dataTable =\n",
       "            await google.colab.kernel.invokeFunction('convertToInteractive',\n",
       "                                                     [key], {});\n",
       "          if (!dataTable) return;\n",
       "\n",
       "          const docLinkHtml = 'Like what you see? Visit the ' +\n",
       "            '<a target=\"_blank\" href=https://colab.research.google.com/notebooks/data_table.ipynb>data table notebook</a>'\n",
       "            + ' to learn more about interactive tables.';\n",
       "          element.innerHTML = '';\n",
       "          dataTable['output_type'] = 'display_data';\n",
       "          await google.colab.output.renderOutput(dataTable, element);\n",
       "          const docLink = document.createElement('div');\n",
       "          docLink.innerHTML = docLinkHtml;\n",
       "          element.appendChild(docLink);\n",
       "        }\n",
       "      </script>\n",
       "    </div>\n",
       "  </div>\n",
       "  "
      ],
      "text/plain": [
       "                                             feature  class\n",
       "0  [-113.57065, 121.57179, -19.168142, 42.36642, ...  blues\n",
       "1  [-207.5017, 123.991264, 8.955127, 35.87765, 2....  blues\n",
       "2  [-90.722595, 140.4463, -29.09389, 31.684334, -...  blues\n",
       "3  [-199.5442, 150.09091, 5.6626782, 26.85908, 1....  blues\n",
       "4  [-160.3377, 126.219635, -35.58781, 22.148071, ...  blues"
      ]
     },
     "execution_count": 9,
     "metadata": {},
     "output_type": "execute_result"
    }
   ],
   "source": [
    "### converting extracted_features to Pandas dataframe\n",
    "extracted_features_df=pd.DataFrame(extracted_features,columns=['feature','class'])\n",
    "extracted_features_df.head()"
   ]
  },
  {
   "cell_type": "code",
   "execution_count": null,
   "metadata": {
    "colab": {
     "base_uri": "https://localhost:8080/"
    },
    "id": "URz5BuQcxRDW",
    "outputId": "48969f2c-a61e-4d7a-e255-15a76e45b93f"
   },
   "outputs": [
    {
     "data": {
      "text/plain": [
       "blues        100\n",
       "classical    100\n",
       "country      100\n",
       "disco        100\n",
       "hiphop       100\n",
       "metal        100\n",
       "pop          100\n",
       "reggae       100\n",
       "rock         100\n",
       "jazz          99\n",
       "Name: class, dtype: int64"
      ]
     },
     "execution_count": 10,
     "metadata": {},
     "output_type": "execute_result"
    }
   ],
   "source": [
    "extracted_features_df['class'].value_counts()"
   ]
  },
  {
   "cell_type": "markdown",
   "metadata": {
    "id": "ydSt_1CFAN7g"
   },
   "source": [
    "**Split the dataset into independent and dependent dataset**"
   ]
  },
  {
   "cell_type": "code",
   "execution_count": null,
   "metadata": {
    "id": "-3CmI4OxxRDW"
   },
   "outputs": [],
   "source": [
    "X=np.array(extracted_features_df['feature'].tolist())\n",
    "y=np.array(extracted_features_df['class'].tolist())"
   ]
  },
  {
   "cell_type": "code",
   "execution_count": null,
   "metadata": {
    "colab": {
     "base_uri": "https://localhost:8080/"
    },
    "id": "PFqJWNBmxRDX",
    "outputId": "5aaa2ec5-2ba9-4a11-c065-2dc4727793db"
   },
   "outputs": [
    {
     "data": {
      "text/plain": [
       "(999, 40)"
      ]
     },
     "execution_count": 12,
     "metadata": {},
     "output_type": "execute_result"
    }
   ],
   "source": [
    "X.shape"
   ]
  },
  {
   "cell_type": "code",
   "execution_count": null,
   "metadata": {
    "id": "iyXQuBxaxRDX"
   },
   "outputs": [],
   "source": [
    "from tensorflow.keras.utils import to_categorical\n",
    "from sklearn.preprocessing import LabelEncoder\n",
    "labelencoder=LabelEncoder()\n",
    "y=to_categorical(labelencoder.fit_transform(y))"
   ]
  },
  {
   "cell_type": "code",
   "execution_count": null,
   "metadata": {
    "colab": {
     "base_uri": "https://localhost:8080/"
    },
    "id": "zskm3UCbxRDX",
    "outputId": "f8abd7a5-7a05-4b0e-ef9d-72ba9e0fdca8"
   },
   "outputs": [
    {
     "data": {
      "text/plain": [
       "(999, 10)"
      ]
     },
     "execution_count": 14,
     "metadata": {},
     "output_type": "execute_result"
    }
   ],
   "source": [
    "y.shape"
   ]
  },
  {
   "cell_type": "markdown",
   "metadata": {
    "id": "vHNPVn4tAVrN"
   },
   "source": [
    "**Train Test Split**"
   ]
  },
  {
   "cell_type": "code",
   "execution_count": null,
   "metadata": {
    "id": "xaQrsxaDxRDY"
   },
   "outputs": [],
   "source": [
    "from sklearn.model_selection import train_test_split\n",
    "X_train,X_test,y_train,y_test=train_test_split(X,y,test_size=0.2,random_state=0)"
   ]
  },
  {
   "cell_type": "code",
   "execution_count": null,
   "metadata": {
    "colab": {
     "base_uri": "https://localhost:8080/"
    },
    "id": "KTR2QCktxRDY",
    "outputId": "f4c7f62c-09a3-48c6-fe23-77780d1af478"
   },
   "outputs": [
    {
     "data": {
      "text/plain": [
       "array([[ 2.67117920e+01,  7.97894287e+01, -5.20517769e+01, ...,\n",
       "        -1.43984926e+00, -1.27259743e+00, -5.90781355e+00],\n",
       "       [-1.44929214e+02,  1.18459854e+02,  2.05253220e+01, ...,\n",
       "         1.89384019e+00, -1.88978815e+00, -1.85136843e+00],\n",
       "       [-6.60630646e+01,  9.78820724e+01, -1.88321342e+01, ...,\n",
       "        -1.23837304e+00, -6.33012116e-01, -1.33665276e+00],\n",
       "       ...,\n",
       "       [-7.74571762e+01,  1.30936478e+02, -2.33290615e+01, ...,\n",
       "        -4.20865250e+00, -3.52202845e+00,  2.60719037e+00],\n",
       "       [-1.90423065e+02,  1.29542053e+02, -7.84552956e+00, ...,\n",
       "        -2.24016356e+00, -3.98439646e+00, -1.98053861e+00],\n",
       "       [-4.65721245e+01,  8.68102798e+01, -3.47887421e+01, ...,\n",
       "         1.48847297e-01,  9.24574316e-01, -8.69751930e-01]], dtype=float32)"
      ]
     },
     "execution_count": 16,
     "metadata": {},
     "output_type": "execute_result"
    }
   ],
   "source": [
    "X_train"
   ]
  },
  {
   "cell_type": "code",
   "execution_count": null,
   "metadata": {
    "colab": {
     "base_uri": "https://localhost:8080/"
    },
    "id": "281ZfFk4xRDZ",
    "outputId": "dbb58e58-1680-4b3f-e43f-ed5726c07e29"
   },
   "outputs": [
    {
     "name": "stdout",
     "output_type": "stream",
     "text": [
      "(799, 40)\n",
      "(200, 40)\n",
      "(799, 10)\n",
      "(200, 10)\n"
     ]
    }
   ],
   "source": [
    "print(X_train.shape)\n",
    "print(X_test.shape)\n",
    "print(y_train.shape)\n",
    "print(y_test.shape)"
   ]
  },
  {
   "cell_type": "code",
   "execution_count": null,
   "metadata": {
    "colab": {
     "base_uri": "https://localhost:8080/"
    },
    "id": "E8-4uAo5xRDZ",
    "outputId": "ed80f8b4-eef7-46c4-c2cf-413730ea4890"
   },
   "outputs": [
    {
     "name": "stdout",
     "output_type": "stream",
     "text": [
      "2.5.0\n"
     ]
    }
   ],
   "source": [
    "\n",
    "import tensorflow as tf\n",
    "print(tf.__version__)"
   ]
  },
  {
   "cell_type": "code",
   "execution_count": null,
   "metadata": {
    "id": "Cq0U-hs9xRDZ"
   },
   "outputs": [],
   "source": [
    "from tensorflow.keras.models import Sequential\n",
    "from tensorflow.keras.layers import Dense,Dropout,Activation,Flatten\n",
    "from tensorflow.keras.optimizers import Adam\n",
    "from sklearn import metrics\n",
    "import tensorflow as tf"
   ]
  },
  {
   "cell_type": "code",
   "execution_count": null,
   "metadata": {
    "id": "lJ_9wuW5xRDa"
   },
   "outputs": [],
   "source": [
    "### No of classes\n",
    "num_labels=y.shape[1]"
   ]
  },
  {
   "cell_type": "code",
   "execution_count": null,
   "metadata": {
    "colab": {
     "base_uri": "https://localhost:8080/"
    },
    "id": "egHQq8FdYmy-",
    "outputId": "a06de70c-c1ee-4d4d-eb29-68dff40ed7de"
   },
   "outputs": [
    {
     "data": {
      "text/plain": [
       "10"
      ]
     },
     "execution_count": 21,
     "metadata": {},
     "output_type": "execute_result"
    }
   ],
   "source": [
    "y.shape[1]"
   ]
  },
  {
   "cell_type": "code",
   "execution_count": null,
   "metadata": {
    "id": "AjueidgQxRDa"
   },
   "outputs": [],
   "source": [
    "model=Sequential()\n",
    "model.add(Dense(1024,input_shape=(40,), activation=\"relu\"))\n",
    "model.add(Dropout(0.3))\n",
    "model.add(Dense(512, activation=\"relu\"))\n",
    "model.add(Dropout(0.3))\n",
    "model.add(Dense(256, activation=\"relu\"))\n",
    "model.add(Dropout(0.3))\n",
    "model.add(Dense(128, activation=\"relu\"))\n",
    "model.add(Dropout(0.3))\n",
    "model.add(Dense(64, activation=\"relu\"))\n",
    "model.add(Dropout(0.3))\n",
    "model.add(Dense(32, activation=\"relu\"))\n",
    "model.add(Dropout(0.3))\n",
    "\n",
    "###final layer\n",
    "model.add(Dense(num_labels, activation=\"softmax\"))"
   ]
  },
  {
   "cell_type": "code",
   "execution_count": null,
   "metadata": {
    "colab": {
     "base_uri": "https://localhost:8080/"
    },
    "id": "N9eQ2vGLxRDa",
    "outputId": "889b2dda-20b2-426e-c67f-156e2928bb6c"
   },
   "outputs": [
    {
     "name": "stdout",
     "output_type": "stream",
     "text": [
      "Model: \"sequential\"\n",
      "_________________________________________________________________\n",
      "Layer (type)                 Output Shape              Param #   \n",
      "=================================================================\n",
      "dense (Dense)                (None, 1024)              41984     \n",
      "_________________________________________________________________\n",
      "dropout (Dropout)            (None, 1024)              0         \n",
      "_________________________________________________________________\n",
      "dense_1 (Dense)              (None, 512)               524800    \n",
      "_________________________________________________________________\n",
      "dropout_1 (Dropout)          (None, 512)               0         \n",
      "_________________________________________________________________\n",
      "dense_2 (Dense)              (None, 256)               131328    \n",
      "_________________________________________________________________\n",
      "dropout_2 (Dropout)          (None, 256)               0         \n",
      "_________________________________________________________________\n",
      "dense_3 (Dense)              (None, 128)               32896     \n",
      "_________________________________________________________________\n",
      "dropout_3 (Dropout)          (None, 128)               0         \n",
      "_________________________________________________________________\n",
      "dense_4 (Dense)              (None, 64)                8256      \n",
      "_________________________________________________________________\n",
      "dropout_4 (Dropout)          (None, 64)                0         \n",
      "_________________________________________________________________\n",
      "dense_5 (Dense)              (None, 32)                2080      \n",
      "_________________________________________________________________\n",
      "dropout_5 (Dropout)          (None, 32)                0         \n",
      "_________________________________________________________________\n",
      "dense_6 (Dense)              (None, 10)                330       \n",
      "=================================================================\n",
      "Total params: 741,674\n",
      "Trainable params: 741,674\n",
      "Non-trainable params: 0\n",
      "_________________________________________________________________\n"
     ]
    }
   ],
   "source": [
    "model.summary()"
   ]
  },
  {
   "cell_type": "code",
   "execution_count": null,
   "metadata": {
    "id": "PabF0zEdxRDb"
   },
   "outputs": [],
   "source": [
    "model.compile(loss='categorical_crossentropy',metrics=['accuracy'],optimizer='adamax')"
   ]
  },
  {
   "cell_type": "code",
   "execution_count": null,
   "metadata": {
    "id": "B0f0IY3d4xG8"
   },
   "outputs": [],
   "source": [
    "import time\n",
    "t = time.localtime()\n",
    "current_time = time.strftime(\"%H:%M:%S\", t)"
   ]
  },
  {
   "cell_type": "code",
   "execution_count": null,
   "metadata": {
    "colab": {
     "base_uri": "https://localhost:8080/"
    },
    "id": "NxrtNNvBxRDb",
    "outputId": "159ce6bf-d6cc-4dec-9cee-c5cc3556456a"
   },
   "outputs": [
    {
     "name": "stdout",
     "output_type": "stream",
     "text": [
      "Epoch 1/150\n",
      "25/25 [==============================] - 2s 26ms/step - loss: 4.6209 - accuracy: 0.1051 - val_loss: 2.3058 - val_accuracy: 0.0700\n",
      "\n",
      "Epoch 00001: val_loss improved from inf to 2.30579, saving model to saved_models/audio_classification_17:34:29.hdf5\n",
      "Epoch 2/150\n",
      "25/25 [==============================] - 0s 16ms/step - loss: 2.8276 - accuracy: 0.0976 - val_loss: 2.2651 - val_accuracy: 0.1300\n",
      "\n",
      "Epoch 00002: val_loss improved from 2.30579 to 2.26509, saving model to saved_models/audio_classification_17:34:29.hdf5\n",
      "Epoch 3/150\n",
      "25/25 [==============================] - 0s 16ms/step - loss: 2.5189 - accuracy: 0.1014 - val_loss: 2.2594 - val_accuracy: 0.1250\n",
      "\n",
      "Epoch 00003: val_loss improved from 2.26509 to 2.25944, saving model to saved_models/audio_classification_17:34:29.hdf5\n",
      "Epoch 4/150\n",
      "25/25 [==============================] - 0s 20ms/step - loss: 2.4730 - accuracy: 0.1202 - val_loss: 2.2572 - val_accuracy: 0.1950\n",
      "\n",
      "Epoch 00004: val_loss improved from 2.25944 to 2.25722, saving model to saved_models/audio_classification_17:34:29.hdf5\n",
      "Epoch 5/150\n",
      "25/25 [==============================] - 1s 22ms/step - loss: 2.4632 - accuracy: 0.1252 - val_loss: 2.2396 - val_accuracy: 0.2650\n",
      "\n",
      "Epoch 00005: val_loss improved from 2.25722 to 2.23964, saving model to saved_models/audio_classification_17:34:29.hdf5\n",
      "Epoch 6/150\n",
      "25/25 [==============================] - 0s 16ms/step - loss: 2.3614 - accuracy: 0.1327 - val_loss: 2.2171 - val_accuracy: 0.1900\n",
      "\n",
      "Epoch 00006: val_loss improved from 2.23964 to 2.21713, saving model to saved_models/audio_classification_17:34:29.hdf5\n",
      "Epoch 7/150\n",
      "25/25 [==============================] - 0s 15ms/step - loss: 2.3411 - accuracy: 0.1427 - val_loss: 2.2354 - val_accuracy: 0.2300\n",
      "\n",
      "Epoch 00007: val_loss did not improve from 2.21713\n",
      "Epoch 8/150\n",
      "25/25 [==============================] - 1s 22ms/step - loss: 2.3610 - accuracy: 0.1414 - val_loss: 2.2239 - val_accuracy: 0.2550\n",
      "\n",
      "Epoch 00008: val_loss did not improve from 2.21713\n",
      "Epoch 9/150\n",
      "25/25 [==============================] - 1s 20ms/step - loss: 2.3488 - accuracy: 0.1264 - val_loss: 2.2221 - val_accuracy: 0.2350\n",
      "\n",
      "Epoch 00009: val_loss did not improve from 2.21713\n",
      "Epoch 10/150\n",
      "25/25 [==============================] - 1s 22ms/step - loss: 2.3258 - accuracy: 0.1552 - val_loss: 2.2025 - val_accuracy: 0.2650\n",
      "\n",
      "Epoch 00010: val_loss improved from 2.21713 to 2.20255, saving model to saved_models/audio_classification_17:34:29.hdf5\n",
      "Epoch 11/150\n",
      "25/25 [==============================] - 1s 23ms/step - loss: 2.3016 - accuracy: 0.1615 - val_loss: 2.2120 - val_accuracy: 0.2850\n",
      "\n",
      "Epoch 00011: val_loss did not improve from 2.20255\n",
      "Epoch 12/150\n",
      "25/25 [==============================] - 1s 22ms/step - loss: 2.2563 - accuracy: 0.1502 - val_loss: 2.1710 - val_accuracy: 0.2350\n",
      "\n",
      "Epoch 00012: val_loss improved from 2.20255 to 2.17103, saving model to saved_models/audio_classification_17:34:29.hdf5\n",
      "Epoch 13/150\n",
      "25/25 [==============================] - 0s 17ms/step - loss: 2.2600 - accuracy: 0.1727 - val_loss: 2.1589 - val_accuracy: 0.2900\n",
      "\n",
      "Epoch 00013: val_loss improved from 2.17103 to 2.15891, saving model to saved_models/audio_classification_17:34:29.hdf5\n",
      "Epoch 14/150\n",
      "25/25 [==============================] - 0s 16ms/step - loss: 2.2265 - accuracy: 0.1827 - val_loss: 2.1483 - val_accuracy: 0.3000\n",
      "\n",
      "Epoch 00014: val_loss improved from 2.15891 to 2.14834, saving model to saved_models/audio_classification_17:34:29.hdf5\n",
      "Epoch 15/150\n",
      "25/25 [==============================] - 0s 16ms/step - loss: 2.2165 - accuracy: 0.1977 - val_loss: 2.1405 - val_accuracy: 0.2500\n",
      "\n",
      "Epoch 00015: val_loss improved from 2.14834 to 2.14053, saving model to saved_models/audio_classification_17:34:29.hdf5\n",
      "Epoch 16/150\n",
      "25/25 [==============================] - 0s 16ms/step - loss: 2.2233 - accuracy: 0.1677 - val_loss: 2.1226 - val_accuracy: 0.2800\n",
      "\n",
      "Epoch 00016: val_loss improved from 2.14053 to 2.12258, saving model to saved_models/audio_classification_17:34:29.hdf5\n",
      "Epoch 17/150\n",
      "25/25 [==============================] - 1s 21ms/step - loss: 2.1594 - accuracy: 0.1865 - val_loss: 2.1049 - val_accuracy: 0.2850\n",
      "\n",
      "Epoch 00017: val_loss improved from 2.12258 to 2.10486, saving model to saved_models/audio_classification_17:34:29.hdf5\n",
      "Epoch 18/150\n",
      "25/25 [==============================] - 1s 21ms/step - loss: 2.1509 - accuracy: 0.2178 - val_loss: 2.0903 - val_accuracy: 0.2350\n",
      "\n",
      "Epoch 00018: val_loss improved from 2.10486 to 2.09033, saving model to saved_models/audio_classification_17:34:29.hdf5\n",
      "Epoch 19/150\n",
      "25/25 [==============================] - 0s 17ms/step - loss: 2.1506 - accuracy: 0.2090 - val_loss: 2.0784 - val_accuracy: 0.2700\n",
      "\n",
      "Epoch 00019: val_loss improved from 2.09033 to 2.07844, saving model to saved_models/audio_classification_17:34:29.hdf5\n",
      "Epoch 20/150\n",
      "25/25 [==============================] - 0s 16ms/step - loss: 2.1397 - accuracy: 0.1952 - val_loss: 2.0644 - val_accuracy: 0.2700\n",
      "\n",
      "Epoch 00020: val_loss improved from 2.07844 to 2.06443, saving model to saved_models/audio_classification_17:34:29.hdf5\n",
      "Epoch 21/150\n",
      "25/25 [==============================] - 0s 17ms/step - loss: 2.1302 - accuracy: 0.2140 - val_loss: 2.0448 - val_accuracy: 0.2700\n",
      "\n",
      "Epoch 00021: val_loss improved from 2.06443 to 2.04477, saving model to saved_models/audio_classification_17:34:29.hdf5\n",
      "Epoch 22/150\n",
      "25/25 [==============================] - 0s 16ms/step - loss: 2.1556 - accuracy: 0.2253 - val_loss: 2.0259 - val_accuracy: 0.2600\n",
      "\n",
      "Epoch 00022: val_loss improved from 2.04477 to 2.02590, saving model to saved_models/audio_classification_17:34:29.hdf5\n",
      "Epoch 23/150\n",
      "25/25 [==============================] - 0s 17ms/step - loss: 2.1242 - accuracy: 0.2441 - val_loss: 2.0158 - val_accuracy: 0.2650\n",
      "\n",
      "Epoch 00023: val_loss improved from 2.02590 to 2.01577, saving model to saved_models/audio_classification_17:34:29.hdf5\n",
      "Epoch 24/150\n",
      "25/25 [==============================] - 0s 19ms/step - loss: 2.0885 - accuracy: 0.2441 - val_loss: 2.0125 - val_accuracy: 0.2700\n",
      "\n",
      "Epoch 00024: val_loss improved from 2.01577 to 2.01248, saving model to saved_models/audio_classification_17:34:29.hdf5\n",
      "Epoch 25/150\n",
      "25/25 [==============================] - 1s 23ms/step - loss: 2.0534 - accuracy: 0.2566 - val_loss: 1.9813 - val_accuracy: 0.2800\n",
      "\n",
      "Epoch 00025: val_loss improved from 2.01248 to 1.98133, saving model to saved_models/audio_classification_17:34:29.hdf5\n",
      "Epoch 26/150\n",
      "25/25 [==============================] - 1s 21ms/step - loss: 2.0318 - accuracy: 0.2466 - val_loss: 1.9806 - val_accuracy: 0.2700\n",
      "\n",
      "Epoch 00026: val_loss improved from 1.98133 to 1.98059, saving model to saved_models/audio_classification_17:34:29.hdf5\n",
      "Epoch 27/150\n",
      "25/25 [==============================] - 1s 20ms/step - loss: 2.0641 - accuracy: 0.2441 - val_loss: 1.9758 - val_accuracy: 0.2550\n",
      "\n",
      "Epoch 00027: val_loss improved from 1.98059 to 1.97579, saving model to saved_models/audio_classification_17:34:29.hdf5\n",
      "Epoch 28/150\n",
      "25/25 [==============================] - 0s 17ms/step - loss: 2.0166 - accuracy: 0.2778 - val_loss: 1.9472 - val_accuracy: 0.2750\n",
      "\n",
      "Epoch 00028: val_loss improved from 1.97579 to 1.94722, saving model to saved_models/audio_classification_17:34:29.hdf5\n",
      "Epoch 29/150\n",
      "25/25 [==============================] - 0s 16ms/step - loss: 1.9942 - accuracy: 0.2891 - val_loss: 1.9407 - val_accuracy: 0.2650\n",
      "\n",
      "Epoch 00029: val_loss improved from 1.94722 to 1.94074, saving model to saved_models/audio_classification_17:34:29.hdf5\n",
      "Epoch 30/150\n",
      "25/25 [==============================] - 0s 17ms/step - loss: 2.0382 - accuracy: 0.2541 - val_loss: 1.9397 - val_accuracy: 0.2900\n",
      "\n",
      "Epoch 00030: val_loss improved from 1.94074 to 1.93974, saving model to saved_models/audio_classification_17:34:29.hdf5\n",
      "Epoch 31/150\n",
      "25/25 [==============================] - 0s 18ms/step - loss: 1.9898 - accuracy: 0.2816 - val_loss: 1.9425 - val_accuracy: 0.2600\n",
      "\n",
      "Epoch 00031: val_loss did not improve from 1.93974\n",
      "Epoch 32/150\n",
      "25/25 [==============================] - 1s 22ms/step - loss: 1.9514 - accuracy: 0.2916 - val_loss: 1.9196 - val_accuracy: 0.2800\n",
      "\n",
      "Epoch 00032: val_loss improved from 1.93974 to 1.91963, saving model to saved_models/audio_classification_17:34:29.hdf5\n",
      "Epoch 33/150\n",
      "25/25 [==============================] - 1s 22ms/step - loss: 2.0002 - accuracy: 0.2653 - val_loss: 1.9027 - val_accuracy: 0.3050\n",
      "\n",
      "Epoch 00033: val_loss improved from 1.91963 to 1.90269, saving model to saved_models/audio_classification_17:34:29.hdf5\n",
      "Epoch 34/150\n",
      "25/25 [==============================] - 1s 20ms/step - loss: 1.9961 - accuracy: 0.2678 - val_loss: 1.9018 - val_accuracy: 0.3000\n",
      "\n",
      "Epoch 00034: val_loss improved from 1.90269 to 1.90178, saving model to saved_models/audio_classification_17:34:29.hdf5\n",
      "Epoch 35/150\n",
      "25/25 [==============================] - 1s 21ms/step - loss: 1.9875 - accuracy: 0.2703 - val_loss: 1.8892 - val_accuracy: 0.3050\n",
      "\n",
      "Epoch 00035: val_loss improved from 1.90178 to 1.88915, saving model to saved_models/audio_classification_17:34:29.hdf5\n",
      "Epoch 36/150\n",
      "25/25 [==============================] - 0s 18ms/step - loss: 1.9311 - accuracy: 0.2979 - val_loss: 1.8855 - val_accuracy: 0.2500\n",
      "\n",
      "Epoch 00036: val_loss improved from 1.88915 to 1.88553, saving model to saved_models/audio_classification_17:34:29.hdf5\n",
      "Epoch 37/150\n",
      "25/25 [==============================] - 0s 16ms/step - loss: 1.9301 - accuracy: 0.2966 - val_loss: 1.8721 - val_accuracy: 0.2850\n",
      "\n",
      "Epoch 00037: val_loss improved from 1.88553 to 1.87210, saving model to saved_models/audio_classification_17:34:29.hdf5\n",
      "Epoch 38/150\n",
      "25/25 [==============================] - 0s 16ms/step - loss: 1.9323 - accuracy: 0.2854 - val_loss: 1.8605 - val_accuracy: 0.2850\n",
      "\n",
      "Epoch 00038: val_loss improved from 1.87210 to 1.86046, saving model to saved_models/audio_classification_17:34:29.hdf5\n",
      "Epoch 39/150\n",
      "25/25 [==============================] - 0s 16ms/step - loss: 1.9137 - accuracy: 0.3054 - val_loss: 1.8630 - val_accuracy: 0.2800\n",
      "\n",
      "Epoch 00039: val_loss did not improve from 1.86046\n",
      "Epoch 40/150\n",
      "25/25 [==============================] - 0s 16ms/step - loss: 1.8812 - accuracy: 0.3029 - val_loss: 1.8493 - val_accuracy: 0.2750\n",
      "\n",
      "Epoch 00040: val_loss improved from 1.86046 to 1.84931, saving model to saved_models/audio_classification_17:34:29.hdf5\n",
      "Epoch 41/150\n",
      "25/25 [==============================] - 0s 17ms/step - loss: 1.8854 - accuracy: 0.3279 - val_loss: 1.8621 - val_accuracy: 0.2950\n",
      "\n",
      "Epoch 00041: val_loss did not improve from 1.84931\n",
      "Epoch 42/150\n",
      "25/25 [==============================] - 0s 16ms/step - loss: 1.9344 - accuracy: 0.3041 - val_loss: 1.8333 - val_accuracy: 0.3050\n",
      "\n",
      "Epoch 00042: val_loss improved from 1.84931 to 1.83325, saving model to saved_models/audio_classification_17:34:29.hdf5\n",
      "Epoch 43/150\n",
      "25/25 [==============================] - 0s 17ms/step - loss: 1.8808 - accuracy: 0.3267 - val_loss: 1.8365 - val_accuracy: 0.2850\n",
      "\n",
      "Epoch 00043: val_loss did not improve from 1.83325\n",
      "Epoch 44/150\n",
      "25/25 [==============================] - 0s 16ms/step - loss: 1.8467 - accuracy: 0.3354 - val_loss: 1.8205 - val_accuracy: 0.2900\n",
      "\n",
      "Epoch 00044: val_loss improved from 1.83325 to 1.82053, saving model to saved_models/audio_classification_17:34:29.hdf5\n",
      "Epoch 45/150\n",
      "25/25 [==============================] - 1s 21ms/step - loss: 1.8631 - accuracy: 0.3066 - val_loss: 1.8080 - val_accuracy: 0.2800\n",
      "\n",
      "Epoch 00045: val_loss improved from 1.82053 to 1.80795, saving model to saved_models/audio_classification_17:34:29.hdf5\n",
      "Epoch 46/150\n",
      "25/25 [==============================] - 1s 21ms/step - loss: 1.8365 - accuracy: 0.3655 - val_loss: 1.7957 - val_accuracy: 0.3200\n",
      "\n",
      "Epoch 00046: val_loss improved from 1.80795 to 1.79571, saving model to saved_models/audio_classification_17:34:29.hdf5\n",
      "Epoch 47/150\n",
      "25/25 [==============================] - 1s 22ms/step - loss: 1.8853 - accuracy: 0.2904 - val_loss: 1.7912 - val_accuracy: 0.3050\n",
      "\n",
      "Epoch 00047: val_loss improved from 1.79571 to 1.79125, saving model to saved_models/audio_classification_17:34:29.hdf5\n",
      "Epoch 48/150\n",
      "25/25 [==============================] - 0s 16ms/step - loss: 1.8277 - accuracy: 0.3304 - val_loss: 1.7944 - val_accuracy: 0.2900\n",
      "\n",
      "Epoch 00048: val_loss did not improve from 1.79125\n",
      "Epoch 49/150\n",
      "25/25 [==============================] - 0s 17ms/step - loss: 1.8171 - accuracy: 0.3179 - val_loss: 1.7726 - val_accuracy: 0.2750\n",
      "\n",
      "Epoch 00049: val_loss improved from 1.79125 to 1.77265, saving model to saved_models/audio_classification_17:34:29.hdf5\n",
      "Epoch 50/150\n",
      "25/25 [==============================] - 1s 20ms/step - loss: 1.8671 - accuracy: 0.3129 - val_loss: 1.7777 - val_accuracy: 0.2700\n",
      "\n",
      "Epoch 00050: val_loss did not improve from 1.77265\n",
      "Epoch 51/150\n",
      "25/25 [==============================] - 1s 23ms/step - loss: 1.7987 - accuracy: 0.3479 - val_loss: 1.7493 - val_accuracy: 0.3200\n",
      "\n",
      "Epoch 00051: val_loss improved from 1.77265 to 1.74929, saving model to saved_models/audio_classification_17:34:29.hdf5\n",
      "Epoch 52/150\n",
      "25/25 [==============================] - 0s 15ms/step - loss: 1.8149 - accuracy: 0.3179 - val_loss: 1.7595 - val_accuracy: 0.2900\n",
      "\n",
      "Epoch 00052: val_loss did not improve from 1.74929\n",
      "Epoch 53/150\n",
      "25/25 [==============================] - 0s 16ms/step - loss: 1.8322 - accuracy: 0.3417 - val_loss: 1.7607 - val_accuracy: 0.3100\n",
      "\n",
      "Epoch 00053: val_loss did not improve from 1.74929\n",
      "Epoch 54/150\n",
      "25/25 [==============================] - 0s 19ms/step - loss: 1.8174 - accuracy: 0.3279 - val_loss: 1.7622 - val_accuracy: 0.3150\n",
      "\n",
      "Epoch 00054: val_loss did not improve from 1.74929\n",
      "Epoch 55/150\n",
      "25/25 [==============================] - 1s 22ms/step - loss: 1.8096 - accuracy: 0.3279 - val_loss: 1.7607 - val_accuracy: 0.3000\n",
      "\n",
      "Epoch 00055: val_loss did not improve from 1.74929\n",
      "Epoch 56/150\n",
      "25/25 [==============================] - 1s 23ms/step - loss: 1.7746 - accuracy: 0.3567 - val_loss: 1.7578 - val_accuracy: 0.3100\n",
      "\n",
      "Epoch 00056: val_loss did not improve from 1.74929\n",
      "Epoch 57/150\n",
      "25/25 [==============================] - 1s 22ms/step - loss: 1.7577 - accuracy: 0.3517 - val_loss: 1.7422 - val_accuracy: 0.3050\n",
      "\n",
      "Epoch 00057: val_loss improved from 1.74929 to 1.74222, saving model to saved_models/audio_classification_17:34:29.hdf5\n",
      "Epoch 58/150\n",
      "25/25 [==============================] - 0s 17ms/step - loss: 1.7655 - accuracy: 0.3605 - val_loss: 1.7246 - val_accuracy: 0.3100\n",
      "\n",
      "Epoch 00058: val_loss improved from 1.74222 to 1.72458, saving model to saved_models/audio_classification_17:34:29.hdf5\n",
      "Epoch 59/150\n",
      "25/25 [==============================] - 0s 16ms/step - loss: 1.7729 - accuracy: 0.3417 - val_loss: 1.7183 - val_accuracy: 0.3350\n",
      "\n",
      "Epoch 00059: val_loss improved from 1.72458 to 1.71826, saving model to saved_models/audio_classification_17:34:29.hdf5\n",
      "Epoch 60/150\n",
      "25/25 [==============================] - 0s 16ms/step - loss: 1.7432 - accuracy: 0.3429 - val_loss: 1.7099 - val_accuracy: 0.3450\n",
      "\n",
      "Epoch 00060: val_loss improved from 1.71826 to 1.70994, saving model to saved_models/audio_classification_17:34:29.hdf5\n",
      "Epoch 61/150\n",
      "25/25 [==============================] - 0s 19ms/step - loss: 1.7521 - accuracy: 0.3792 - val_loss: 1.7244 - val_accuracy: 0.3550\n",
      "\n",
      "Epoch 00061: val_loss did not improve from 1.70994\n",
      "Epoch 62/150\n",
      "25/25 [==============================] - 0s 16ms/step - loss: 1.7047 - accuracy: 0.3705 - val_loss: 1.6878 - val_accuracy: 0.3500\n",
      "\n",
      "Epoch 00062: val_loss improved from 1.70994 to 1.68779, saving model to saved_models/audio_classification_17:34:29.hdf5\n",
      "Epoch 63/150\n",
      "25/25 [==============================] - 0s 18ms/step - loss: 1.7522 - accuracy: 0.3529 - val_loss: 1.7143 - val_accuracy: 0.3200\n",
      "\n",
      "Epoch 00063: val_loss did not improve from 1.68779\n",
      "Epoch 64/150\n",
      "25/25 [==============================] - 0s 16ms/step - loss: 1.7091 - accuracy: 0.3617 - val_loss: 1.7021 - val_accuracy: 0.3300\n",
      "\n",
      "Epoch 00064: val_loss did not improve from 1.68779\n",
      "Epoch 65/150\n",
      "25/25 [==============================] - 0s 16ms/step - loss: 1.6654 - accuracy: 0.3830 - val_loss: 1.7176 - val_accuracy: 0.3250\n",
      "\n",
      "Epoch 00065: val_loss did not improve from 1.68779\n",
      "Epoch 66/150\n",
      "25/25 [==============================] - 0s 19ms/step - loss: 1.7033 - accuracy: 0.3542 - val_loss: 1.6713 - val_accuracy: 0.3500\n",
      "\n",
      "Epoch 00066: val_loss improved from 1.68779 to 1.67126, saving model to saved_models/audio_classification_17:34:29.hdf5\n",
      "Epoch 67/150\n",
      "25/25 [==============================] - 1s 23ms/step - loss: 1.6835 - accuracy: 0.3842 - val_loss: 1.7037 - val_accuracy: 0.3250\n",
      "\n",
      "Epoch 00067: val_loss did not improve from 1.67126\n",
      "Epoch 68/150\n",
      "25/25 [==============================] - 1s 21ms/step - loss: 1.6552 - accuracy: 0.3867 - val_loss: 1.6788 - val_accuracy: 0.3350\n",
      "\n",
      "Epoch 00068: val_loss did not improve from 1.67126\n",
      "Epoch 69/150\n",
      "25/25 [==============================] - 1s 23ms/step - loss: 1.7002 - accuracy: 0.3605 - val_loss: 1.6990 - val_accuracy: 0.3500\n",
      "\n",
      "Epoch 00069: val_loss did not improve from 1.67126\n",
      "Epoch 70/150\n",
      "25/25 [==============================] - 0s 16ms/step - loss: 1.6790 - accuracy: 0.3855 - val_loss: 1.6822 - val_accuracy: 0.3350\n",
      "\n",
      "Epoch 00070: val_loss did not improve from 1.67126\n",
      "Epoch 71/150\n",
      "25/25 [==============================] - 0s 16ms/step - loss: 1.6608 - accuracy: 0.3842 - val_loss: 1.6574 - val_accuracy: 0.3700\n",
      "\n",
      "Epoch 00071: val_loss improved from 1.67126 to 1.65744, saving model to saved_models/audio_classification_17:34:29.hdf5\n",
      "Epoch 72/150\n",
      "25/25 [==============================] - 1s 21ms/step - loss: 1.7087 - accuracy: 0.3780 - val_loss: 1.6843 - val_accuracy: 0.3700\n",
      "\n",
      "Epoch 00072: val_loss did not improve from 1.65744\n",
      "Epoch 73/150\n",
      "25/25 [==============================] - 1s 21ms/step - loss: 1.6320 - accuracy: 0.3992 - val_loss: 1.6629 - val_accuracy: 0.3850\n",
      "\n",
      "Epoch 00073: val_loss did not improve from 1.65744\n",
      "Epoch 74/150\n",
      "25/25 [==============================] - 1s 20ms/step - loss: 1.6346 - accuracy: 0.3980 - val_loss: 1.6602 - val_accuracy: 0.3600\n",
      "\n",
      "Epoch 00074: val_loss did not improve from 1.65744\n",
      "Epoch 75/150\n",
      "25/25 [==============================] - 1s 23ms/step - loss: 1.6324 - accuracy: 0.3867 - val_loss: 1.6198 - val_accuracy: 0.3750\n",
      "\n",
      "Epoch 00075: val_loss improved from 1.65744 to 1.61981, saving model to saved_models/audio_classification_17:34:29.hdf5\n",
      "Epoch 76/150\n",
      "25/25 [==============================] - 1s 44ms/step - loss: 1.6400 - accuracy: 0.3980 - val_loss: 1.6462 - val_accuracy: 0.3600\n",
      "\n",
      "Epoch 00076: val_loss did not improve from 1.61981\n",
      "Epoch 77/150\n",
      "25/25 [==============================] - 1s 30ms/step - loss: 1.6050 - accuracy: 0.3792 - val_loss: 1.6682 - val_accuracy: 0.3700\n",
      "\n",
      "Epoch 00077: val_loss did not improve from 1.61981\n",
      "Epoch 78/150\n",
      "25/25 [==============================] - 1s 34ms/step - loss: 1.6404 - accuracy: 0.3892 - val_loss: 1.6420 - val_accuracy: 0.3850\n",
      "\n",
      "Epoch 00078: val_loss did not improve from 1.61981\n",
      "Epoch 79/150\n",
      "25/25 [==============================] - 1s 36ms/step - loss: 1.5991 - accuracy: 0.4068 - val_loss: 1.6227 - val_accuracy: 0.3850\n",
      "\n",
      "Epoch 00079: val_loss did not improve from 1.61981\n",
      "Epoch 80/150\n",
      "25/25 [==============================] - 1s 26ms/step - loss: 1.5815 - accuracy: 0.3980 - val_loss: 1.5903 - val_accuracy: 0.4400\n",
      "\n",
      "Epoch 00080: val_loss improved from 1.61981 to 1.59029, saving model to saved_models/audio_classification_17:34:29.hdf5\n",
      "Epoch 81/150\n",
      "25/25 [==============================] - 1s 21ms/step - loss: 1.6150 - accuracy: 0.3892 - val_loss: 1.6072 - val_accuracy: 0.4000\n",
      "\n",
      "Epoch 00081: val_loss did not improve from 1.59029\n",
      "Epoch 82/150\n",
      "25/25 [==============================] - 0s 16ms/step - loss: 1.5619 - accuracy: 0.4368 - val_loss: 1.5856 - val_accuracy: 0.3950\n",
      "\n",
      "Epoch 00082: val_loss improved from 1.59029 to 1.58557, saving model to saved_models/audio_classification_17:34:29.hdf5\n",
      "Epoch 83/150\n",
      "25/25 [==============================] - 0s 16ms/step - loss: 1.5709 - accuracy: 0.4130 - val_loss: 1.6056 - val_accuracy: 0.3700\n",
      "\n",
      "Epoch 00083: val_loss did not improve from 1.58557\n",
      "Epoch 84/150\n",
      "25/25 [==============================] - 0s 16ms/step - loss: 1.6290 - accuracy: 0.3867 - val_loss: 1.6007 - val_accuracy: 0.3750\n",
      "\n",
      "Epoch 00084: val_loss did not improve from 1.58557\n",
      "Epoch 85/150\n",
      "25/25 [==============================] - 0s 17ms/step - loss: 1.5771 - accuracy: 0.4193 - val_loss: 1.5891 - val_accuracy: 0.3800\n",
      "\n",
      "Epoch 00085: val_loss did not improve from 1.58557\n",
      "Epoch 86/150\n",
      "25/25 [==============================] - 0s 19ms/step - loss: 1.5875 - accuracy: 0.4093 - val_loss: 1.5893 - val_accuracy: 0.3550\n",
      "\n",
      "Epoch 00086: val_loss did not improve from 1.58557\n",
      "Epoch 87/150\n",
      "25/25 [==============================] - 1s 21ms/step - loss: 1.6061 - accuracy: 0.4005 - val_loss: 1.5761 - val_accuracy: 0.4050\n",
      "\n",
      "Epoch 00087: val_loss improved from 1.58557 to 1.57615, saving model to saved_models/audio_classification_17:34:29.hdf5\n",
      "Epoch 88/150\n",
      "25/25 [==============================] - 1s 21ms/step - loss: 1.5944 - accuracy: 0.4055 - val_loss: 1.5644 - val_accuracy: 0.4300\n",
      "\n",
      "Epoch 00088: val_loss improved from 1.57615 to 1.56445, saving model to saved_models/audio_classification_17:34:29.hdf5\n",
      "Epoch 89/150\n",
      "25/25 [==============================] - 1s 20ms/step - loss: 1.5422 - accuracy: 0.4193 - val_loss: 1.5685 - val_accuracy: 0.4050\n",
      "\n",
      "Epoch 00089: val_loss did not improve from 1.56445\n",
      "Epoch 90/150\n",
      "25/25 [==============================] - 0s 16ms/step - loss: 1.5409 - accuracy: 0.4143 - val_loss: 1.5984 - val_accuracy: 0.4050\n",
      "\n",
      "Epoch 00090: val_loss did not improve from 1.56445\n",
      "Epoch 91/150\n",
      "25/25 [==============================] - 0s 18ms/step - loss: 1.5125 - accuracy: 0.4293 - val_loss: 1.5466 - val_accuracy: 0.4100\n",
      "\n",
      "Epoch 00091: val_loss improved from 1.56445 to 1.54655, saving model to saved_models/audio_classification_17:34:29.hdf5\n",
      "Epoch 92/150\n",
      "25/25 [==============================] - 1s 21ms/step - loss: 1.5406 - accuracy: 0.4330 - val_loss: 1.5505 - val_accuracy: 0.4450\n",
      "\n",
      "Epoch 00092: val_loss did not improve from 1.54655\n",
      "Epoch 93/150\n",
      "25/25 [==============================] - 1s 21ms/step - loss: 1.5153 - accuracy: 0.4380 - val_loss: 1.5170 - val_accuracy: 0.4250\n",
      "\n",
      "Epoch 00093: val_loss improved from 1.54655 to 1.51698, saving model to saved_models/audio_classification_17:34:29.hdf5\n",
      "Epoch 94/150\n",
      "25/25 [==============================] - 1s 21ms/step - loss: 1.4876 - accuracy: 0.4218 - val_loss: 1.5190 - val_accuracy: 0.4450\n",
      "\n",
      "Epoch 00094: val_loss did not improve from 1.51698\n",
      "Epoch 95/150\n",
      "25/25 [==============================] - 1s 23ms/step - loss: 1.4933 - accuracy: 0.4443 - val_loss: 1.5857 - val_accuracy: 0.4350\n",
      "\n",
      "Epoch 00095: val_loss did not improve from 1.51698\n",
      "Epoch 96/150\n",
      "25/25 [==============================] - 1s 21ms/step - loss: 1.5038 - accuracy: 0.4493 - val_loss: 1.4973 - val_accuracy: 0.4150\n",
      "\n",
      "Epoch 00096: val_loss improved from 1.51698 to 1.49728, saving model to saved_models/audio_classification_17:34:29.hdf5\n",
      "Epoch 97/150\n",
      "25/25 [==============================] - 1s 23ms/step - loss: 1.4886 - accuracy: 0.4431 - val_loss: 1.5089 - val_accuracy: 0.4600\n",
      "\n",
      "Epoch 00097: val_loss did not improve from 1.49728\n",
      "Epoch 98/150\n",
      "25/25 [==============================] - 1s 21ms/step - loss: 1.4536 - accuracy: 0.4531 - val_loss: 1.4787 - val_accuracy: 0.4400\n",
      "\n",
      "Epoch 00098: val_loss improved from 1.49728 to 1.47871, saving model to saved_models/audio_classification_17:34:29.hdf5\n",
      "Epoch 99/150\n",
      "25/25 [==============================] - 0s 19ms/step - loss: 1.4604 - accuracy: 0.4668 - val_loss: 1.5110 - val_accuracy: 0.4450\n",
      "\n",
      "Epoch 00099: val_loss did not improve from 1.47871\n",
      "Epoch 100/150\n",
      "25/25 [==============================] - 0s 17ms/step - loss: 1.4551 - accuracy: 0.4668 - val_loss: 1.4668 - val_accuracy: 0.4450\n",
      "\n",
      "Epoch 00100: val_loss improved from 1.47871 to 1.46676, saving model to saved_models/audio_classification_17:34:29.hdf5\n",
      "Epoch 101/150\n",
      "25/25 [==============================] - 1s 21ms/step - loss: 1.4098 - accuracy: 0.4606 - val_loss: 1.4573 - val_accuracy: 0.4250\n",
      "\n",
      "Epoch 00101: val_loss improved from 1.46676 to 1.45728, saving model to saved_models/audio_classification_17:34:29.hdf5\n",
      "Epoch 102/150\n",
      "25/25 [==============================] - 1s 21ms/step - loss: 1.5013 - accuracy: 0.4493 - val_loss: 1.4849 - val_accuracy: 0.4600\n",
      "\n",
      "Epoch 00102: val_loss did not improve from 1.45728\n",
      "Epoch 103/150\n",
      "25/25 [==============================] - 1s 21ms/step - loss: 1.4165 - accuracy: 0.4731 - val_loss: 1.4451 - val_accuracy: 0.4400\n",
      "\n",
      "Epoch 00103: val_loss improved from 1.45728 to 1.44511, saving model to saved_models/audio_classification_17:34:29.hdf5\n",
      "Epoch 104/150\n",
      "25/25 [==============================] - 1s 21ms/step - loss: 1.4030 - accuracy: 0.4831 - val_loss: 1.4575 - val_accuracy: 0.4450\n",
      "\n",
      "Epoch 00104: val_loss did not improve from 1.44511\n",
      "Epoch 105/150\n",
      "25/25 [==============================] - 1s 22ms/step - loss: 1.4074 - accuracy: 0.4706 - val_loss: 1.4381 - val_accuracy: 0.4400\n",
      "\n",
      "Epoch 00105: val_loss improved from 1.44511 to 1.43806, saving model to saved_models/audio_classification_17:34:29.hdf5\n",
      "Epoch 106/150\n",
      "25/25 [==============================] - 1s 20ms/step - loss: 1.4173 - accuracy: 0.4531 - val_loss: 1.4629 - val_accuracy: 0.4650\n",
      "\n",
      "Epoch 00106: val_loss did not improve from 1.43806\n",
      "Epoch 107/150\n",
      "25/25 [==============================] - 1s 21ms/step - loss: 1.3808 - accuracy: 0.5006 - val_loss: 1.4424 - val_accuracy: 0.4800\n",
      "\n",
      "Epoch 00107: val_loss did not improve from 1.43806\n",
      "Epoch 108/150\n",
      "25/25 [==============================] - 0s 17ms/step - loss: 1.3593 - accuracy: 0.5156 - val_loss: 1.4478 - val_accuracy: 0.4400\n",
      "\n",
      "Epoch 00108: val_loss did not improve from 1.43806\n",
      "Epoch 109/150\n",
      "25/25 [==============================] - 0s 16ms/step - loss: 1.3796 - accuracy: 0.5081 - val_loss: 1.4515 - val_accuracy: 0.4700\n",
      "\n",
      "Epoch 00109: val_loss did not improve from 1.43806\n",
      "Epoch 110/150\n",
      "25/25 [==============================] - 0s 16ms/step - loss: 1.3691 - accuracy: 0.4994 - val_loss: 1.4114 - val_accuracy: 0.4700\n",
      "\n",
      "Epoch 00110: val_loss improved from 1.43806 to 1.41142, saving model to saved_models/audio_classification_17:34:29.hdf5\n",
      "Epoch 111/150\n",
      "25/25 [==============================] - 0s 16ms/step - loss: 1.3413 - accuracy: 0.4806 - val_loss: 1.4289 - val_accuracy: 0.4800\n",
      "\n",
      "Epoch 00111: val_loss did not improve from 1.41142\n",
      "Epoch 112/150\n",
      "25/25 [==============================] - 0s 17ms/step - loss: 1.3585 - accuracy: 0.4856 - val_loss: 1.4115 - val_accuracy: 0.4700\n",
      "\n",
      "Epoch 00112: val_loss did not improve from 1.41142\n",
      "Epoch 113/150\n",
      "25/25 [==============================] - 0s 16ms/step - loss: 1.3567 - accuracy: 0.4969 - val_loss: 1.3936 - val_accuracy: 0.4750\n",
      "\n",
      "Epoch 00113: val_loss improved from 1.41142 to 1.39364, saving model to saved_models/audio_classification_17:34:29.hdf5\n",
      "Epoch 114/150\n",
      "25/25 [==============================] - 0s 17ms/step - loss: 1.3325 - accuracy: 0.5169 - val_loss: 1.3835 - val_accuracy: 0.4950\n",
      "\n",
      "Epoch 00114: val_loss improved from 1.39364 to 1.38355, saving model to saved_models/audio_classification_17:34:29.hdf5\n",
      "Epoch 115/150\n",
      "25/25 [==============================] - 0s 16ms/step - loss: 1.3288 - accuracy: 0.4844 - val_loss: 1.4533 - val_accuracy: 0.4850\n",
      "\n",
      "Epoch 00115: val_loss did not improve from 1.38355\n",
      "Epoch 116/150\n",
      "25/25 [==============================] - 0s 17ms/step - loss: 1.3248 - accuracy: 0.5207 - val_loss: 1.3688 - val_accuracy: 0.4800\n",
      "\n",
      "Epoch 00116: val_loss improved from 1.38355 to 1.36882, saving model to saved_models/audio_classification_17:34:29.hdf5\n",
      "Epoch 117/150\n",
      "25/25 [==============================] - 0s 17ms/step - loss: 1.3234 - accuracy: 0.5031 - val_loss: 1.3859 - val_accuracy: 0.4650\n",
      "\n",
      "Epoch 00117: val_loss did not improve from 1.36882\n",
      "Epoch 118/150\n",
      "25/25 [==============================] - 0s 17ms/step - loss: 1.3254 - accuracy: 0.5031 - val_loss: 1.4201 - val_accuracy: 0.4650\n",
      "\n",
      "Epoch 00118: val_loss did not improve from 1.36882\n",
      "Epoch 119/150\n",
      "25/25 [==============================] - 0s 17ms/step - loss: 1.3329 - accuracy: 0.5081 - val_loss: 1.3738 - val_accuracy: 0.5000\n",
      "\n",
      "Epoch 00119: val_loss did not improve from 1.36882\n",
      "Epoch 120/150\n",
      "25/25 [==============================] - 0s 17ms/step - loss: 1.2945 - accuracy: 0.5119 - val_loss: 1.3839 - val_accuracy: 0.4800\n",
      "\n",
      "Epoch 00120: val_loss did not improve from 1.36882\n",
      "Epoch 121/150\n",
      "25/25 [==============================] - 0s 16ms/step - loss: 1.2949 - accuracy: 0.5006 - val_loss: 1.3638 - val_accuracy: 0.4900\n",
      "\n",
      "Epoch 00121: val_loss improved from 1.36882 to 1.36381, saving model to saved_models/audio_classification_17:34:29.hdf5\n",
      "Epoch 122/150\n",
      "25/25 [==============================] - 0s 16ms/step - loss: 1.2596 - accuracy: 0.5344 - val_loss: 1.3779 - val_accuracy: 0.4800\n",
      "\n",
      "Epoch 00122: val_loss did not improve from 1.36381\n",
      "Epoch 123/150\n",
      "25/25 [==============================] - 0s 17ms/step - loss: 1.2184 - accuracy: 0.5432 - val_loss: 1.3792 - val_accuracy: 0.4900\n",
      "\n",
      "Epoch 00123: val_loss did not improve from 1.36381\n",
      "Epoch 124/150\n",
      "25/25 [==============================] - 0s 16ms/step - loss: 1.2599 - accuracy: 0.4969 - val_loss: 1.3805 - val_accuracy: 0.4700\n",
      "\n",
      "Epoch 00124: val_loss did not improve from 1.36381\n",
      "Epoch 125/150\n",
      "25/25 [==============================] - 0s 17ms/step - loss: 1.2334 - accuracy: 0.5507 - val_loss: 1.3833 - val_accuracy: 0.4850\n",
      "\n",
      "Epoch 00125: val_loss did not improve from 1.36381\n",
      "Epoch 126/150\n",
      "25/25 [==============================] - 0s 16ms/step - loss: 1.2395 - accuracy: 0.5432 - val_loss: 1.3454 - val_accuracy: 0.4850\n",
      "\n",
      "Epoch 00126: val_loss improved from 1.36381 to 1.34539, saving model to saved_models/audio_classification_17:34:29.hdf5\n",
      "Epoch 127/150\n",
      "25/25 [==============================] - 0s 18ms/step - loss: 1.2239 - accuracy: 0.5407 - val_loss: 1.3841 - val_accuracy: 0.4800\n",
      "\n",
      "Epoch 00127: val_loss did not improve from 1.34539\n",
      "Epoch 128/150\n",
      "25/25 [==============================] - 1s 21ms/step - loss: 1.2411 - accuracy: 0.5507 - val_loss: 1.3631 - val_accuracy: 0.4850\n",
      "\n",
      "Epoch 00128: val_loss did not improve from 1.34539\n",
      "Epoch 129/150\n",
      "25/25 [==============================] - 1s 23ms/step - loss: 1.2106 - accuracy: 0.5569 - val_loss: 1.3855 - val_accuracy: 0.4800\n",
      "\n",
      "Epoch 00129: val_loss did not improve from 1.34539\n",
      "Epoch 130/150\n",
      "25/25 [==============================] - 1s 23ms/step - loss: 1.2106 - accuracy: 0.5682 - val_loss: 1.3601 - val_accuracy: 0.4900\n",
      "\n",
      "Epoch 00130: val_loss did not improve from 1.34539\n",
      "Epoch 131/150\n",
      "25/25 [==============================] - 1s 23ms/step - loss: 1.2042 - accuracy: 0.5695 - val_loss: 1.3632 - val_accuracy: 0.4900\n",
      "\n",
      "Epoch 00131: val_loss did not improve from 1.34539\n",
      "Epoch 132/150\n",
      "25/25 [==============================] - 1s 21ms/step - loss: 1.1898 - accuracy: 0.5607 - val_loss: 1.3638 - val_accuracy: 0.4850\n",
      "\n",
      "Epoch 00132: val_loss did not improve from 1.34539\n",
      "Epoch 133/150\n",
      "25/25 [==============================] - 1s 22ms/step - loss: 1.1634 - accuracy: 0.5770 - val_loss: 1.3538 - val_accuracy: 0.5050\n",
      "\n",
      "Epoch 00133: val_loss did not improve from 1.34539\n",
      "Epoch 134/150\n",
      "25/25 [==============================] - 1s 21ms/step - loss: 1.1431 - accuracy: 0.5820 - val_loss: 1.3903 - val_accuracy: 0.4900\n",
      "\n",
      "Epoch 00134: val_loss did not improve from 1.34539\n",
      "Epoch 135/150\n",
      "25/25 [==============================] - 1s 22ms/step - loss: 1.1329 - accuracy: 0.5732 - val_loss: 1.3285 - val_accuracy: 0.4900\n",
      "\n",
      "Epoch 00135: val_loss improved from 1.34539 to 1.32851, saving model to saved_models/audio_classification_17:34:29.hdf5\n",
      "Epoch 136/150\n",
      "25/25 [==============================] - 1s 21ms/step - loss: 1.1516 - accuracy: 0.5582 - val_loss: 1.4115 - val_accuracy: 0.5000\n",
      "\n",
      "Epoch 00136: val_loss did not improve from 1.32851\n",
      "Epoch 137/150\n",
      "25/25 [==============================] - 1s 22ms/step - loss: 1.1630 - accuracy: 0.5795 - val_loss: 1.3325 - val_accuracy: 0.5250\n",
      "\n",
      "Epoch 00137: val_loss did not improve from 1.32851\n",
      "Epoch 138/150\n",
      "25/25 [==============================] - 1s 22ms/step - loss: 1.1594 - accuracy: 0.5707 - val_loss: 1.3309 - val_accuracy: 0.5350\n",
      "\n",
      "Epoch 00138: val_loss did not improve from 1.32851\n",
      "Epoch 139/150\n",
      "25/25 [==============================] - 1s 22ms/step - loss: 1.1592 - accuracy: 0.5857 - val_loss: 1.3770 - val_accuracy: 0.5300\n",
      "\n",
      "Epoch 00139: val_loss did not improve from 1.32851\n",
      "Epoch 140/150\n",
      "25/25 [==============================] - 1s 24ms/step - loss: 1.1226 - accuracy: 0.5620 - val_loss: 1.3972 - val_accuracy: 0.5150\n",
      "\n",
      "Epoch 00140: val_loss did not improve from 1.32851\n",
      "Epoch 141/150\n",
      "25/25 [==============================] - 1s 22ms/step - loss: 1.1155 - accuracy: 0.6033 - val_loss: 1.3172 - val_accuracy: 0.5250\n",
      "\n",
      "Epoch 00141: val_loss improved from 1.32851 to 1.31720, saving model to saved_models/audio_classification_17:34:29.hdf5\n",
      "Epoch 142/150\n",
      "25/25 [==============================] - 1s 22ms/step - loss: 1.0788 - accuracy: 0.6158 - val_loss: 1.3653 - val_accuracy: 0.5200\n",
      "\n",
      "Epoch 00142: val_loss did not improve from 1.31720\n",
      "Epoch 143/150\n",
      "25/25 [==============================] - 1s 22ms/step - loss: 1.1153 - accuracy: 0.5920 - val_loss: 1.3304 - val_accuracy: 0.5500\n",
      "\n",
      "Epoch 00143: val_loss did not improve from 1.31720\n",
      "Epoch 144/150\n",
      "25/25 [==============================] - 0s 18ms/step - loss: 1.0559 - accuracy: 0.6070 - val_loss: 1.3196 - val_accuracy: 0.5350\n",
      "\n",
      "Epoch 00144: val_loss did not improve from 1.31720\n",
      "Epoch 145/150\n",
      "25/25 [==============================] - 0s 17ms/step - loss: 1.0913 - accuracy: 0.5920 - val_loss: 1.3622 - val_accuracy: 0.5450\n",
      "\n",
      "Epoch 00145: val_loss did not improve from 1.31720\n",
      "Epoch 146/150\n",
      "25/25 [==============================] - 0s 17ms/step - loss: 1.1236 - accuracy: 0.5932 - val_loss: 1.3163 - val_accuracy: 0.5450\n",
      "\n",
      "Epoch 00146: val_loss improved from 1.31720 to 1.31632, saving model to saved_models/audio_classification_17:34:29.hdf5\n",
      "Epoch 147/150\n",
      "25/25 [==============================] - 0s 16ms/step - loss: 1.0636 - accuracy: 0.6208 - val_loss: 1.3453 - val_accuracy: 0.5400\n",
      "\n",
      "Epoch 00147: val_loss did not improve from 1.31632\n",
      "Epoch 148/150\n",
      "25/25 [==============================] - 0s 18ms/step - loss: 1.0665 - accuracy: 0.6208 - val_loss: 1.3126 - val_accuracy: 0.5800\n",
      "\n",
      "Epoch 00148: val_loss improved from 1.31632 to 1.31260, saving model to saved_models/audio_classification_17:34:29.hdf5\n",
      "Epoch 149/150\n",
      "25/25 [==============================] - 0s 18ms/step - loss: 1.0507 - accuracy: 0.6183 - val_loss: 1.3152 - val_accuracy: 0.5700\n",
      "\n",
      "Epoch 00149: val_loss did not improve from 1.31260\n",
      "Epoch 150/150\n",
      "25/25 [==============================] - 0s 17ms/step - loss: 1.0727 - accuracy: 0.6058 - val_loss: 1.3416 - val_accuracy: 0.5500\n",
      "\n",
      "Epoch 00150: val_loss did not improve from 1.31260\n",
      "Training completed in time:  0:01:23.740387\n"
     ]
    }
   ],
   "source": [
    "## Trianing my model\n",
    "from tensorflow.keras.callbacks import ModelCheckpoint\n",
    "from datetime import datetime \n",
    "\n",
    "num_epochs = 150\n",
    "num_batch_size = 32\n",
    "\n",
    "checkpointer = ModelCheckpoint(filepath=f'saved_models/audio_classification_{current_time}.hdf5', \n",
    "                               verbose=1, save_best_only=True)\n",
    "start = datetime.now()\n",
    "\n",
    "history = model.fit(X_train, y_train, batch_size=num_batch_size, epochs=num_epochs, validation_data=(X_test, y_test), callbacks=[checkpointer], verbose=1)\n",
    "\n",
    "\n",
    "duration = datetime.now() - start\n",
    "print(\"Training completed in time: \", duration)"
   ]
  },
  {
   "cell_type": "code",
   "execution_count": null,
   "metadata": {
    "colab": {
     "base_uri": "https://localhost:8080/"
    },
    "id": "IJusRAFaxRDc",
    "outputId": "b56cfecc-7797-416d-c580-5f10e34df4dd"
   },
   "outputs": [
    {
     "data": {
      "text/plain": [
       "[1.3415554761886597, 0.550000011920929]"
      ]
     },
     "execution_count": 27,
     "metadata": {},
     "output_type": "execute_result"
    }
   ],
   "source": [
    "model.evaluate(X_test,y_test,verbose=0)"
   ]
  },
  {
   "cell_type": "code",
   "execution_count": null,
   "metadata": {
    "colab": {
     "base_uri": "https://localhost:8080/",
     "height": 374
    },
    "id": "gM6mdwNU53Ha",
    "outputId": "d146b385-f2e1-497a-c8e5-722d9177b384"
   },
   "outputs": [
    {
     "data": {
      "image/png": "[encoded data removed]",
      "text/plain": [
       "<Figure size 864x432 with 1 Axes>"
      ]
     },
     "metadata": {
      "needs_background": "light"
     },
     "output_type": "display_data"
    }
   ],
   "source": [
    "pd.DataFrame(history.history).plot(figsize=(12,6))\n",
    "plt.show()"
   ]
  },
  {
   "cell_type": "code",
   "execution_count": null,
   "metadata": {
    "colab": {
     "base_uri": "https://localhost:8080/"
    },
    "id": "rgGW4zsIxRDc",
    "outputId": "eca0093a-06f0-4e8a-a5bc-f4663c160227"
   },
   "outputs": [
    {
     "name": "stderr",
     "output_type": "stream",
     "text": [
      "/usr/local/lib/python3.7/dist-packages/tensorflow/python/keras/engine/sequential.py:455: UserWarning: `model.predict_classes()` is deprecated and will be removed after 2021-01-01. Please use instead:* `np.argmax(model.predict(x), axis=-1)`,   if your model does multi-class classification   (e.g. if it uses a `softmax` last-layer activation).* `(model.predict(x) > 0.5).astype(\"int32\")`,   if your model does binary classification   (e.g. if it uses a `sigmoid` last-layer activation).\n",
      "  warnings.warn('`model.predict_classes()` is deprecated and '\n"
     ]
    },
    {
     "data": {
      "text/plain": [
       "array([7, 9, 8, 6, 9, 5, 3, 4, 0, 9, 6, 2, 3, 8, 3, 3, 9, 3, 3, 3, 6, 8,\n",
       "       5, 9, 1, 2, 0, 9, 4, 3, 6, 3, 7, 4, 7, 7, 9, 4, 5, 3, 9, 5, 6, 0,\n",
       "       0, 3, 7, 3, 9, 8, 3, 3, 4, 1, 8, 4, 4, 2, 8, 5, 4, 6, 1, 3, 7, 8,\n",
       "       5, 8, 3, 6, 1, 5, 5, 3, 6, 4, 6, 4, 6, 9, 6, 2, 6, 0, 3, 3, 2, 0,\n",
       "       2, 7, 3, 8, 8, 5, 2, 6, 3, 4, 5, 0, 1, 5, 6, 6, 7, 5, 1, 0, 5, 0,\n",
       "       0, 1, 8, 8, 3, 5, 7, 8, 9, 8, 0, 4, 4, 6, 2, 0, 2, 4, 6, 3, 7, 4,\n",
       "       7, 6, 3, 0, 0, 1, 7, 2, 5, 3, 6, 3, 4, 0, 0, 1, 0, 0, 3, 0, 7, 5,\n",
       "       8, 2, 4, 3, 6, 4, 1, 5, 1, 5, 7, 5, 3, 7, 1, 2, 2, 8, 4, 3, 6, 1,\n",
       "       7, 4, 5, 8, 0, 3, 2, 6, 3, 0, 3, 9, 8, 5, 4, 6, 7, 0, 6, 1, 0, 8,\n",
       "       3, 8])"
      ]
     },
     "execution_count": 29,
     "metadata": {},
     "output_type": "execute_result"
    }
   ],
   "source": [
    "model.predict_classes(X_test)"
   ]
  },
  {
   "cell_type": "code",
   "execution_count": null,
   "metadata": {
    "colab": {
     "base_uri": "https://localhost:8080/"
    },
    "id": "j6qgqKtOxRDd",
    "outputId": "8205d050-50f9-4d2a-db15-325456385d8b"
   },
   "outputs": [
    {
     "name": "stdout",
     "output_type": "stream",
     "text": [
      "[0]\n"
     ]
    },
    {
     "name": "stderr",
     "output_type": "stream",
     "text": [
      "/usr/local/lib/python3.7/dist-packages/tensorflow/python/keras/engine/sequential.py:455: UserWarning: `model.predict_classes()` is deprecated and will be removed after 2021-01-01. Please use instead:* `np.argmax(model.predict(x), axis=-1)`,   if your model does multi-class classification   (e.g. if it uses a `softmax` last-layer activation).* `(model.predict(x) > 0.5).astype(\"int32\")`,   if your model does binary classification   (e.g. if it uses a `sigmoid` last-layer activation).\n",
      "  warnings.warn('`model.predict_classes()` is deprecated and '\n"
     ]
    },
    {
     "data": {
      "text/plain": [
       "array(['blues'], dtype='<U9')"
      ]
     },
     "execution_count": 32,
     "metadata": {},
     "output_type": "execute_result"
    }
   ],
   "source": [
    "filename= \"/content/drive/MyDrive/dataset/Data/Test_audio/y2meta.com-Kabaka-Pyramid-Reggae-Music-_Official-Audio-Kontraband-Album_-_128-kbps_-_1_.wav\"\n",
    "audio, sample_rate = librosa.load(filename, res_type='kaiser_fast') \n",
    "mfccs_features = librosa.feature.mfcc(y=audio, sr=sample_rate, n_mfcc=40)\n",
    "mfccs_scaled_features = np.mean(mfccs_features.T,axis=0)\n",
    "\n",
    "#print(mfccs_scaled_features)\n",
    "mfccs_scaled_features=mfccs_scaled_features.reshape(1,-1)\n",
    "#print(mfccs_scaled_features)\n",
    "#print(mfccs_scaled_features.shape)\n",
    "predicted_label=model.predict_classes(mfccs_scaled_features)\n",
    "print(predicted_label)\n",
    "prediction_class = labelencoder.inverse_transform(predicted_label) \n",
    "prediction_class"
   ]
  }
 ],
 "metadata": {
  "colab": {
   "collapsed_sections": [],
   "name": "Ai-1st-model",
   "provenance": []
  },
  "kernelspec": {
   "display_name": "Python 3 (ipykernel)",
   "language": "python",
   "name": "python3"
  },
  "language_info": {
   "codemirror_mode": {
    "name": "ipython",
    "version": 3
   },
   "file_extension": ".py",
   "mimetype": "text/x-python",
   "name": "python",
   "nbconvert_exporter": "python",
   "pygments_lexer": "ipython3",
   "version": "3.9.7"
  }
 },
 "nbformat": 4,
 "nbformat_minor": 1
}
