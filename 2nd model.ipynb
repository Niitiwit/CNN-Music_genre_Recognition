{
 "cells": [
  {
   "cell_type": "markdown",
   "metadata": {
    "id": "M0SYtWeQ5kUv"
   },
   "source": [
    "# **MUSICS' GENRE CLASSIFICATION**\n"
   ]
  },
  {
   "cell_type": "code",
   "execution_count": 1,
   "metadata": {
    "colab": {
     "base_uri": "https://localhost:8080/"
    },
    "id": "G6FrQe5gT3jh",
    "outputId": "d85e3d06-88ca-4fd3-a43f-81783a57fa79"
   },
   "outputs": [
    {
     "name": "stdout",
     "output_type": "stream",
     "text": [
      "Requirement already satisfied: TensorFlow==2.5 in /usr/local/lib/python3.7/dist-packages (2.5.0)\n",
      "Requirement already satisfied: flatbuffers~=1.12.0 in /usr/local/lib/python3.7/dist-packages (from TensorFlow==2.5) (1.12)\n",
      "Requirement already satisfied: tensorboard~=2.5 in /usr/local/lib/python3.7/dist-packages (from TensorFlow==2.5) (2.8.0)\n",
      "Requirement already satisfied: astunparse~=1.6.3 in /usr/local/lib/python3.7/dist-packages (from TensorFlow==2.5) (1.6.3)\n",
      "Requirement already satisfied: keras-preprocessing~=1.1.2 in /usr/local/lib/python3.7/dist-packages (from TensorFlow==2.5) (1.1.2)\n",
      "Requirement already satisfied: google-pasta~=0.2 in /usr/local/lib/python3.7/dist-packages (from TensorFlow==2.5) (0.2.0)\n",
      "Requirement already satisfied: wheel~=0.35 in /usr/local/lib/python3.7/dist-packages (from TensorFlow==2.5) (0.37.1)\n",
      "Requirement already satisfied: gast==0.4.0 in /usr/local/lib/python3.7/dist-packages (from TensorFlow==2.5) (0.4.0)\n",
      "Requirement already satisfied: opt-einsum~=3.3.0 in /usr/local/lib/python3.7/dist-packages (from TensorFlow==2.5) (3.3.0)\n",
      "Requirement already satisfied: keras-nightly~=2.5.0.dev in /usr/local/lib/python3.7/dist-packages (from TensorFlow==2.5) (2.5.0.dev2021032900)\n",
      "Requirement already satisfied: numpy~=1.19.2 in /usr/local/lib/python3.7/dist-packages (from TensorFlow==2.5) (1.19.5)\n",
      "Requirement already satisfied: absl-py~=0.10 in /usr/local/lib/python3.7/dist-packages (from TensorFlow==2.5) (0.15.0)\n",
      "Requirement already satisfied: typing-extensions~=3.7.4 in /usr/local/lib/python3.7/dist-packages (from TensorFlow==2.5) (3.7.4.3)\n",
      "Requirement already satisfied: protobuf>=3.9.2 in /usr/local/lib/python3.7/dist-packages (from TensorFlow==2.5) (3.17.3)\n",
      "Requirement already satisfied: grpcio~=1.34.0 in /usr/local/lib/python3.7/dist-packages (from TensorFlow==2.5) (1.34.1)\n",
      "Requirement already satisfied: tensorflow-estimator<2.6.0,>=2.5.0rc0 in /usr/local/lib/python3.7/dist-packages (from TensorFlow==2.5) (2.5.0)\n",
      "Requirement already satisfied: six~=1.15.0 in /usr/local/lib/python3.7/dist-packages (from TensorFlow==2.5) (1.15.0)\n",
      "Requirement already satisfied: termcolor~=1.1.0 in /usr/local/lib/python3.7/dist-packages (from TensorFlow==2.5) (1.1.0)\n",
      "Requirement already satisfied: wrapt~=1.12.1 in /usr/local/lib/python3.7/dist-packages (from TensorFlow==2.5) (1.12.1)\n",
      "Requirement already satisfied: h5py~=3.1.0 in /usr/local/lib/python3.7/dist-packages (from TensorFlow==2.5) (3.1.0)\n",
      "Requirement already satisfied: cached-property in /usr/local/lib/python3.7/dist-packages (from h5py~=3.1.0->TensorFlow==2.5) (1.5.2)\n",
      "Requirement already satisfied: werkzeug>=0.11.15 in /usr/local/lib/python3.7/dist-packages (from tensorboard~=2.5->TensorFlow==2.5) (1.0.1)\n",
      "Requirement already satisfied: google-auth-oauthlib<0.5,>=0.4.1 in /usr/local/lib/python3.7/dist-packages (from tensorboard~=2.5->TensorFlow==2.5) (0.4.6)\n",
      "Requirement already satisfied: markdown>=2.6.8 in /usr/local/lib/python3.7/dist-packages (from tensorboard~=2.5->TensorFlow==2.5) (3.3.6)\n",
      "Requirement already satisfied: requests<3,>=2.21.0 in /usr/local/lib/python3.7/dist-packages (from tensorboard~=2.5->TensorFlow==2.5) (2.23.0)\n",
      "Requirement already satisfied: google-auth<3,>=1.6.3 in /usr/local/lib/python3.7/dist-packages (from tensorboard~=2.5->TensorFlow==2.5) (1.35.0)\n",
      "Requirement already satisfied: tensorboard-plugin-wit>=1.6.0 in /usr/local/lib/python3.7/dist-packages (from tensorboard~=2.5->TensorFlow==2.5) (1.8.1)\n",
      "Requirement already satisfied: setuptools>=41.0.0 in /usr/local/lib/python3.7/dist-packages (from tensorboard~=2.5->TensorFlow==2.5) (57.4.0)\n",
      "Requirement already satisfied: tensorboard-data-server<0.7.0,>=0.6.0 in /usr/local/lib/python3.7/dist-packages (from tensorboard~=2.5->TensorFlow==2.5) (0.6.1)\n",
      "Requirement already satisfied: rsa<5,>=3.1.4 in /usr/local/lib/python3.7/dist-packages (from google-auth<3,>=1.6.3->tensorboard~=2.5->TensorFlow==2.5) (4.8)\n",
      "Requirement already satisfied: pyasn1-modules>=0.2.1 in /usr/local/lib/python3.7/dist-packages (from google-auth<3,>=1.6.3->tensorboard~=2.5->TensorFlow==2.5) (0.2.8)\n",
      "Requirement already satisfied: cachetools<5.0,>=2.0.0 in /usr/local/lib/python3.7/dist-packages (from google-auth<3,>=1.6.3->tensorboard~=2.5->TensorFlow==2.5) (4.2.4)\n",
      "Requirement already satisfied: requests-oauthlib>=0.7.0 in /usr/local/lib/python3.7/dist-packages (from google-auth-oauthlib<0.5,>=0.4.1->tensorboard~=2.5->TensorFlow==2.5) (1.3.1)\n",
      "Requirement already satisfied: importlib-metadata>=4.4 in /usr/local/lib/python3.7/dist-packages (from markdown>=2.6.8->tensorboard~=2.5->TensorFlow==2.5) (4.11.3)\n",
      "Requirement already satisfied: zipp>=0.5 in /usr/local/lib/python3.7/dist-packages (from importlib-metadata>=4.4->markdown>=2.6.8->tensorboard~=2.5->TensorFlow==2.5) (3.8.0)\n",
      "Requirement already satisfied: pyasn1<0.5.0,>=0.4.6 in /usr/local/lib/python3.7/dist-packages (from pyasn1-modules>=0.2.1->google-auth<3,>=1.6.3->tensorboard~=2.5->TensorFlow==2.5) (0.4.8)\n",
      "Requirement already satisfied: certifi>=2017.4.17 in /usr/local/lib/python3.7/dist-packages (from requests<3,>=2.21.0->tensorboard~=2.5->TensorFlow==2.5) (2021.10.8)\n",
      "Requirement already satisfied: chardet<4,>=3.0.2 in /usr/local/lib/python3.7/dist-packages (from requests<3,>=2.21.0->tensorboard~=2.5->TensorFlow==2.5) (3.0.4)\n",
      "Requirement already satisfied: urllib3!=1.25.0,!=1.25.1,<1.26,>=1.21.1 in /usr/local/lib/python3.7/dist-packages (from requests<3,>=2.21.0->tensorboard~=2.5->TensorFlow==2.5) (1.24.3)\n",
      "Requirement already satisfied: idna<3,>=2.5 in /usr/local/lib/python3.7/dist-packages (from requests<3,>=2.21.0->tensorboard~=2.5->TensorFlow==2.5) (2.10)\n",
      "Requirement already satisfied: oauthlib>=3.0.0 in /usr/local/lib/python3.7/dist-packages (from requests-oauthlib>=0.7.0->google-auth-oauthlib<0.5,>=0.4.1->tensorboard~=2.5->TensorFlow==2.5) (3.2.0)\n"
     ]
    }
   ],
   "source": [
    "#From TensorFlow>2.5.0 the function Model.predic\n",
    "!pip install TensorFlow==2.5"
   ]
  },
  {
   "cell_type": "code",
   "execution_count": 2,
   "metadata": {
    "colab": {
     "base_uri": "https://localhost:8080/"
    },
    "id": "2VARVB_71hts",
    "outputId": "347d508d-b3be-4fcb-e78d-92b4ee5b619f"
   },
   "outputs": [
    {
     "name": "stdout",
     "output_type": "stream",
     "text": [
      "Found GPU at: /device:GPU:0\n"
     ]
    }
   ],
   "source": [
    "import tensorflow as tf\n",
    "device_name = tf.test.gpu_device_name()\n",
    "if device_name != '/device:GPU:0':\n",
    "  raise SystemError('GPU device not found')\n",
    "print('Found GPU at: {}'.format(device_name))"
   ]
  },
  {
   "cell_type": "code",
   "execution_count": 7,
   "metadata": {
    "id": "nAVnv2wH2zdQ"
   },
   "outputs": [],
   "source": [
    "import pandas as pd\n",
    "import numpy as np\n",
    "import os\n",
    "import IPython.display as ipd\n",
    "import librosa\n",
    "import librosa.display\n",
    "import matplotlib.pyplot as plt\n",
    "%matplotlib inline"
   ]
  },
  {
   "cell_type": "code",
   "execution_count": 3,
   "metadata": {
    "colab": {
     "base_uri": "https://localhost:8080/"
    },
    "id": "bb_bI5yyYq8T",
    "outputId": "247b54e6-46ee-48d9-8fce-158757f7b9de"
   },
   "outputs": [
    {
     "name": "stdout",
     "output_type": "stream",
     "text": [
      "Mounted at /content/drive\n"
     ]
    }
   ],
   "source": [
    "from google.colab import drive\n",
    "drive.mount('/content/drive')"
   ]
  },
  {
   "cell_type": "code",
   "execution_count": 4,
   "metadata": {
    "id": "yYWMgoahyqxg"
   },
   "outputs": [],
   "source": [
    "import os\n",
    "Root = \"/content/drive/MyDrive/dataset/Data\"\n",
    "os.chdir(Root)"
   ]
  },
  {
   "cell_type": "code",
   "execution_count": 5,
   "metadata": {
    "id": "JMZWpyVMCPBw"
   },
   "outputs": [],
   "source": [
    "#os.makedirs('/content/spectrograms3sec')\n",
    "#os.makedirs('/content/spectrograms3sec/train')\n",
    "#os.makedirs('/content/spectrograms3sec/test')\n",
    "\n",
    "genres = 'blues classical country disco pop hiphop metal reggae rock'\n",
    "genres = genres.split()\n",
    "for g in genres:\n",
    "  path_audio = os.path.join('/content/drive/MyDrive/dataset/Data/audio3sec',f'{g}')\n",
    "  #os.makedirs(path_audio)\n",
    "  path_train = os.path.join('/content/gdrive/My Drive/spectrograms3sec/train',f'{g}')\n",
    "  path_test = os.path.join('/content/gdrive/My Drive/spectrograms3sec/test',f'{g}')\n",
    "  #os. makedirs(path_train)\n",
    "  #os. makedirs(path_test)"
   ]
  },
  {
   "cell_type": "markdown",
   "metadata": {
    "id": "vTzFgSWyDo4e"
   },
   "source": [
    "## We concetenated the 30 second file into 3 second here"
   ]
  },
  {
   "cell_type": "code",
   "execution_count": null,
   "metadata": {
    "id": "hI4hOU8bCURx"
   },
   "outputs": [],
   "source": [
    "from pydub import AudioSegment\n",
    "i = 0\n",
    "for g in genres:\n",
    "  j=0\n",
    "  print(f\"{g}\")\n",
    "  for filename in os.listdir(os.path.join('/content/drive/MyDrive/dataset/Data/genres_original/',f\"{g}\")):\n",
    "\n",
    "    song  =  os.path.join(f'/content/drive/MyDrive/dataset/Data/genres_original/{g}',f'{filename}')\n",
    "    j = j+1\n",
    "    for w in range(0,10):\n",
    "      i = i+1\n",
    "      #print(i)\n",
    "      t1 = 3*(w)*1000\n",
    "      t2 = 3*(w+1)*1000\n",
    "      newAudio = AudioSegment.from_wav(song)\n",
    "      new = newAudio[t1:t2]\n",
    "      new.export(f'/content/drive/MyDrive/dataset/Data/audio3sec/{g}/{g+str(j)+str(w)}.wav', format=\"wav\")"
   ]
  },
  {
   "cell_type": "markdown",
   "metadata": {
    "id": "V84SZjuDD7es"
   },
   "source": [
    "## We did exact the file for Model 3 from Here only for easier of output\n",
    "\n"
   ]
  },
  {
   "cell_type": "code",
   "execution_count": null,
   "metadata": {
    "id": "byIQXGV1C37P"
   },
   "outputs": [],
   "source": [
    "for g in genres:\n",
    "  j = 0\n",
    "  print(g)\n",
    "  for filename in os.listdir(os.path.join('/content/drive/MyDrive/dataset/Data/audio3sec',f\"{g}\")):\n",
    "    song  =  os.path.join(f'/content/drive/MyDrive/dataset/Data/audio3sec/{g}',f'{filename}')\n",
    "    j = j+1\n",
    "    \n",
    "    y,sr = librosa.load(song,duration=3)\n",
    "    #print(sr)\n",
    "    mels = librosa.feature.melspectrogram(y=y,sr=sr)\n",
    "    fig = plt.Figure()\n",
    "    canvas = FigureCanvas(fig)\n",
    "    p = plt.imshow(librosa.power_to_db(mels,ref=np.max))\n",
    "    plt.savefig(f'/content/drive/MyDrive/dataset/Data/spectrograms3sec/test/{g}/{g+str(j)}.png')"
   ]
  },
  {
   "cell_type": "markdown",
   "metadata": {
    "id": "Pe0cR9Bkyvff"
   },
   "source": [
    "import pandas as pd\n",
    "import numpy as np\n",
    "import os\n",
    "import IPython.display as ipd\n",
    "import librosa\n",
    "import librosa.display\n",
    "import matplotlib.pyplot as plt\n",
    "%matplotlib inline"
   ]
  },
  {
   "cell_type": "markdown",
   "metadata": {
    "id": "i0aQ4n4AEASb"
   },
   "source": [
    "## We copy all files into train folder in this cell"
   ]
  },
  {
   "cell_type": "code",
   "execution_count": null,
   "metadata": {
    "id": "MZgDg5uGDJHX"
   },
   "outputs": [],
   "source": [
    "directory = \"/content/gdrive/My Drive/spectrograms3sec/test/\"\n",
    "for g in genres:\n",
    "  filenames = os.listdir(os.path.join(directory,f\"{g}\"))\n",
    "  random.shuffle(filenames)\n",
    "  test_files = filenames[0:100]\n",
    "\n",
    "  for f in test_files:\n",
    "\n",
    "    shutil.move(directory + f\"{g}\"+ \"/\" + f,\"/content/gdrive/My Drive/spectrograms3sec/train/\" + f\"{g}\")\n"
   ]
  },
  {
   "cell_type": "code",
   "execution_count": 8,
   "metadata": {
    "colab": {
     "base_uri": "https://localhost:8080/",
     "height": 299
    },
    "id": "EfBRGl3byy24",
    "outputId": "21e14b30-159e-48ae-ed77-d704e66b699b"
   },
   "outputs": [
    {
     "data": {
      "text/html": [
       "\n",
       "  <div id=\"df-82fe3ace-b38b-487a-9d8a-ef4a2e9a1f99\">\n",
       "    <div class=\"colab-df-container\">\n",
       "      <div>\n",
       "<style scoped>\n",
       "    .dataframe tbody tr th:only-of-type {\n",
       "        vertical-align: middle;\n",
       "    }\n",
       "\n",
       "    .dataframe tbody tr th {\n",
       "        vertical-align: top;\n",
       "    }\n",
       "\n",
       "    .dataframe thead th {\n",
       "        text-align: right;\n",
       "    }\n",
       "</style>\n",
       "<table border=\"1\" class=\"dataframe\">\n",
       "  <thead>\n",
       "    <tr style=\"text-align: right;\">\n",
       "      <th></th>\n",
       "      <th>filename</th>\n",
       "      <th>length</th>\n",
       "      <th>chroma_stft_mean</th>\n",
       "      <th>chroma_stft_var</th>\n",
       "      <th>rms_mean</th>\n",
       "      <th>rms_var</th>\n",
       "      <th>spectral_centroid_mean</th>\n",
       "      <th>spectral_centroid_var</th>\n",
       "      <th>spectral_bandwidth_mean</th>\n",
       "      <th>spectral_bandwidth_var</th>\n",
       "      <th>...</th>\n",
       "      <th>mfcc16_var</th>\n",
       "      <th>mfcc17_mean</th>\n",
       "      <th>mfcc17_var</th>\n",
       "      <th>mfcc18_mean</th>\n",
       "      <th>mfcc18_var</th>\n",
       "      <th>mfcc19_mean</th>\n",
       "      <th>mfcc19_var</th>\n",
       "      <th>mfcc20_mean</th>\n",
       "      <th>mfcc20_var</th>\n",
       "      <th>label</th>\n",
       "    </tr>\n",
       "  </thead>\n",
       "  <tbody>\n",
       "    <tr>\n",
       "      <th>0</th>\n",
       "      <td>blues10.wav</td>\n",
       "      <td>66149</td>\n",
       "      <td>0.335406</td>\n",
       "      <td>0.091048</td>\n",
       "      <td>0.130405</td>\n",
       "      <td>0.003521</td>\n",
       "      <td>1773.065032</td>\n",
       "      <td>167541.63090</td>\n",
       "      <td>1972.744388</td>\n",
       "      <td>117335.77160</td>\n",
       "      <td>...</td>\n",
       "      <td>39.687145</td>\n",
       "      <td>-3.241280</td>\n",
       "      <td>36.488243</td>\n",
       "      <td>0.722209</td>\n",
       "      <td>38.099152</td>\n",
       "      <td>-5.050335</td>\n",
       "      <td>33.618073</td>\n",
       "      <td>-0.243027</td>\n",
       "      <td>43.771767</td>\n",
       "      <td>blues</td>\n",
       "    </tr>\n",
       "    <tr>\n",
       "      <th>1</th>\n",
       "      <td>blues11.wav</td>\n",
       "      <td>66149</td>\n",
       "      <td>0.343065</td>\n",
       "      <td>0.086147</td>\n",
       "      <td>0.112699</td>\n",
       "      <td>0.001450</td>\n",
       "      <td>1816.693777</td>\n",
       "      <td>90525.69087</td>\n",
       "      <td>2010.051501</td>\n",
       "      <td>65671.87567</td>\n",
       "      <td>...</td>\n",
       "      <td>64.748276</td>\n",
       "      <td>-6.055294</td>\n",
       "      <td>40.677654</td>\n",
       "      <td>0.159015</td>\n",
       "      <td>51.264091</td>\n",
       "      <td>-2.837699</td>\n",
       "      <td>97.030830</td>\n",
       "      <td>5.784063</td>\n",
       "      <td>59.943081</td>\n",
       "      <td>blues</td>\n",
       "    </tr>\n",
       "    <tr>\n",
       "      <th>2</th>\n",
       "      <td>blues12.wav</td>\n",
       "      <td>66149</td>\n",
       "      <td>0.346815</td>\n",
       "      <td>0.092243</td>\n",
       "      <td>0.132003</td>\n",
       "      <td>0.004620</td>\n",
       "      <td>1788.539719</td>\n",
       "      <td>111407.43760</td>\n",
       "      <td>2084.565132</td>\n",
       "      <td>75124.92172</td>\n",
       "      <td>...</td>\n",
       "      <td>67.336563</td>\n",
       "      <td>-1.768610</td>\n",
       "      <td>28.348579</td>\n",
       "      <td>2.378768</td>\n",
       "      <td>45.717648</td>\n",
       "      <td>-1.938424</td>\n",
       "      <td>53.050835</td>\n",
       "      <td>2.517375</td>\n",
       "      <td>33.105122</td>\n",
       "      <td>blues</td>\n",
       "    </tr>\n",
       "    <tr>\n",
       "      <th>3</th>\n",
       "      <td>blues13.wav</td>\n",
       "      <td>66149</td>\n",
       "      <td>0.363639</td>\n",
       "      <td>0.086856</td>\n",
       "      <td>0.132565</td>\n",
       "      <td>0.002448</td>\n",
       "      <td>1655.289045</td>\n",
       "      <td>111952.28450</td>\n",
       "      <td>1960.039988</td>\n",
       "      <td>82913.63927</td>\n",
       "      <td>...</td>\n",
       "      <td>47.739452</td>\n",
       "      <td>-3.841155</td>\n",
       "      <td>28.337118</td>\n",
       "      <td>1.218588</td>\n",
       "      <td>34.770935</td>\n",
       "      <td>-3.580352</td>\n",
       "      <td>50.836224</td>\n",
       "      <td>3.630866</td>\n",
       "      <td>32.023678</td>\n",
       "      <td>blues</td>\n",
       "    </tr>\n",
       "    <tr>\n",
       "      <th>4</th>\n",
       "      <td>blues14.wav</td>\n",
       "      <td>66149</td>\n",
       "      <td>0.335579</td>\n",
       "      <td>0.088129</td>\n",
       "      <td>0.143289</td>\n",
       "      <td>0.001701</td>\n",
       "      <td>1630.656199</td>\n",
       "      <td>79667.26765</td>\n",
       "      <td>1948.503884</td>\n",
       "      <td>60204.02027</td>\n",
       "      <td>...</td>\n",
       "      <td>30.336359</td>\n",
       "      <td>0.664582</td>\n",
       "      <td>45.880913</td>\n",
       "      <td>1.689446</td>\n",
       "      <td>51.363583</td>\n",
       "      <td>-3.392489</td>\n",
       "      <td>26.738789</td>\n",
       "      <td>0.536961</td>\n",
       "      <td>29.146694</td>\n",
       "      <td>blues</td>\n",
       "    </tr>\n",
       "  </tbody>\n",
       "</table>\n",
       "<p>5 rows × 60 columns</p>\n",
       "</div>\n",
       "      <button class=\"colab-df-convert\" onclick=\"convertToInteractive('df-82fe3ace-b38b-487a-9d8a-ef4a2e9a1f99')\"\n",
       "              title=\"Convert this dataframe to an interactive table.\"\n",
       "              style=\"display:none;\">\n",
       "        \n",
       "  <svg xmlns=\"http://www.w3.org/2000/svg\" height=\"24px\"viewBox=\"0 0 24 24\"\n",
       "       width=\"24px\">\n",
       "    <path d=\"M0 0h24v24H0V0z\" fill=\"none\"/>\n",
       "    <path d=\"M18.56 5.44l.94 2.06.94-2.06 2.06-.94-2.06-.94-.94-2.06-.94 2.06-2.06.94zm-11 1L8.5 8.5l.94-2.06 2.06-.94-2.06-.94L8.5 2.5l-.94 2.06-2.06.94zm10 10l.94 2.06.94-2.06 2.06-.94-2.06-.94-.94-2.06-.94 2.06-2.06.94z\"/><path d=\"M17.41 7.96l-1.37-1.37c-.4-.4-.92-.59-1.43-.59-.52 0-1.04.2-1.43.59L10.3 9.45l-7.72 7.72c-.78.78-.78 2.05 0 2.83L4 21.41c.39.39.9.59 1.41.59.51 0 1.02-.2 1.41-.59l7.78-7.78 2.81-2.81c.8-.78.8-2.07 0-2.86zM5.41 20L4 18.59l7.72-7.72 1.47 1.35L5.41 20z\"/>\n",
       "  </svg>\n",
       "      </button>\n",
       "      \n",
       "  <style>\n",
       "    .colab-df-container {\n",
       "      display:flex;\n",
       "      flex-wrap:wrap;\n",
       "      gap: 12px;\n",
       "    }\n",
       "\n",
       "    .colab-df-convert {\n",
       "      background-color: #E8F0FE;\n",
       "      border: none;\n",
       "      border-radius: 50%;\n",
       "      cursor: pointer;\n",
       "      display: none;\n",
       "      fill: #1967D2;\n",
       "      height: 32px;\n",
       "      padding: 0 0 0 0;\n",
       "      width: 32px;\n",
       "    }\n",
       "\n",
       "    .colab-df-convert:hover {\n",
       "      background-color: #E2EBFA;\n",
       "      box-shadow: 0px 1px 2px rgba(60, 64, 67, 0.3), 0px 1px 3px 1px rgba(60, 64, 67, 0.15);\n",
       "      fill: #174EA6;\n",
       "    }\n",
       "\n",
       "    [theme=dark] .colab-df-convert {\n",
       "      background-color: #3B4455;\n",
       "      fill: #D2E3FC;\n",
       "    }\n",
       "\n",
       "    [theme=dark] .colab-df-convert:hover {\n",
       "      background-color: #434B5C;\n",
       "      box-shadow: 0px 1px 3px 1px rgba(0, 0, 0, 0.15);\n",
       "      filter: drop-shadow(0px 1px 2px rgba(0, 0, 0, 0.3));\n",
       "      fill: #FFFFFF;\n",
       "    }\n",
       "  </style>\n",
       "\n",
       "      <script>\n",
       "        const buttonEl =\n",
       "          document.querySelector('#df-82fe3ace-b38b-487a-9d8a-ef4a2e9a1f99 button.colab-df-convert');\n",
       "        buttonEl.style.display =\n",
       "          google.colab.kernel.accessAllowed ? 'block' : 'none';\n",
       "\n",
       "        async function convertToInteractive(key) {\n",
       "          const element = document.querySelector('#df-82fe3ace-b38b-487a-9d8a-ef4a2e9a1f99');\n",
       "          const dataTable =\n",
       "            await google.colab.kernel.invokeFunction('convertToInteractive',\n",
       "                                                     [key], {});\n",
       "          if (!dataTable) return;\n",
       "\n",
       "          const docLinkHtml = 'Like what you see? Visit the ' +\n",
       "            '<a target=\"_blank\" href=https://colab.research.google.com/notebooks/data_table.ipynb>data table notebook</a>'\n",
       "            + ' to learn more about interactive tables.';\n",
       "          element.innerHTML = '';\n",
       "          dataTable['output_type'] = 'display_data';\n",
       "          await google.colab.output.renderOutput(dataTable, element);\n",
       "          const docLink = document.createElement('div');\n",
       "          docLink.innerHTML = docLinkHtml;\n",
       "          element.appendChild(docLink);\n",
       "        }\n",
       "      </script>\n",
       "    </div>\n",
       "  </div>\n",
       "  "
      ],
      "text/plain": [
       "      filename  length  chroma_stft_mean  chroma_stft_var  rms_mean   rms_var  \\\n",
       "0  blues10.wav   66149          0.335406         0.091048  0.130405  0.003521   \n",
       "1  blues11.wav   66149          0.343065         0.086147  0.112699  0.001450   \n",
       "2  blues12.wav   66149          0.346815         0.092243  0.132003  0.004620   \n",
       "3  blues13.wav   66149          0.363639         0.086856  0.132565  0.002448   \n",
       "4  blues14.wav   66149          0.335579         0.088129  0.143289  0.001701   \n",
       "\n",
       "   spectral_centroid_mean  spectral_centroid_var  spectral_bandwidth_mean  \\\n",
       "0             1773.065032           167541.63090              1972.744388   \n",
       "1             1816.693777            90525.69087              2010.051501   \n",
       "2             1788.539719           111407.43760              2084.565132   \n",
       "3             1655.289045           111952.28450              1960.039988   \n",
       "4             1630.656199            79667.26765              1948.503884   \n",
       "\n",
       "   spectral_bandwidth_var  ...  mfcc16_var  mfcc17_mean  mfcc17_var  \\\n",
       "0            117335.77160  ...   39.687145    -3.241280   36.488243   \n",
       "1             65671.87567  ...   64.748276    -6.055294   40.677654   \n",
       "2             75124.92172  ...   67.336563    -1.768610   28.348579   \n",
       "3             82913.63927  ...   47.739452    -3.841155   28.337118   \n",
       "4             60204.02027  ...   30.336359     0.664582   45.880913   \n",
       "\n",
       "   mfcc18_mean  mfcc18_var  mfcc19_mean  mfcc19_var  mfcc20_mean  mfcc20_var  \\\n",
       "0     0.722209   38.099152    -5.050335   33.618073    -0.243027   43.771767   \n",
       "1     0.159015   51.264091    -2.837699   97.030830     5.784063   59.943081   \n",
       "2     2.378768   45.717648    -1.938424   53.050835     2.517375   33.105122   \n",
       "3     1.218588   34.770935    -3.580352   50.836224     3.630866   32.023678   \n",
       "4     1.689446   51.363583    -3.392489   26.738789     0.536961   29.146694   \n",
       "\n",
       "   label  \n",
       "0  blues  \n",
       "1  blues  \n",
       "2  blues  \n",
       "3  blues  \n",
       "4  blues  \n",
       "\n",
       "[5 rows x 60 columns]"
      ]
     },
     "execution_count": 8,
     "metadata": {},
     "output_type": "execute_result"
    }
   ],
   "source": [
    "audio_dataset_path='/content/drive/MyDrive/dataset/Data/audio3sec'\n",
    "metadata=pd.read_csv('/content/drive/MyDrive/dataset/Data/audio3sec/features_3_sec.csv')\n",
    "metadata.head()"
   ]
  },
  {
   "cell_type": "code",
   "execution_count": 9,
   "metadata": {
    "id": "CmIRBtN3zD5H"
   },
   "outputs": [],
   "source": [
    "def features_extractor(file):\n",
    "    audio, sample_rate = librosa.load(file_name, res_type='kaiser_fast') \n",
    "    mfccs_features = librosa.feature.mfcc(y=audio, sr=sample_rate, n_mfcc=40)\n",
    "    mfccs_scaled_features = np.mean(mfccs_features.T,axis=0)\n",
    "    \n",
    "    return mfccs_scaled_features"
   ]
  },
  {
   "cell_type": "code",
   "execution_count": 11,
   "metadata": {
    "colab": {
     "base_uri": "https://localhost:8080/"
    },
    "id": "TPVSgXMxzHuq",
    "outputId": "00fc1030-aea8-4ab5-fb5d-22f401e8daaa"
   },
   "outputs": [
    {
     "name": "stderr",
     "output_type": "stream",
     "text": [
      "1357it [07:08,  3.07it/s]/usr/local/lib/python3.7/dist-packages/librosa/core/audio.py:165: UserWarning: PySoundFile failed. Trying audioread instead.\n",
      "  warnings.warn(\"PySoundFile failed. Trying audioread instead.\")\n",
      "1358it [07:08,  2.13it/s]"
     ]
    },
    {
     "name": "stdout",
     "output_type": "stream",
     "text": [
      "Error: \n"
     ]
    },
    {
     "name": "stderr",
     "output_type": "stream",
     "text": [
      "9990it [39:18,  4.24it/s]\n"
     ]
    }
   ],
   "source": [
    "from tqdm import tqdm\n",
    "### Now we iterate through every audio file and extract features \n",
    "### using Mel-Frequency Cepstral Coefficients\n",
    "with tf.device('/device:GPU:0'):\n",
    "  extracted_features=[]\n",
    "  for index_num,row in tqdm(metadata.iterrows()):\n",
    "    try:\n",
    "        final_class_labels=row[\"label\"]\n",
    "        file_name = os.path.join(os.path.abspath(audio_dataset_path), final_class_labels+'/',str(row[\"filename\"]))    \n",
    "        data=features_extractor(file_name)\n",
    "        extracted_features.append([data,final_class_labels])\n",
    "    except Exception as e:\n",
    "        print(f\"Error: {e}\")\n",
    "        continue"
   ]
  },
  {
   "cell_type": "code",
   "execution_count": 12,
   "metadata": {
    "colab": {
     "base_uri": "https://localhost:8080/",
     "height": 206
    },
    "id": "qeu6g0SN82Aa",
    "outputId": "b9df8840-ee15-4051-e813-f610ddb29076"
   },
   "outputs": [
    {
     "data": {
      "text/html": [
       "\n",
       "  <div id=\"df-f6090ee6-c37b-4f89-b83f-1a717ea72fbf\">\n",
       "    <div class=\"colab-df-container\">\n",
       "      <div>\n",
       "<style scoped>\n",
       "    .dataframe tbody tr th:only-of-type {\n",
       "        vertical-align: middle;\n",
       "    }\n",
       "\n",
       "    .dataframe tbody tr th {\n",
       "        vertical-align: top;\n",
       "    }\n",
       "\n",
       "    .dataframe thead th {\n",
       "        text-align: right;\n",
       "    }\n",
       "</style>\n",
       "<table border=\"1\" class=\"dataframe\">\n",
       "  <thead>\n",
       "    <tr style=\"text-align: right;\">\n",
       "      <th></th>\n",
       "      <th>feature</th>\n",
       "      <th>class</th>\n",
       "    </tr>\n",
       "  </thead>\n",
       "  <tbody>\n",
       "    <tr>\n",
       "      <th>0</th>\n",
       "      <td>[-227.82014, 157.88956, 5.621353, 25.875154, 7...</td>\n",
       "      <td>blues</td>\n",
       "    </tr>\n",
       "    <tr>\n",
       "      <th>1</th>\n",
       "      <td>[-217.48514, 158.84308, -2.4046838, 31.076023,...</td>\n",
       "      <td>blues</td>\n",
       "    </tr>\n",
       "    <tr>\n",
       "      <th>2</th>\n",
       "      <td>[-218.46448, 164.7398, 0.6411452, 24.85649, 4....</td>\n",
       "      <td>blues</td>\n",
       "    </tr>\n",
       "    <tr>\n",
       "      <th>3</th>\n",
       "      <td>[-196.74341, 150.91875, 8.372801, 28.600815, -...</td>\n",
       "      <td>blues</td>\n",
       "    </tr>\n",
       "    <tr>\n",
       "      <th>4</th>\n",
       "      <td>[-196.39543, 146.37524, 2.3922293, 21.718582, ...</td>\n",
       "      <td>blues</td>\n",
       "    </tr>\n",
       "  </tbody>\n",
       "</table>\n",
       "</div>\n",
       "      <button class=\"colab-df-convert\" onclick=\"convertToInteractive('df-f6090ee6-c37b-4f89-b83f-1a717ea72fbf')\"\n",
       "              title=\"Convert this dataframe to an interactive table.\"\n",
       "              style=\"display:none;\">\n",
       "        \n",
       "  <svg xmlns=\"http://www.w3.org/2000/svg\" height=\"24px\"viewBox=\"0 0 24 24\"\n",
       "       width=\"24px\">\n",
       "    <path d=\"M0 0h24v24H0V0z\" fill=\"none\"/>\n",
       "    <path d=\"M18.56 5.44l.94 2.06.94-2.06 2.06-.94-2.06-.94-.94-2.06-.94 2.06-2.06.94zm-11 1L8.5 8.5l.94-2.06 2.06-.94-2.06-.94L8.5 2.5l-.94 2.06-2.06.94zm10 10l.94 2.06.94-2.06 2.06-.94-2.06-.94-.94-2.06-.94 2.06-2.06.94z\"/><path d=\"M17.41 7.96l-1.37-1.37c-.4-.4-.92-.59-1.43-.59-.52 0-1.04.2-1.43.59L10.3 9.45l-7.72 7.72c-.78.78-.78 2.05 0 2.83L4 21.41c.39.39.9.59 1.41.59.51 0 1.02-.2 1.41-.59l7.78-7.78 2.81-2.81c.8-.78.8-2.07 0-2.86zM5.41 20L4 18.59l7.72-7.72 1.47 1.35L5.41 20z\"/>\n",
       "  </svg>\n",
       "      </button>\n",
       "      \n",
       "  <style>\n",
       "    .colab-df-container {\n",
       "      display:flex;\n",
       "      flex-wrap:wrap;\n",
       "      gap: 12px;\n",
       "    }\n",
       "\n",
       "    .colab-df-convert {\n",
       "      background-color: #E8F0FE;\n",
       "      border: none;\n",
       "      border-radius: 50%;\n",
       "      cursor: pointer;\n",
       "      display: none;\n",
       "      fill: #1967D2;\n",
       "      height: 32px;\n",
       "      padding: 0 0 0 0;\n",
       "      width: 32px;\n",
       "    }\n",
       "\n",
       "    .colab-df-convert:hover {\n",
       "      background-color: #E2EBFA;\n",
       "      box-shadow: 0px 1px 2px rgba(60, 64, 67, 0.3), 0px 1px 3px 1px rgba(60, 64, 67, 0.15);\n",
       "      fill: #174EA6;\n",
       "    }\n",
       "\n",
       "    [theme=dark] .colab-df-convert {\n",
       "      background-color: #3B4455;\n",
       "      fill: #D2E3FC;\n",
       "    }\n",
       "\n",
       "    [theme=dark] .colab-df-convert:hover {\n",
       "      background-color: #434B5C;\n",
       "      box-shadow: 0px 1px 3px 1px rgba(0, 0, 0, 0.15);\n",
       "      filter: drop-shadow(0px 1px 2px rgba(0, 0, 0, 0.3));\n",
       "      fill: #FFFFFF;\n",
       "    }\n",
       "  </style>\n",
       "\n",
       "      <script>\n",
       "        const buttonEl =\n",
       "          document.querySelector('#df-f6090ee6-c37b-4f89-b83f-1a717ea72fbf button.colab-df-convert');\n",
       "        buttonEl.style.display =\n",
       "          google.colab.kernel.accessAllowed ? 'block' : 'none';\n",
       "\n",
       "        async function convertToInteractive(key) {\n",
       "          const element = document.querySelector('#df-f6090ee6-c37b-4f89-b83f-1a717ea72fbf');\n",
       "          const dataTable =\n",
       "            await google.colab.kernel.invokeFunction('convertToInteractive',\n",
       "                                                     [key], {});\n",
       "          if (!dataTable) return;\n",
       "\n",
       "          const docLinkHtml = 'Like what you see? Visit the ' +\n",
       "            '<a target=\"_blank\" href=https://colab.research.google.com/notebooks/data_table.ipynb>data table notebook</a>'\n",
       "            + ' to learn more about interactive tables.';\n",
       "          element.innerHTML = '';\n",
       "          dataTable['output_type'] = 'display_data';\n",
       "          await google.colab.output.renderOutput(dataTable, element);\n",
       "          const docLink = document.createElement('div');\n",
       "          docLink.innerHTML = docLinkHtml;\n",
       "          element.appendChild(docLink);\n",
       "        }\n",
       "      </script>\n",
       "    </div>\n",
       "  </div>\n",
       "  "
      ],
      "text/plain": [
       "                                             feature  class\n",
       "0  [-227.82014, 157.88956, 5.621353, 25.875154, 7...  blues\n",
       "1  [-217.48514, 158.84308, -2.4046838, 31.076023,...  blues\n",
       "2  [-218.46448, 164.7398, 0.6411452, 24.85649, 4....  blues\n",
       "3  [-196.74341, 150.91875, 8.372801, 28.600815, -...  blues\n",
       "4  [-196.39543, 146.37524, 2.3922293, 21.718582, ...  blues"
      ]
     },
     "execution_count": 12,
     "metadata": {},
     "output_type": "execute_result"
    }
   ],
   "source": [
    "### converting extracted_features to Pandas dataframe\n",
    "extracted_features_df=pd.DataFrame(extracted_features,columns=['feature','class'])\n",
    "extracted_features_df.head()"
   ]
  },
  {
   "cell_type": "code",
   "execution_count": 13,
   "metadata": {
    "colab": {
     "base_uri": "https://localhost:8080/"
    },
    "id": "IK8J8vkk86BP",
    "outputId": "4fdf8ab4-a9db-4898-dc4a-96854a02e75a"
   },
   "outputs": [
    {
     "data": {
      "text/plain": [
       "blues        1000\n",
       "jazz         1000\n",
       "metal        1000\n",
       "pop          1000\n",
       "reggae       1000\n",
       "disco         999\n",
       "hiphop        998\n",
       "rock          998\n",
       "classical     997\n",
       "country       997\n",
       "Name: class, dtype: int64"
      ]
     },
     "execution_count": 13,
     "metadata": {},
     "output_type": "execute_result"
    }
   ],
   "source": [
    "extracted_features_df['class'].value_counts()"
   ]
  },
  {
   "cell_type": "markdown",
   "metadata": {
    "id": "skqFlr8T9EZG"
   },
   "source": [
    "**# Split the dataset into independent and dependent dataset**"
   ]
  },
  {
   "cell_type": "code",
   "execution_count": 14,
   "metadata": {
    "id": "shJmGa4a9CUj"
   },
   "outputs": [],
   "source": [
    "X=np.array(extracted_features_df['feature'].tolist())\n",
    "y=np.array(extracted_features_df['class'].tolist())"
   ]
  },
  {
   "cell_type": "code",
   "execution_count": 15,
   "metadata": {
    "colab": {
     "base_uri": "https://localhost:8080/"
    },
    "id": "COIYt-FW9NP0",
    "outputId": "31f06194-9f6f-42d1-d157-5a5d0ec2bd59"
   },
   "outputs": [
    {
     "data": {
      "text/plain": [
       "(9989, 40)"
      ]
     },
     "execution_count": 15,
     "metadata": {},
     "output_type": "execute_result"
    }
   ],
   "source": [
    "X.shape"
   ]
  },
  {
   "cell_type": "code",
   "execution_count": 16,
   "metadata": {
    "id": "S-7rwrDX9R6v"
   },
   "outputs": [],
   "source": [
    "from tensorflow.keras.utils import to_categorical\n",
    "from sklearn.preprocessing import LabelEncoder\n",
    "labelencoder=LabelEncoder()\n",
    "y=to_categorical(labelencoder.fit_transform(y))"
   ]
  },
  {
   "cell_type": "code",
   "execution_count": 17,
   "metadata": {
    "colab": {
     "base_uri": "https://localhost:8080/"
    },
    "id": "c6UQnXR09VyU",
    "outputId": "12caae82-9127-46af-e308-40583fdbe2ff"
   },
   "outputs": [
    {
     "data": {
      "text/plain": [
       "(9989, 10)"
      ]
     },
     "execution_count": 17,
     "metadata": {},
     "output_type": "execute_result"
    }
   ],
   "source": [
    "y.shape"
   ]
  },
  {
   "cell_type": "markdown",
   "metadata": {
    "id": "IZokHP409bzf"
   },
   "source": [
    "**Train Test Split**"
   ]
  },
  {
   "cell_type": "code",
   "execution_count": 18,
   "metadata": {
    "id": "AowkGWSz9hY-"
   },
   "outputs": [],
   "source": [
    "from sklearn.model_selection import train_test_split\n",
    "X_train,X_test,y_train,y_test=train_test_split(X,y,test_size=0.2,random_state=0)"
   ]
  },
  {
   "cell_type": "code",
   "execution_count": 19,
   "metadata": {
    "colab": {
     "base_uri": "https://localhost:8080/"
    },
    "id": "thS5dpW_9qyk",
    "outputId": "3d61ea2f-d48e-4e00-eeb3-c04ed6ca23d5"
   },
   "outputs": [
    {
     "data": {
      "text/plain": [
       "array([[-9.86666107e+01,  6.65021973e+01,  3.53861122e+01, ...,\n",
       "         1.07659325e-01, -1.23824131e+00, -2.97182012e+00],\n",
       "       [-4.75722084e+01,  1.10487114e+02, -9.08154392e+00, ...,\n",
       "         5.01563311e-01,  1.76592159e+00, -2.21988845e+00],\n",
       "       [-1.60263733e+02,  9.23149796e+01,  1.07087708e+01, ...,\n",
       "        -1.65201807e+00, -2.49871516e+00, -8.08512592e+00],\n",
       "       ...,\n",
       "       [-2.44029865e+01,  6.17069550e+01,  3.43970442e+00, ...,\n",
       "        -4.24983931e+00,  6.62241280e-01, -2.40459776e+00],\n",
       "       [-9.12848282e+01,  1.14458008e+02, -2.93077793e+01, ...,\n",
       "        -7.76490867e-01,  3.50615692e+00,  3.53638434e+00],\n",
       "       [-1.71176987e+02,  1.58066315e+02, -2.46109600e+01, ...,\n",
       "        -1.08679352e+01, -8.99083805e+00,  4.01445293e+00]], dtype=float32)"
      ]
     },
     "execution_count": 19,
     "metadata": {},
     "output_type": "execute_result"
    }
   ],
   "source": [
    "X_train"
   ]
  },
  {
   "cell_type": "code",
   "execution_count": 20,
   "metadata": {
    "colab": {
     "base_uri": "https://localhost:8080/"
    },
    "id": "xEc5v9P-9sqP",
    "outputId": "ffa7c974-1a5b-4153-a822-3dfd8f569980"
   },
   "outputs": [
    {
     "name": "stdout",
     "output_type": "stream",
     "text": [
      "(7991, 40)\n",
      "(1998, 40)\n",
      "(7991, 10)\n",
      "(1998, 10)\n"
     ]
    }
   ],
   "source": [
    "print(X_train.shape)\n",
    "print(X_test.shape)\n",
    "print(y_train.shape)\n",
    "print(y_test.shape)"
   ]
  },
  {
   "cell_type": "markdown",
   "metadata": {
    "id": "Pk7AxpMv9zeU"
   },
   "source": [
    "# MODEL TRAINING"
   ]
  },
  {
   "cell_type": "code",
   "execution_count": 21,
   "metadata": {
    "id": "RlwSpG2w-CX4"
   },
   "outputs": [],
   "source": [
    "import tensorflow as tf\n",
    "from tensorflow.keras.models import Sequential\n",
    "from tensorflow.keras.layers import Dense,Dropout,Activation,Flatten\n",
    "from tensorflow.keras.optimizers import Adam\n",
    "from sklearn import metrics\n",
    "import tensorflow as tf"
   ]
  },
  {
   "cell_type": "code",
   "execution_count": 22,
   "metadata": {
    "id": "nkAOosLr-H-d"
   },
   "outputs": [],
   "source": [
    "### No of classes\n",
    "num_labels=y.shape[1]"
   ]
  },
  {
   "cell_type": "code",
   "execution_count": 23,
   "metadata": {
    "colab": {
     "base_uri": "https://localhost:8080/"
    },
    "id": "-VxFO4w--KWt",
    "outputId": "6504bffe-4e6b-4ff9-9718-16a9583a2680"
   },
   "outputs": [
    {
     "data": {
      "text/plain": [
       "10"
      ]
     },
     "execution_count": 23,
     "metadata": {},
     "output_type": "execute_result"
    }
   ],
   "source": [
    "y.shape[1]"
   ]
  },
  {
   "cell_type": "code",
   "execution_count": 24,
   "metadata": {
    "id": "T9FswNqs-Nkw"
   },
   "outputs": [],
   "source": [
    "model=Sequential()\n",
    "model.add(Dense(1024,input_shape=(40,), activation=\"relu\"))\n",
    "model.add(Dropout(0.3))\n",
    "model.add(Dense(512, activation=\"relu\"))\n",
    "model.add(Dropout(0.3))\n",
    "model.add(Dense(256, activation=\"relu\"))\n",
    "model.add(Dropout(0.3))\n",
    "model.add(Dense(128, activation=\"relu\"))\n",
    "model.add(Dropout(0.3))\n",
    "model.add(Dense(64, activation=\"relu\"))\n",
    "model.add(Dropout(0.3))\n",
    "model.add(Dense(32, activation=\"relu\"))\n",
    "\n",
    "\n",
    "###final layer\n",
    "model.add(Dense(num_labels, activation=\"softmax\"))"
   ]
  },
  {
   "cell_type": "code",
   "execution_count": 25,
   "metadata": {
    "colab": {
     "base_uri": "https://localhost:8080/"
    },
    "id": "-UIJznrG-TqU",
    "outputId": "6424ecc9-5206-4f60-f435-b72c80b495d6"
   },
   "outputs": [
    {
     "name": "stdout",
     "output_type": "stream",
     "text": [
      "Model: \"sequential\"\n",
      "_________________________________________________________________\n",
      "Layer (type)                 Output Shape              Param #   \n",
      "=================================================================\n",
      "dense (Dense)                (None, 1024)              41984     \n",
      "_________________________________________________________________\n",
      "dropout (Dropout)            (None, 1024)              0         \n",
      "_________________________________________________________________\n",
      "dense_1 (Dense)              (None, 512)               524800    \n",
      "_________________________________________________________________\n",
      "dropout_1 (Dropout)          (None, 512)               0         \n",
      "_________________________________________________________________\n",
      "dense_2 (Dense)              (None, 256)               131328    \n",
      "_________________________________________________________________\n",
      "dropout_2 (Dropout)          (None, 256)               0         \n",
      "_________________________________________________________________\n",
      "dense_3 (Dense)              (None, 128)               32896     \n",
      "_________________________________________________________________\n",
      "dropout_3 (Dropout)          (None, 128)               0         \n",
      "_________________________________________________________________\n",
      "dense_4 (Dense)              (None, 64)                8256      \n",
      "_________________________________________________________________\n",
      "dropout_4 (Dropout)          (None, 64)                0         \n",
      "_________________________________________________________________\n",
      "dense_5 (Dense)              (None, 32)                2080      \n",
      "_________________________________________________________________\n",
      "dense_6 (Dense)              (None, 10)                330       \n",
      "=================================================================\n",
      "Total params: 741,674\n",
      "Trainable params: 741,674\n",
      "Non-trainable params: 0\n",
      "_________________________________________________________________\n"
     ]
    }
   ],
   "source": [
    "model.summary()"
   ]
  },
  {
   "cell_type": "code",
   "execution_count": 26,
   "metadata": {
    "id": "AN-sTpv8-Zt9"
   },
   "outputs": [],
   "source": [
    "model.compile(loss='categorical_crossentropy',metrics=['accuracy'],optimizer='adamax')"
   ]
  },
  {
   "cell_type": "code",
   "execution_count": 27,
   "metadata": {
    "id": "IwxYAc3G-bUG"
   },
   "outputs": [],
   "source": [
    "import time\n",
    "t = time.localtime()\n",
    "current_time = time.strftime(\"%H:%M:%S\", t)"
   ]
  },
  {
   "cell_type": "code",
   "execution_count": 28,
   "metadata": {
    "colab": {
     "base_uri": "https://localhost:8080/"
    },
    "id": "01bTMDyv-ddX",
    "outputId": "dbb9dca0-167f-44eb-9fcc-d5e544733cbf"
   },
   "outputs": [
    {
     "name": "stdout",
     "output_type": "stream",
     "text": [
      "Epoch 1/150\n",
      "250/250 [==============================] - 4s 7ms/step - loss: 2.5707 - accuracy: 0.1417 - val_loss: 2.1097 - val_accuracy: 0.2503\n",
      "\n",
      "Epoch 00001: val_loss improved from inf to 2.10973, saving model to saved_models/audio_classification_10:11:14.hdf5\n",
      "Epoch 2/150\n",
      "250/250 [==============================] - 1s 6ms/step - loss: 2.1609 - accuracy: 0.2075 - val_loss: 1.9587 - val_accuracy: 0.3078\n",
      "\n",
      "Epoch 00002: val_loss improved from 2.10973 to 1.95874, saving model to saved_models/audio_classification_10:11:14.hdf5\n",
      "Epoch 3/150\n",
      "250/250 [==============================] - 1s 6ms/step - loss: 2.0251 - accuracy: 0.2718 - val_loss: 1.7936 - val_accuracy: 0.3804\n",
      "\n",
      "Epoch 00003: val_loss improved from 1.95874 to 1.79365, saving model to saved_models/audio_classification_10:11:14.hdf5\n",
      "Epoch 4/150\n",
      "250/250 [==============================] - 2s 6ms/step - loss: 1.8854 - accuracy: 0.3162 - val_loss: 1.6952 - val_accuracy: 0.3644\n",
      "\n",
      "Epoch 00004: val_loss improved from 1.79365 to 1.69515, saving model to saved_models/audio_classification_10:11:14.hdf5\n",
      "Epoch 5/150\n",
      "250/250 [==============================] - 1s 6ms/step - loss: 1.8045 - accuracy: 0.3398 - val_loss: 1.6541 - val_accuracy: 0.3849\n",
      "\n",
      "Epoch 00005: val_loss improved from 1.69515 to 1.65409, saving model to saved_models/audio_classification_10:11:14.hdf5\n",
      "Epoch 6/150\n",
      "250/250 [==============================] - 1s 6ms/step - loss: 1.7484 - accuracy: 0.3553 - val_loss: 1.6062 - val_accuracy: 0.3889\n",
      "\n",
      "Epoch 00006: val_loss improved from 1.65409 to 1.60623, saving model to saved_models/audio_classification_10:11:14.hdf5\n",
      "Epoch 7/150\n",
      "250/250 [==============================] - 2s 6ms/step - loss: 1.6839 - accuracy: 0.3791 - val_loss: 1.5483 - val_accuracy: 0.4004\n",
      "\n",
      "Epoch 00007: val_loss improved from 1.60623 to 1.54834, saving model to saved_models/audio_classification_10:11:14.hdf5\n",
      "Epoch 8/150\n",
      "250/250 [==============================] - 1s 6ms/step - loss: 1.6503 - accuracy: 0.3903 - val_loss: 1.4992 - val_accuracy: 0.4234\n",
      "\n",
      "Epoch 00008: val_loss improved from 1.54834 to 1.49915, saving model to saved_models/audio_classification_10:11:14.hdf5\n",
      "Epoch 9/150\n",
      "250/250 [==============================] - 1s 6ms/step - loss: 1.6019 - accuracy: 0.4116 - val_loss: 1.4562 - val_accuracy: 0.4630\n",
      "\n",
      "Epoch 00009: val_loss improved from 1.49915 to 1.45624, saving model to saved_models/audio_classification_10:11:14.hdf5\n",
      "Epoch 10/150\n",
      "250/250 [==============================] - 2s 6ms/step - loss: 1.5446 - accuracy: 0.4302 - val_loss: 1.3946 - val_accuracy: 0.4935\n",
      "\n",
      "Epoch 00010: val_loss improved from 1.45624 to 1.39456, saving model to saved_models/audio_classification_10:11:14.hdf5\n",
      "Epoch 11/150\n",
      "250/250 [==============================] - 2s 7ms/step - loss: 1.4970 - accuracy: 0.4534 - val_loss: 1.3547 - val_accuracy: 0.5425\n",
      "\n",
      "Epoch 00011: val_loss improved from 1.39456 to 1.35471, saving model to saved_models/audio_classification_10:11:14.hdf5\n",
      "Epoch 12/150\n",
      "250/250 [==============================] - 1s 6ms/step - loss: 1.4496 - accuracy: 0.4695 - val_loss: 1.3058 - val_accuracy: 0.5501\n",
      "\n",
      "Epoch 00012: val_loss improved from 1.35471 to 1.30583, saving model to saved_models/audio_classification_10:11:14.hdf5\n",
      "Epoch 13/150\n",
      "250/250 [==============================] - 2s 6ms/step - loss: 1.3944 - accuracy: 0.4952 - val_loss: 1.2267 - val_accuracy: 0.5936\n",
      "\n",
      "Epoch 00013: val_loss improved from 1.30583 to 1.22668, saving model to saved_models/audio_classification_10:11:14.hdf5\n",
      "Epoch 14/150\n",
      "250/250 [==============================] - 2s 6ms/step - loss: 1.3337 - accuracy: 0.5283 - val_loss: 1.1779 - val_accuracy: 0.6046\n",
      "\n",
      "Epoch 00014: val_loss improved from 1.22668 to 1.17788, saving model to saved_models/audio_classification_10:11:14.hdf5\n",
      "Epoch 15/150\n",
      "250/250 [==============================] - 2s 7ms/step - loss: 1.2756 - accuracy: 0.5491 - val_loss: 1.1026 - val_accuracy: 0.6421\n",
      "\n",
      "Epoch 00015: val_loss improved from 1.17788 to 1.10264, saving model to saved_models/audio_classification_10:11:14.hdf5\n",
      "Epoch 16/150\n",
      "250/250 [==============================] - 1s 6ms/step - loss: 1.2380 - accuracy: 0.5704 - val_loss: 1.0866 - val_accuracy: 0.6366\n",
      "\n",
      "Epoch 00016: val_loss improved from 1.10264 to 1.08659, saving model to saved_models/audio_classification_10:11:14.hdf5\n",
      "Epoch 17/150\n",
      "250/250 [==============================] - 2s 7ms/step - loss: 1.1942 - accuracy: 0.5864 - val_loss: 1.0363 - val_accuracy: 0.6542\n",
      "\n",
      "Epoch 00017: val_loss improved from 1.08659 to 1.03630, saving model to saved_models/audio_classification_10:11:14.hdf5\n",
      "Epoch 18/150\n",
      "250/250 [==============================] - 1s 6ms/step - loss: 1.1456 - accuracy: 0.6029 - val_loss: 0.9703 - val_accuracy: 0.6717\n",
      "\n",
      "Epoch 00018: val_loss improved from 1.03630 to 0.97029, saving model to saved_models/audio_classification_10:11:14.hdf5\n",
      "Epoch 19/150\n",
      "250/250 [==============================] - 1s 6ms/step - loss: 1.1048 - accuracy: 0.6174 - val_loss: 0.9702 - val_accuracy: 0.6867\n",
      "\n",
      "Epoch 00019: val_loss improved from 0.97029 to 0.97021, saving model to saved_models/audio_classification_10:11:14.hdf5\n",
      "Epoch 20/150\n",
      "250/250 [==============================] - 2s 7ms/step - loss: 1.0640 - accuracy: 0.6325 - val_loss: 0.9221 - val_accuracy: 0.6887\n",
      "\n",
      "Epoch 00020: val_loss improved from 0.97021 to 0.92215, saving model to saved_models/audio_classification_10:11:14.hdf5\n",
      "Epoch 21/150\n",
      "250/250 [==============================] - 1s 6ms/step - loss: 1.0270 - accuracy: 0.6438 - val_loss: 0.8975 - val_accuracy: 0.6952\n",
      "\n",
      "Epoch 00021: val_loss improved from 0.92215 to 0.89751, saving model to saved_models/audio_classification_10:11:14.hdf5\n",
      "Epoch 22/150\n",
      "250/250 [==============================] - 1s 6ms/step - loss: 0.9885 - accuracy: 0.6472 - val_loss: 0.8705 - val_accuracy: 0.7192\n",
      "\n",
      "Epoch 00022: val_loss improved from 0.89751 to 0.87047, saving model to saved_models/audio_classification_10:11:14.hdf5\n",
      "Epoch 23/150\n",
      "250/250 [==============================] - 2s 7ms/step - loss: 0.9510 - accuracy: 0.6644 - val_loss: 0.8253 - val_accuracy: 0.7317\n",
      "\n",
      "Epoch 00023: val_loss improved from 0.87047 to 0.82531, saving model to saved_models/audio_classification_10:11:14.hdf5\n",
      "Epoch 24/150\n",
      "250/250 [==============================] - 2s 6ms/step - loss: 0.9138 - accuracy: 0.6849 - val_loss: 0.7986 - val_accuracy: 0.7387\n",
      "\n",
      "Epoch 00024: val_loss improved from 0.82531 to 0.79859, saving model to saved_models/audio_classification_10:11:14.hdf5\n",
      "Epoch 25/150\n",
      "250/250 [==============================] - 2s 6ms/step - loss: 0.8811 - accuracy: 0.6957 - val_loss: 0.8003 - val_accuracy: 0.7417\n",
      "\n",
      "Epoch 00025: val_loss did not improve from 0.79859\n",
      "Epoch 26/150\n",
      "250/250 [==============================] - 2s 6ms/step - loss: 0.8582 - accuracy: 0.7007 - val_loss: 0.7727 - val_accuracy: 0.7593\n",
      "\n",
      "Epoch 00026: val_loss improved from 0.79859 to 0.77269, saving model to saved_models/audio_classification_10:11:14.hdf5\n",
      "Epoch 27/150\n",
      "250/250 [==============================] - 1s 6ms/step - loss: 0.8325 - accuracy: 0.7182 - val_loss: 0.7452 - val_accuracy: 0.7593\n",
      "\n",
      "Epoch 00027: val_loss improved from 0.77269 to 0.74524, saving model to saved_models/audio_classification_10:11:14.hdf5\n",
      "Epoch 28/150\n",
      "250/250 [==============================] - 2s 7ms/step - loss: 0.8121 - accuracy: 0.7219 - val_loss: 0.7384 - val_accuracy: 0.7643\n",
      "\n",
      "Epoch 00028: val_loss improved from 0.74524 to 0.73838, saving model to saved_models/audio_classification_10:11:14.hdf5\n",
      "Epoch 29/150\n",
      "250/250 [==============================] - 2s 6ms/step - loss: 0.7851 - accuracy: 0.7322 - val_loss: 0.7415 - val_accuracy: 0.7643\n",
      "\n",
      "Epoch 00029: val_loss did not improve from 0.73838\n",
      "Epoch 30/150\n",
      "250/250 [==============================] - 1s 6ms/step - loss: 0.7589 - accuracy: 0.7412 - val_loss: 0.6812 - val_accuracy: 0.7798\n",
      "\n",
      "Epoch 00030: val_loss improved from 0.73838 to 0.68119, saving model to saved_models/audio_classification_10:11:14.hdf5\n",
      "Epoch 31/150\n",
      "250/250 [==============================] - 2s 7ms/step - loss: 0.7349 - accuracy: 0.7561 - val_loss: 0.6742 - val_accuracy: 0.7798\n",
      "\n",
      "Epoch 00031: val_loss improved from 0.68119 to 0.67423, saving model to saved_models/audio_classification_10:11:14.hdf5\n",
      "Epoch 32/150\n",
      "250/250 [==============================] - 2s 6ms/step - loss: 0.7091 - accuracy: 0.7600 - val_loss: 0.6527 - val_accuracy: 0.7883\n",
      "\n",
      "Epoch 00032: val_loss improved from 0.67423 to 0.65274, saving model to saved_models/audio_classification_10:11:14.hdf5\n",
      "Epoch 33/150\n",
      "250/250 [==============================] - 1s 6ms/step - loss: 0.6836 - accuracy: 0.7732 - val_loss: 0.6517 - val_accuracy: 0.7893\n",
      "\n",
      "Epoch 00033: val_loss improved from 0.65274 to 0.65167, saving model to saved_models/audio_classification_10:11:14.hdf5\n",
      "Epoch 34/150\n",
      "250/250 [==============================] - 1s 6ms/step - loss: 0.6603 - accuracy: 0.7776 - val_loss: 0.6210 - val_accuracy: 0.8018\n",
      "\n",
      "Epoch 00034: val_loss improved from 0.65167 to 0.62100, saving model to saved_models/audio_classification_10:11:14.hdf5\n",
      "Epoch 35/150\n",
      "250/250 [==============================] - 2s 7ms/step - loss: 0.6322 - accuracy: 0.7895 - val_loss: 0.6111 - val_accuracy: 0.8173\n",
      "\n",
      "Epoch 00035: val_loss improved from 0.62100 to 0.61110, saving model to saved_models/audio_classification_10:11:14.hdf5\n",
      "Epoch 36/150\n",
      "250/250 [==============================] - 2s 7ms/step - loss: 0.6278 - accuracy: 0.7941 - val_loss: 0.5852 - val_accuracy: 0.8143\n",
      "\n",
      "Epoch 00036: val_loss improved from 0.61110 to 0.58516, saving model to saved_models/audio_classification_10:11:14.hdf5\n",
      "Epoch 37/150\n",
      "250/250 [==============================] - 2s 7ms/step - loss: 0.6057 - accuracy: 0.7978 - val_loss: 0.5841 - val_accuracy: 0.8208\n",
      "\n",
      "Epoch 00037: val_loss improved from 0.58516 to 0.58408, saving model to saved_models/audio_classification_10:11:14.hdf5\n",
      "Epoch 38/150\n",
      "250/250 [==============================] - 1s 6ms/step - loss: 0.5889 - accuracy: 0.8027 - val_loss: 0.5725 - val_accuracy: 0.8283\n",
      "\n",
      "Epoch 00038: val_loss improved from 0.58408 to 0.57250, saving model to saved_models/audio_classification_10:11:14.hdf5\n",
      "Epoch 39/150\n",
      "250/250 [==============================] - 2s 7ms/step - loss: 0.5717 - accuracy: 0.8129 - val_loss: 0.5656 - val_accuracy: 0.8263\n",
      "\n",
      "Epoch 00039: val_loss improved from 0.57250 to 0.56561, saving model to saved_models/audio_classification_10:11:14.hdf5\n",
      "Epoch 40/150\n",
      "250/250 [==============================] - 1s 6ms/step - loss: 0.5562 - accuracy: 0.8164 - val_loss: 0.5361 - val_accuracy: 0.8428\n",
      "\n",
      "Epoch 00040: val_loss improved from 0.56561 to 0.53610, saving model to saved_models/audio_classification_10:11:14.hdf5\n",
      "Epoch 41/150\n",
      "250/250 [==============================] - 2s 7ms/step - loss: 0.5466 - accuracy: 0.8224 - val_loss: 0.5501 - val_accuracy: 0.8398\n",
      "\n",
      "Epoch 00041: val_loss did not improve from 0.53610\n",
      "Epoch 42/150\n",
      "250/250 [==============================] - 1s 6ms/step - loss: 0.5109 - accuracy: 0.8344 - val_loss: 0.5393 - val_accuracy: 0.8418\n",
      "\n",
      "Epoch 00042: val_loss did not improve from 0.53610\n",
      "Epoch 43/150\n",
      "250/250 [==============================] - 1s 6ms/step - loss: 0.4964 - accuracy: 0.8407 - val_loss: 0.5134 - val_accuracy: 0.8529\n",
      "\n",
      "Epoch 00043: val_loss improved from 0.53610 to 0.51342, saving model to saved_models/audio_classification_10:11:14.hdf5\n",
      "Epoch 44/150\n",
      "250/250 [==============================] - 2s 7ms/step - loss: 0.4947 - accuracy: 0.8462 - val_loss: 0.5188 - val_accuracy: 0.8483\n",
      "\n",
      "Epoch 00044: val_loss did not improve from 0.51342\n",
      "Epoch 45/150\n",
      "250/250 [==============================] - 2s 7ms/step - loss: 0.4870 - accuracy: 0.8437 - val_loss: 0.4868 - val_accuracy: 0.8554\n",
      "\n",
      "Epoch 00045: val_loss improved from 0.51342 to 0.48684, saving model to saved_models/audio_classification_10:11:14.hdf5\n",
      "Epoch 46/150\n",
      "250/250 [==============================] - 2s 7ms/step - loss: 0.4511 - accuracy: 0.8541 - val_loss: 0.5023 - val_accuracy: 0.8559\n",
      "\n",
      "Epoch 00046: val_loss did not improve from 0.48684\n",
      "Epoch 47/150\n",
      "250/250 [==============================] - 2s 6ms/step - loss: 0.4498 - accuracy: 0.8567 - val_loss: 0.4831 - val_accuracy: 0.8634\n",
      "\n",
      "Epoch 00047: val_loss improved from 0.48684 to 0.48309, saving model to saved_models/audio_classification_10:11:14.hdf5\n",
      "Epoch 48/150\n",
      "250/250 [==============================] - 1s 6ms/step - loss: 0.4294 - accuracy: 0.8608 - val_loss: 0.4840 - val_accuracy: 0.8654\n",
      "\n",
      "Epoch 00048: val_loss did not improve from 0.48309\n",
      "Epoch 49/150\n",
      "250/250 [==============================] - 2s 7ms/step - loss: 0.4148 - accuracy: 0.8744 - val_loss: 0.4767 - val_accuracy: 0.8564\n",
      "\n",
      "Epoch 00049: val_loss improved from 0.48309 to 0.47674, saving model to saved_models/audio_classification_10:11:14.hdf5\n",
      "Epoch 50/150\n",
      "250/250 [==============================] - 2s 7ms/step - loss: 0.4141 - accuracy: 0.8653 - val_loss: 0.4642 - val_accuracy: 0.8674\n",
      "\n",
      "Epoch 00050: val_loss improved from 0.47674 to 0.46420, saving model to saved_models/audio_classification_10:11:14.hdf5\n",
      "Epoch 51/150\n",
      "250/250 [==============================] - 1s 6ms/step - loss: 0.3912 - accuracy: 0.8755 - val_loss: 0.4705 - val_accuracy: 0.8679\n",
      "\n",
      "Epoch 00051: val_loss did not improve from 0.46420\n",
      "Epoch 52/150\n",
      "250/250 [==============================] - 2s 7ms/step - loss: 0.3895 - accuracy: 0.8800 - val_loss: 0.4484 - val_accuracy: 0.8754\n",
      "\n",
      "Epoch 00052: val_loss improved from 0.46420 to 0.44839, saving model to saved_models/audio_classification_10:11:14.hdf5\n",
      "Epoch 53/150\n",
      "250/250 [==============================] - 2s 6ms/step - loss: 0.3751 - accuracy: 0.8805 - val_loss: 0.4546 - val_accuracy: 0.8704\n",
      "\n",
      "Epoch 00053: val_loss did not improve from 0.44839\n",
      "Epoch 54/150\n",
      "250/250 [==============================] - 2s 7ms/step - loss: 0.3616 - accuracy: 0.8851 - val_loss: 0.4368 - val_accuracy: 0.8829\n",
      "\n",
      "Epoch 00054: val_loss improved from 0.44839 to 0.43678, saving model to saved_models/audio_classification_10:11:14.hdf5\n",
      "Epoch 55/150\n",
      "250/250 [==============================] - 2s 7ms/step - loss: 0.3568 - accuracy: 0.8908 - val_loss: 0.4389 - val_accuracy: 0.8794\n",
      "\n",
      "Epoch 00055: val_loss did not improve from 0.43678\n",
      "Epoch 56/150\n",
      "250/250 [==============================] - 2s 7ms/step - loss: 0.3302 - accuracy: 0.8966 - val_loss: 0.4424 - val_accuracy: 0.8819\n",
      "\n",
      "Epoch 00056: val_loss did not improve from 0.43678\n",
      "Epoch 57/150\n",
      "250/250 [==============================] - 2s 6ms/step - loss: 0.3337 - accuracy: 0.8983 - val_loss: 0.4388 - val_accuracy: 0.8809\n",
      "\n",
      "Epoch 00057: val_loss did not improve from 0.43678\n",
      "Epoch 58/150\n",
      "250/250 [==============================] - 2s 6ms/step - loss: 0.3240 - accuracy: 0.9019 - val_loss: 0.4314 - val_accuracy: 0.8824\n",
      "\n",
      "Epoch 00058: val_loss improved from 0.43678 to 0.43135, saving model to saved_models/audio_classification_10:11:14.hdf5\n",
      "Epoch 59/150\n",
      "250/250 [==============================] - 2s 6ms/step - loss: 0.3042 - accuracy: 0.9059 - val_loss: 0.4196 - val_accuracy: 0.8864\n",
      "\n",
      "Epoch 00059: val_loss improved from 0.43135 to 0.41957, saving model to saved_models/audio_classification_10:11:14.hdf5\n",
      "Epoch 60/150\n",
      "250/250 [==============================] - 2s 7ms/step - loss: 0.3029 - accuracy: 0.9029 - val_loss: 0.4242 - val_accuracy: 0.8914\n",
      "\n",
      "Epoch 00060: val_loss did not improve from 0.41957\n",
      "Epoch 61/150\n",
      "250/250 [==============================] - 2s 6ms/step - loss: 0.2969 - accuracy: 0.9035 - val_loss: 0.4204 - val_accuracy: 0.8929\n",
      "\n",
      "Epoch 00061: val_loss did not improve from 0.41957\n",
      "Epoch 62/150\n",
      "250/250 [==============================] - 2s 7ms/step - loss: 0.2983 - accuracy: 0.9070 - val_loss: 0.4090 - val_accuracy: 0.8924\n",
      "\n",
      "Epoch 00062: val_loss improved from 0.41957 to 0.40897, saving model to saved_models/audio_classification_10:11:14.hdf5\n",
      "Epoch 63/150\n",
      "250/250 [==============================] - 1s 6ms/step - loss: 0.2819 - accuracy: 0.9113 - val_loss: 0.3993 - val_accuracy: 0.8934\n",
      "\n",
      "Epoch 00063: val_loss improved from 0.40897 to 0.39926, saving model to saved_models/audio_classification_10:11:14.hdf5\n",
      "Epoch 64/150\n",
      "250/250 [==============================] - 1s 6ms/step - loss: 0.2923 - accuracy: 0.9099 - val_loss: 0.4010 - val_accuracy: 0.8939\n",
      "\n",
      "Epoch 00064: val_loss did not improve from 0.39926\n",
      "Epoch 65/150\n",
      "250/250 [==============================] - 1s 6ms/step - loss: 0.2690 - accuracy: 0.9184 - val_loss: 0.3940 - val_accuracy: 0.8949\n",
      "\n",
      "Epoch 00065: val_loss improved from 0.39926 to 0.39395, saving model to saved_models/audio_classification_10:11:14.hdf5\n",
      "Epoch 66/150\n",
      "250/250 [==============================] - 2s 6ms/step - loss: 0.2621 - accuracy: 0.9193 - val_loss: 0.3965 - val_accuracy: 0.8984\n",
      "\n",
      "Epoch 00066: val_loss did not improve from 0.39395\n",
      "Epoch 67/150\n",
      "250/250 [==============================] - 2s 6ms/step - loss: 0.2520 - accuracy: 0.9203 - val_loss: 0.3980 - val_accuracy: 0.8999\n",
      "\n",
      "Epoch 00067: val_loss did not improve from 0.39395\n",
      "Epoch 68/150\n",
      "250/250 [==============================] - 2s 7ms/step - loss: 0.2469 - accuracy: 0.9243 - val_loss: 0.3992 - val_accuracy: 0.8974\n",
      "\n",
      "Epoch 00068: val_loss did not improve from 0.39395\n",
      "Epoch 69/150\n",
      "250/250 [==============================] - 1s 6ms/step - loss: 0.2442 - accuracy: 0.9227 - val_loss: 0.4004 - val_accuracy: 0.8989\n",
      "\n",
      "Epoch 00069: val_loss did not improve from 0.39395\n",
      "Epoch 70/150\n",
      "250/250 [==============================] - 1s 6ms/step - loss: 0.2526 - accuracy: 0.9255 - val_loss: 0.3932 - val_accuracy: 0.9009\n",
      "\n",
      "Epoch 00070: val_loss improved from 0.39395 to 0.39315, saving model to saved_models/audio_classification_10:11:14.hdf5\n",
      "Epoch 71/150\n",
      "250/250 [==============================] - 2s 6ms/step - loss: 0.2315 - accuracy: 0.9279 - val_loss: 0.4217 - val_accuracy: 0.8959\n",
      "\n",
      "Epoch 00071: val_loss did not improve from 0.39315\n",
      "Epoch 72/150\n",
      "250/250 [==============================] - 2s 7ms/step - loss: 0.2267 - accuracy: 0.9313 - val_loss: 0.4007 - val_accuracy: 0.8984\n",
      "\n",
      "Epoch 00072: val_loss did not improve from 0.39315\n",
      "Epoch 73/150\n",
      "250/250 [==============================] - 2s 7ms/step - loss: 0.2170 - accuracy: 0.9317 - val_loss: 0.3981 - val_accuracy: 0.8944\n",
      "\n",
      "Epoch 00073: val_loss did not improve from 0.39315\n",
      "Epoch 74/150\n",
      "250/250 [==============================] - 1s 6ms/step - loss: 0.2222 - accuracy: 0.9314 - val_loss: 0.3978 - val_accuracy: 0.9039\n",
      "\n",
      "Epoch 00074: val_loss did not improve from 0.39315\n",
      "Epoch 75/150\n",
      "250/250 [==============================] - 2s 6ms/step - loss: 0.2216 - accuracy: 0.9297 - val_loss: 0.4172 - val_accuracy: 0.9024\n",
      "\n",
      "Epoch 00075: val_loss did not improve from 0.39315\n",
      "Epoch 76/150\n",
      "250/250 [==============================] - 1s 6ms/step - loss: 0.2090 - accuracy: 0.9386 - val_loss: 0.3874 - val_accuracy: 0.9034\n",
      "\n",
      "Epoch 00076: val_loss improved from 0.39315 to 0.38736, saving model to saved_models/audio_classification_10:11:14.hdf5\n",
      "Epoch 77/150\n",
      "250/250 [==============================] - 1s 6ms/step - loss: 0.2022 - accuracy: 0.9387 - val_loss: 0.3809 - val_accuracy: 0.9044\n",
      "\n",
      "Epoch 00077: val_loss improved from 0.38736 to 0.38087, saving model to saved_models/audio_classification_10:11:14.hdf5\n",
      "Epoch 78/150\n",
      "250/250 [==============================] - 1s 6ms/step - loss: 0.2098 - accuracy: 0.9379 - val_loss: 0.3867 - val_accuracy: 0.9054\n",
      "\n",
      "Epoch 00078: val_loss did not improve from 0.38087\n",
      "Epoch 79/150\n",
      "250/250 [==============================] - 2s 7ms/step - loss: 0.2035 - accuracy: 0.9382 - val_loss: 0.3859 - val_accuracy: 0.9059\n",
      "\n",
      "Epoch 00079: val_loss did not improve from 0.38087\n",
      "Epoch 80/150\n",
      "250/250 [==============================] - 1s 6ms/step - loss: 0.2024 - accuracy: 0.9372 - val_loss: 0.3830 - val_accuracy: 0.9049\n",
      "\n",
      "Epoch 00080: val_loss did not improve from 0.38087\n",
      "Epoch 81/150\n",
      "250/250 [==============================] - 1s 6ms/step - loss: 0.1880 - accuracy: 0.9389 - val_loss: 0.3882 - val_accuracy: 0.9064\n",
      "\n",
      "Epoch 00081: val_loss did not improve from 0.38087\n",
      "Epoch 82/150\n",
      "250/250 [==============================] - 1s 6ms/step - loss: 0.1944 - accuracy: 0.9392 - val_loss: 0.3690 - val_accuracy: 0.9079\n",
      "\n",
      "Epoch 00082: val_loss improved from 0.38087 to 0.36900, saving model to saved_models/audio_classification_10:11:14.hdf5\n",
      "Epoch 83/150\n",
      "250/250 [==============================] - 1s 6ms/step - loss: 0.1849 - accuracy: 0.9449 - val_loss: 0.3689 - val_accuracy: 0.9104\n",
      "\n",
      "Epoch 00083: val_loss improved from 0.36900 to 0.36889, saving model to saved_models/audio_classification_10:11:14.hdf5\n",
      "Epoch 84/150\n",
      "250/250 [==============================] - 1s 6ms/step - loss: 0.1796 - accuracy: 0.9466 - val_loss: 0.3788 - val_accuracy: 0.9124\n",
      "\n",
      "Epoch 00084: val_loss did not improve from 0.36889\n",
      "Epoch 85/150\n",
      "250/250 [==============================] - 2s 6ms/step - loss: 0.1902 - accuracy: 0.9428 - val_loss: 0.3748 - val_accuracy: 0.9089\n",
      "\n",
      "Epoch 00085: val_loss did not improve from 0.36889\n",
      "Epoch 86/150\n",
      "250/250 [==============================] - 2s 7ms/step - loss: 0.1758 - accuracy: 0.9459 - val_loss: 0.3639 - val_accuracy: 0.9104\n",
      "\n",
      "Epoch 00086: val_loss improved from 0.36889 to 0.36390, saving model to saved_models/audio_classification_10:11:14.hdf5\n",
      "Epoch 87/150\n",
      "250/250 [==============================] - 2s 7ms/step - loss: 0.1745 - accuracy: 0.9492 - val_loss: 0.3495 - val_accuracy: 0.9189\n",
      "\n",
      "Epoch 00087: val_loss improved from 0.36390 to 0.34953, saving model to saved_models/audio_classification_10:11:14.hdf5\n",
      "Epoch 88/150\n",
      "250/250 [==============================] - 2s 7ms/step - loss: 0.1657 - accuracy: 0.9492 - val_loss: 0.3583 - val_accuracy: 0.9134\n",
      "\n",
      "Epoch 00088: val_loss did not improve from 0.34953\n",
      "Epoch 89/150\n",
      "250/250 [==============================] - 2s 7ms/step - loss: 0.1626 - accuracy: 0.9518 - val_loss: 0.3783 - val_accuracy: 0.9089\n",
      "\n",
      "Epoch 00089: val_loss did not improve from 0.34953\n",
      "Epoch 90/150\n",
      "250/250 [==============================] - 2s 7ms/step - loss: 0.1620 - accuracy: 0.9532 - val_loss: 0.3660 - val_accuracy: 0.9179\n",
      "\n",
      "Epoch 00090: val_loss did not improve from 0.34953\n",
      "Epoch 91/150\n",
      "250/250 [==============================] - 1s 6ms/step - loss: 0.1545 - accuracy: 0.9553 - val_loss: 0.3657 - val_accuracy: 0.9124\n",
      "\n",
      "Epoch 00091: val_loss did not improve from 0.34953\n",
      "Epoch 92/150\n",
      "250/250 [==============================] - 2s 7ms/step - loss: 0.1522 - accuracy: 0.9558 - val_loss: 0.3880 - val_accuracy: 0.9094\n",
      "\n",
      "Epoch 00092: val_loss did not improve from 0.34953\n",
      "Epoch 93/150\n",
      "250/250 [==============================] - 2s 6ms/step - loss: 0.1573 - accuracy: 0.9532 - val_loss: 0.4107 - val_accuracy: 0.9034\n",
      "\n",
      "Epoch 00093: val_loss did not improve from 0.34953\n",
      "Epoch 94/150\n",
      "250/250 [==============================] - 2s 7ms/step - loss: 0.1468 - accuracy: 0.9536 - val_loss: 0.3986 - val_accuracy: 0.9109\n",
      "\n",
      "Epoch 00094: val_loss did not improve from 0.34953\n",
      "Epoch 95/150\n",
      "250/250 [==============================] - 1s 6ms/step - loss: 0.1382 - accuracy: 0.9580 - val_loss: 0.3916 - val_accuracy: 0.9039\n",
      "\n",
      "Epoch 00095: val_loss did not improve from 0.34953\n",
      "Epoch 96/150\n",
      "250/250 [==============================] - 2s 7ms/step - loss: 0.1493 - accuracy: 0.9552 - val_loss: 0.3834 - val_accuracy: 0.9139\n",
      "\n",
      "Epoch 00096: val_loss did not improve from 0.34953\n",
      "Epoch 97/150\n",
      "250/250 [==============================] - 1s 6ms/step - loss: 0.1484 - accuracy: 0.9586 - val_loss: 0.3751 - val_accuracy: 0.9149\n",
      "\n",
      "Epoch 00097: val_loss did not improve from 0.34953\n",
      "Epoch 98/150\n",
      "250/250 [==============================] - 2s 7ms/step - loss: 0.1395 - accuracy: 0.9565 - val_loss: 0.3689 - val_accuracy: 0.9174\n",
      "\n",
      "Epoch 00098: val_loss did not improve from 0.34953\n",
      "Epoch 99/150\n",
      "250/250 [==============================] - 2s 7ms/step - loss: 0.1382 - accuracy: 0.9605 - val_loss: 0.3630 - val_accuracy: 0.9189\n",
      "\n",
      "Epoch 00099: val_loss did not improve from 0.34953\n",
      "Epoch 100/150\n",
      "250/250 [==============================] - 2s 6ms/step - loss: 0.1344 - accuracy: 0.9586 - val_loss: 0.3785 - val_accuracy: 0.9154\n",
      "\n",
      "Epoch 00100: val_loss did not improve from 0.34953\n",
      "Epoch 101/150\n",
      "250/250 [==============================] - 2s 7ms/step - loss: 0.1371 - accuracy: 0.9580 - val_loss: 0.3774 - val_accuracy: 0.9154\n",
      "\n",
      "Epoch 00101: val_loss did not improve from 0.34953\n",
      "Epoch 102/150\n",
      "250/250 [==============================] - 2s 7ms/step - loss: 0.1270 - accuracy: 0.9613 - val_loss: 0.4027 - val_accuracy: 0.9089\n",
      "\n",
      "Epoch 00102: val_loss did not improve from 0.34953\n",
      "Epoch 103/150\n",
      "250/250 [==============================] - 1s 6ms/step - loss: 0.1341 - accuracy: 0.9621 - val_loss: 0.3870 - val_accuracy: 0.9109\n",
      "\n",
      "Epoch 00103: val_loss did not improve from 0.34953\n",
      "Epoch 104/150\n",
      "250/250 [==============================] - 2s 7ms/step - loss: 0.1121 - accuracy: 0.9656 - val_loss: 0.3898 - val_accuracy: 0.9159\n",
      "\n",
      "Epoch 00104: val_loss did not improve from 0.34953\n",
      "Epoch 105/150\n",
      "250/250 [==============================] - 1s 6ms/step - loss: 0.1283 - accuracy: 0.9620 - val_loss: 0.4025 - val_accuracy: 0.9129\n",
      "\n",
      "Epoch 00105: val_loss did not improve from 0.34953\n",
      "Epoch 106/150\n",
      "250/250 [==============================] - 2s 6ms/step - loss: 0.1192 - accuracy: 0.9647 - val_loss: 0.3930 - val_accuracy: 0.9174\n",
      "\n",
      "Epoch 00106: val_loss did not improve from 0.34953\n",
      "Epoch 107/150\n",
      "250/250 [==============================] - 1s 6ms/step - loss: 0.1282 - accuracy: 0.9625 - val_loss: 0.3674 - val_accuracy: 0.9199\n",
      "\n",
      "Epoch 00107: val_loss did not improve from 0.34953\n",
      "Epoch 108/150\n",
      "250/250 [==============================] - 1s 6ms/step - loss: 0.1216 - accuracy: 0.9643 - val_loss: 0.3769 - val_accuracy: 0.9209\n",
      "\n",
      "Epoch 00108: val_loss did not improve from 0.34953\n",
      "Epoch 109/150\n",
      "250/250 [==============================] - 1s 6ms/step - loss: 0.1177 - accuracy: 0.9652 - val_loss: 0.3869 - val_accuracy: 0.9204\n",
      "\n",
      "Epoch 00109: val_loss did not improve from 0.34953\n",
      "Epoch 110/150\n",
      "250/250 [==============================] - 1s 6ms/step - loss: 0.1041 - accuracy: 0.9687 - val_loss: 0.3918 - val_accuracy: 0.9219\n",
      "\n",
      "Epoch 00110: val_loss did not improve from 0.34953\n",
      "Epoch 111/150\n",
      "250/250 [==============================] - 2s 7ms/step - loss: 0.1113 - accuracy: 0.9652 - val_loss: 0.3808 - val_accuracy: 0.9189\n",
      "\n",
      "Epoch 00111: val_loss did not improve from 0.34953\n",
      "Epoch 112/150\n",
      "250/250 [==============================] - 2s 7ms/step - loss: 0.1233 - accuracy: 0.9637 - val_loss: 0.3868 - val_accuracy: 0.9184\n",
      "\n",
      "Epoch 00112: val_loss did not improve from 0.34953\n",
      "Epoch 113/150\n",
      "250/250 [==============================] - 2s 7ms/step - loss: 0.1198 - accuracy: 0.9636 - val_loss: 0.3926 - val_accuracy: 0.9214\n",
      "\n",
      "Epoch 00113: val_loss did not improve from 0.34953\n",
      "Epoch 114/150\n",
      "250/250 [==============================] - 2s 7ms/step - loss: 0.1115 - accuracy: 0.9678 - val_loss: 0.3872 - val_accuracy: 0.9209\n",
      "\n",
      "Epoch 00114: val_loss did not improve from 0.34953\n",
      "Epoch 115/150\n",
      "250/250 [==============================] - 2s 6ms/step - loss: 0.1110 - accuracy: 0.9672 - val_loss: 0.3894 - val_accuracy: 0.9174\n",
      "\n",
      "Epoch 00115: val_loss did not improve from 0.34953\n",
      "Epoch 116/150\n",
      "250/250 [==============================] - 2s 6ms/step - loss: 0.1085 - accuracy: 0.9675 - val_loss: 0.3776 - val_accuracy: 0.9189\n",
      "\n",
      "Epoch 00116: val_loss did not improve from 0.34953\n",
      "Epoch 117/150\n",
      "250/250 [==============================] - 2s 7ms/step - loss: 0.1078 - accuracy: 0.9682 - val_loss: 0.4084 - val_accuracy: 0.9154\n",
      "\n",
      "Epoch 00117: val_loss did not improve from 0.34953\n",
      "Epoch 118/150\n",
      "250/250 [==============================] - 2s 6ms/step - loss: 0.1037 - accuracy: 0.9693 - val_loss: 0.3883 - val_accuracy: 0.9219\n",
      "\n",
      "Epoch 00118: val_loss did not improve from 0.34953\n",
      "Epoch 119/150\n",
      "250/250 [==============================] - 2s 6ms/step - loss: 0.1030 - accuracy: 0.9693 - val_loss: 0.3802 - val_accuracy: 0.9174\n",
      "\n",
      "Epoch 00119: val_loss did not improve from 0.34953\n",
      "Epoch 120/150\n",
      "250/250 [==============================] - 2s 6ms/step - loss: 0.0974 - accuracy: 0.9727 - val_loss: 0.3877 - val_accuracy: 0.9194\n",
      "\n",
      "Epoch 00120: val_loss did not improve from 0.34953\n",
      "Epoch 121/150\n",
      "250/250 [==============================] - 2s 6ms/step - loss: 0.1005 - accuracy: 0.9712 - val_loss: 0.4140 - val_accuracy: 0.9164\n",
      "\n",
      "Epoch 00121: val_loss did not improve from 0.34953\n",
      "Epoch 122/150\n",
      "250/250 [==============================] - 2s 6ms/step - loss: 0.1018 - accuracy: 0.9695 - val_loss: 0.4040 - val_accuracy: 0.9119\n",
      "\n",
      "Epoch 00122: val_loss did not improve from 0.34953\n",
      "Epoch 123/150\n",
      "250/250 [==============================] - 2s 6ms/step - loss: 0.0972 - accuracy: 0.9691 - val_loss: 0.4149 - val_accuracy: 0.9174\n",
      "\n",
      "Epoch 00123: val_loss did not improve from 0.34953\n",
      "Epoch 124/150\n",
      "250/250 [==============================] - 2s 6ms/step - loss: 0.1022 - accuracy: 0.9695 - val_loss: 0.3979 - val_accuracy: 0.9199\n",
      "\n",
      "Epoch 00124: val_loss did not improve from 0.34953\n",
      "Epoch 125/150\n",
      "250/250 [==============================] - 2s 6ms/step - loss: 0.1001 - accuracy: 0.9712 - val_loss: 0.3988 - val_accuracy: 0.9164\n",
      "\n",
      "Epoch 00125: val_loss did not improve from 0.34953\n",
      "Epoch 126/150\n",
      "250/250 [==============================] - 2s 6ms/step - loss: 0.1050 - accuracy: 0.9703 - val_loss: 0.3921 - val_accuracy: 0.9189\n",
      "\n",
      "Epoch 00126: val_loss did not improve from 0.34953\n",
      "Epoch 127/150\n",
      "250/250 [==============================] - 2s 7ms/step - loss: 0.0794 - accuracy: 0.9773 - val_loss: 0.4025 - val_accuracy: 0.9224\n",
      "\n",
      "Epoch 00127: val_loss did not improve from 0.34953\n",
      "Epoch 128/150\n",
      "250/250 [==============================] - 2s 6ms/step - loss: 0.1057 - accuracy: 0.9691 - val_loss: 0.3990 - val_accuracy: 0.9189\n",
      "\n",
      "Epoch 00128: val_loss did not improve from 0.34953\n",
      "Epoch 129/150\n",
      "250/250 [==============================] - 2s 6ms/step - loss: 0.0919 - accuracy: 0.9705 - val_loss: 0.3675 - val_accuracy: 0.9239\n",
      "\n",
      "Epoch 00129: val_loss did not improve from 0.34953\n",
      "Epoch 130/150\n",
      "250/250 [==============================] - 1s 6ms/step - loss: 0.0780 - accuracy: 0.9773 - val_loss: 0.3854 - val_accuracy: 0.9219\n",
      "\n",
      "Epoch 00130: val_loss did not improve from 0.34953\n",
      "Epoch 131/150\n",
      "250/250 [==============================] - 1s 6ms/step - loss: 0.0851 - accuracy: 0.9757 - val_loss: 0.3919 - val_accuracy: 0.9179\n",
      "\n",
      "Epoch 00131: val_loss did not improve from 0.34953\n",
      "Epoch 132/150\n",
      "250/250 [==============================] - 2s 6ms/step - loss: 0.0961 - accuracy: 0.9727 - val_loss: 0.3949 - val_accuracy: 0.9149\n",
      "\n",
      "Epoch 00132: val_loss did not improve from 0.34953\n",
      "Epoch 133/150\n",
      "250/250 [==============================] - 2s 6ms/step - loss: 0.0963 - accuracy: 0.9705 - val_loss: 0.3899 - val_accuracy: 0.9194\n",
      "\n",
      "Epoch 00133: val_loss did not improve from 0.34953\n",
      "Epoch 134/150\n",
      "250/250 [==============================] - 2s 7ms/step - loss: 0.0842 - accuracy: 0.9757 - val_loss: 0.3856 - val_accuracy: 0.9219\n",
      "\n",
      "Epoch 00134: val_loss did not improve from 0.34953\n",
      "Epoch 135/150\n",
      "250/250 [==============================] - 1s 6ms/step - loss: 0.0969 - accuracy: 0.9735 - val_loss: 0.3727 - val_accuracy: 0.9259\n",
      "\n",
      "Epoch 00135: val_loss did not improve from 0.34953\n",
      "Epoch 136/150\n",
      "250/250 [==============================] - 2s 6ms/step - loss: 0.0855 - accuracy: 0.9738 - val_loss: 0.3836 - val_accuracy: 0.9184\n",
      "\n",
      "Epoch 00136: val_loss did not improve from 0.34953\n",
      "Epoch 137/150\n",
      "250/250 [==============================] - 2s 6ms/step - loss: 0.0891 - accuracy: 0.9728 - val_loss: 0.3806 - val_accuracy: 0.9209\n",
      "\n",
      "Epoch 00137: val_loss did not improve from 0.34953\n",
      "Epoch 138/150\n",
      "250/250 [==============================] - 2s 6ms/step - loss: 0.1011 - accuracy: 0.9716 - val_loss: 0.3760 - val_accuracy: 0.9194\n",
      "\n",
      "Epoch 00138: val_loss did not improve from 0.34953\n",
      "Epoch 139/150\n",
      "250/250 [==============================] - 2s 7ms/step - loss: 0.0782 - accuracy: 0.9766 - val_loss: 0.4069 - val_accuracy: 0.9169\n",
      "\n",
      "Epoch 00139: val_loss did not improve from 0.34953\n",
      "Epoch 140/150\n",
      "250/250 [==============================] - 2s 7ms/step - loss: 0.0820 - accuracy: 0.9776 - val_loss: 0.3738 - val_accuracy: 0.9244\n",
      "\n",
      "Epoch 00140: val_loss did not improve from 0.34953\n",
      "Epoch 141/150\n",
      "250/250 [==============================] - 2s 6ms/step - loss: 0.0782 - accuracy: 0.9760 - val_loss: 0.3672 - val_accuracy: 0.9229\n",
      "\n",
      "Epoch 00141: val_loss did not improve from 0.34953\n",
      "Epoch 142/150\n",
      "250/250 [==============================] - 2s 6ms/step - loss: 0.0875 - accuracy: 0.9762 - val_loss: 0.3847 - val_accuracy: 0.9214\n",
      "\n",
      "Epoch 00142: val_loss did not improve from 0.34953\n",
      "Epoch 143/150\n",
      "250/250 [==============================] - 2s 7ms/step - loss: 0.0869 - accuracy: 0.9761 - val_loss: 0.3751 - val_accuracy: 0.9244\n",
      "\n",
      "Epoch 00143: val_loss did not improve from 0.34953\n",
      "Epoch 144/150\n",
      "250/250 [==============================] - 2s 7ms/step - loss: 0.0840 - accuracy: 0.9766 - val_loss: 0.3958 - val_accuracy: 0.9169\n",
      "\n",
      "Epoch 00144: val_loss did not improve from 0.34953\n",
      "Epoch 145/150\n",
      "250/250 [==============================] - 2s 6ms/step - loss: 0.0861 - accuracy: 0.9742 - val_loss: 0.3704 - val_accuracy: 0.9259\n",
      "\n",
      "Epoch 00145: val_loss did not improve from 0.34953\n",
      "Epoch 146/150\n",
      "250/250 [==============================] - 2s 6ms/step - loss: 0.0852 - accuracy: 0.9747 - val_loss: 0.3860 - val_accuracy: 0.9244\n",
      "\n",
      "Epoch 00146: val_loss did not improve from 0.34953\n",
      "Epoch 147/150\n",
      "250/250 [==============================] - 2s 6ms/step - loss: 0.0851 - accuracy: 0.9768 - val_loss: 0.3853 - val_accuracy: 0.9209\n",
      "\n",
      "Epoch 00147: val_loss did not improve from 0.34953\n",
      "Epoch 148/150\n",
      "250/250 [==============================] - 2s 7ms/step - loss: 0.0665 - accuracy: 0.9804 - val_loss: 0.3765 - val_accuracy: 0.9274\n",
      "\n",
      "Epoch 00148: val_loss did not improve from 0.34953\n",
      "Epoch 149/150\n",
      "250/250 [==============================] - 2s 6ms/step - loss: 0.0653 - accuracy: 0.9824 - val_loss: 0.3869 - val_accuracy: 0.9239\n",
      "\n",
      "Epoch 00149: val_loss did not improve from 0.34953\n",
      "Epoch 150/150\n",
      "250/250 [==============================] - 2s 7ms/step - loss: 0.0820 - accuracy: 0.9766 - val_loss: 0.3992 - val_accuracy: 0.9239\n",
      "\n",
      "Epoch 00150: val_loss did not improve from 0.34953\n",
      "Training completed in time:  0:04:22.708462\n"
     ]
    }
   ],
   "source": [
    "## Trianing my model\n",
    "from tensorflow.keras.callbacks import ModelCheckpoint\n",
    "from datetime import datetime \n",
    "\n",
    "num_epochs = 150\n",
    "num_batch_size = 32\n",
    "with tf.device('/device:GPU:0'):\n",
    "  checkpointer = ModelCheckpoint(filepath=f'saved_models/audio_classification_{current_time}.hdf5', \n",
    "                               verbose=1, save_best_only=True)\n",
    "  start = datetime.now()\n",
    "  history = model.fit(X_train, y_train, batch_size=num_batch_size, epochs=num_epochs, validation_data=(X_test, y_test), callbacks=[checkpointer], verbose=1)\n",
    "\n",
    "\n",
    "  duration = datetime.now() - start\n",
    "  print(\"Training completed in time: \", duration)"
   ]
  },
  {
   "cell_type": "code",
   "execution_count": 29,
   "metadata": {
    "colab": {
     "base_uri": "https://localhost:8080/"
    },
    "id": "xjmga25pIfS4",
    "outputId": "2ce2739a-0edd-486e-fd5b-f5d261fb8d95"
   },
   "outputs": [
    {
     "data": {
      "text/plain": [
       "[0.3992155194282532, 0.923923909664154]"
      ]
     },
     "execution_count": 29,
     "metadata": {},
     "output_type": "execute_result"
    }
   ],
   "source": [
    "model.evaluate(X_test,y_test,verbose=0)"
   ]
  },
  {
   "cell_type": "code",
   "execution_count": 30,
   "metadata": {
    "colab": {
     "base_uri": "https://localhost:8080/",
     "height": 374
    },
    "id": "QvvIFOk7IisG",
    "outputId": "2ce20d5d-fc47-4311-cf20-d691d34145e6"
   },
   "outputs": [
    {
     "data": {
      "image/png": "[encoded data removed]",
      "text/plain": [
       "<Figure size 864x432 with 1 Axes>"
      ]
     },
     "metadata": {
      "needs_background": "light"
     },
     "output_type": "display_data"
    }
   ],
   "source": [
    "pd.DataFrame(history.history).plot(figsize=(12,6))\n",
    "plt.show()"
   ]
  },
  {
   "cell_type": "code",
   "execution_count": 31,
   "metadata": {
    "colab": {
     "base_uri": "https://localhost:8080/"
    },
    "id": "ZWoKPnp2ItNN",
    "outputId": "fb512976-836e-42e8-d0fd-acbe6e8816f5"
   },
   "outputs": [
    {
     "name": "stderr",
     "output_type": "stream",
     "text": [
      "/usr/local/lib/python3.7/dist-packages/tensorflow/python/keras/engine/sequential.py:455: UserWarning: `model.predict_classes()` is deprecated and will be removed after 2021-01-01. Please use instead:* `np.argmax(model.predict(x), axis=-1)`,   if your model does multi-class classification   (e.g. if it uses a `softmax` last-layer activation).* `(model.predict(x) > 0.5).astype(\"int32\")`,   if your model does binary classification   (e.g. if it uses a `sigmoid` last-layer activation).\n",
      "  warnings.warn('`model.predict_classes()` is deprecated and '\n"
     ]
    },
    {
     "data": {
      "text/plain": [
       "array([5, 9, 3, ..., 5, 6, 8])"
      ]
     },
     "execution_count": 31,
     "metadata": {},
     "output_type": "execute_result"
    }
   ],
   "source": [
    "model.predict_classes(X_test)"
   ]
  },
  {
   "cell_type": "code",
   "execution_count": 32,
   "metadata": {
    "colab": {
     "base_uri": "https://localhost:8080/"
    },
    "id": "H3qs7zXOI1rS",
    "outputId": "75021a6f-4605-4dbd-d77e-8ec0339c3a9e"
   },
   "outputs": [
    {
     "name": "stdout",
     "output_type": "stream",
     "text": [
      "[  9.753618    82.49931    -16.450853    29.127092    -5.7575164\n",
      "  19.375505    -8.292601    15.150669    -8.079973    17.153458\n",
      "  -6.770461    11.973786    -7.5982504    9.422225    -7.3153443\n",
      "   7.264704    -7.9177747    3.610014    -6.8417697    5.4499326\n",
      "  -4.8122063    4.692828    -3.4904563    2.5217721   -1.9015193\n",
      "   2.2441335   -3.317784     3.4899971   -0.35714617   3.391402\n",
      "  -2.3626838   -0.6577446   -2.6911075    1.0892121   -1.938498\n",
      "  -1.4911789   -3.7739813   -1.3837504   -2.6238277   -1.0588251 ]\n",
      "[[  9.753618    82.49931    -16.450853    29.127092    -5.7575164\n",
      "   19.375505    -8.292601    15.150669    -8.079973    17.153458\n",
      "   -6.770461    11.973786    -7.5982504    9.422225    -7.3153443\n",
      "    7.264704    -7.9177747    3.610014    -6.8417697    5.4499326\n",
      "   -4.8122063    4.692828    -3.4904563    2.5217721   -1.9015193\n",
      "    2.2441335   -3.317784     3.4899971   -0.35714617   3.391402\n",
      "   -2.3626838   -0.6577446   -2.6911075    1.0892121   -1.938498\n",
      "   -1.4911789   -3.7739813   -1.3837504   -2.6238277   -1.0588251 ]]\n",
      "(1, 40)\n",
      "[6]\n"
     ]
    },
    {
     "name": "stderr",
     "output_type": "stream",
     "text": [
      "/usr/local/lib/python3.7/dist-packages/tensorflow/python/keras/engine/sequential.py:455: UserWarning: `model.predict_classes()` is deprecated and will be removed after 2021-01-01. Please use instead:* `np.argmax(model.predict(x), axis=-1)`,   if your model does multi-class classification   (e.g. if it uses a `softmax` last-layer activation).* `(model.predict(x) > 0.5).astype(\"int32\")`,   if your model does binary classification   (e.g. if it uses a `sigmoid` last-layer activation).\n",
      "  warnings.warn('`model.predict_classes()` is deprecated and '\n"
     ]
    },
    {
     "data": {
      "text/plain": [
       "array(['metal'], dtype='<U9')"
      ]
     },
     "execution_count": 32,
     "metadata": {},
     "output_type": "execute_result"
    }
   ],
   "source": [
    "filename= \"/content/drive/MyDrive/dataset/Data/Test_audio/Jump-Around_JKSGB-ZMzTU.wav\"\n",
    "audio, sample_rate = librosa.load(filename, res_type='kaiser_fast') \n",
    "mfccs_features = librosa.feature.mfcc(y=audio, sr=sample_rate, n_mfcc=40)\n",
    "mfccs_scaled_features = np.mean(mfccs_features.T,axis=0)\n",
    "print(mfccs_scaled_features)\n",
    "mfccs_scaled_features=mfccs_scaled_features.reshape(1,-1)\n",
    "print(mfccs_scaled_features)\n",
    "print(mfccs_scaled_features.shape)\n",
    "predicted_label=model.predict_classes(mfccs_scaled_features)\n",
    "print(predicted_label)\n",
    "prediction_class = labelencoder.inverse_transform(predicted_label) \n",
    "prediction_class"
   ]
  },
  {
   "cell_type": "code",
   "execution_count": 33,
   "metadata": {
    "colab": {
     "base_uri": "https://localhost:8080/"
    },
    "id": "IG64CYtj4Tml",
    "outputId": "39942587-f8c9-4aed-c4fa-8301514e7bc0"
   },
   "outputs": [
    {
     "name": "stdout",
     "output_type": "stream",
     "text": [
      "[ -5.563918    77.18656    -21.24149     40.914944    -7.433117\n",
      "  22.282171   -10.364257    19.049095   -11.130689    11.937774\n",
      " -10.26192     13.772153    -7.136029     6.185648   -10.239596\n",
      "   7.693042    -9.85925      4.8032026   -6.4695997    5.110403\n",
      "  -9.549495     2.1758633   -4.705404     1.3019085   -6.5057783\n",
      "   0.5128285   -6.2879124    0.45568138  -4.990284     0.16446592\n",
      "  -5.6449785   -0.09309648  -4.101492    -0.28704342  -2.0551212\n",
      "  -0.34217677  -2.775112    -1.1914726   -4.662791    -0.84007484]\n",
      "[[ -5.563918    77.18656    -21.24149     40.914944    -7.433117\n",
      "   22.282171   -10.364257    19.049095   -11.130689    11.937774\n",
      "  -10.26192     13.772153    -7.136029     6.185648   -10.239596\n",
      "    7.693042    -9.85925      4.8032026   -6.4695997    5.110403\n",
      "   -9.549495     2.1758633   -4.705404     1.3019085   -6.5057783\n",
      "    0.5128285   -6.2879124    0.45568138  -4.990284     0.16446592\n",
      "   -5.6449785   -0.09309648  -4.101492    -0.28704342  -2.0551212\n",
      "   -0.34217677  -2.775112    -1.1914726   -4.662791    -0.84007484]]\n",
      "(1, 40)\n",
      "[6]\n"
     ]
    },
    {
     "name": "stderr",
     "output_type": "stream",
     "text": [
      "/usr/local/lib/python3.7/dist-packages/tensorflow/python/keras/engine/sequential.py:455: UserWarning: `model.predict_classes()` is deprecated and will be removed after 2021-01-01. Please use instead:* `np.argmax(model.predict(x), axis=-1)`,   if your model does multi-class classification   (e.g. if it uses a `softmax` last-layer activation).* `(model.predict(x) > 0.5).astype(\"int32\")`,   if your model does binary classification   (e.g. if it uses a `sigmoid` last-layer activation).\n",
      "  warnings.warn('`model.predict_classes()` is deprecated and '\n"
     ]
    },
    {
     "data": {
      "text/plain": [
       "array(['metal'], dtype='<U9')"
      ]
     },
     "execution_count": 33,
     "metadata": {},
     "output_type": "execute_result"
    }
   ],
   "source": [
    "filename= \"/content/drive/MyDrive/dataset/Data/Test_audio/slipknot-psychosocial-official-video-_mp3convert.org_-_1_.wav\"\n",
    "audio, sample_rate = librosa.load(filename, res_type='kaiser_fast') \n",
    "mfccs_features = librosa.feature.mfcc(y=audio, sr=sample_rate, n_mfcc=40)\n",
    "mfccs_scaled_features = np.mean(mfccs_features.T,axis=0)\n",
    "print(mfccs_scaled_features)\n",
    "mfccs_scaled_features=mfccs_scaled_features.reshape(1,-1)\n",
    "print(mfccs_scaled_features)\n",
    "print(mfccs_scaled_features.shape)\n",
    "predicted_label=model.predict_classes(mfccs_scaled_features)\n",
    "print(predicted_label)\n",
    "prediction_class = labelencoder.inverse_transform(predicted_label) \n",
    "prediction_class"
   ]
  }
 ],
 "metadata": {
  "accelerator": "GPU",
  "colab": {
   "collapsed_sections": [],
   "name": "music genre classification with 70eboch",
   "provenance": []
  },
  "kernelspec": {
   "display_name": "Python 3 (ipykernel)",
   "language": "python",
   "name": "python3"
  },
  "language_info": {
   "codemirror_mode": {
    "name": "ipython",
    "version": 3
   },
   "file_extension": ".py",
   "mimetype": "text/x-python",
   "name": "python",
   "nbconvert_exporter": "python",
   "pygments_lexer": "ipython3",
   "version": "3.9.7"
  }
 },
 "nbformat": 4,
 "nbformat_minor": 1
}
